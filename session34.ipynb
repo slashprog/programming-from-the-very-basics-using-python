{
 "cells": [
  {
   "cell_type": "markdown",
   "metadata": {},
   "source": [
    "## Programming From The Very Basics Using Python - Session 34\n",
    "#### File I/O using python\n"
   ]
  },
  {
   "cell_type": "code",
   "execution_count": 8,
   "metadata": {},
   "outputs": [
    {
     "name": "stdout",
     "output_type": "stream",
     "text": [
      "<_io.TextIOWrapper name='README.md' mode='r' encoding='UTF-8'> <class '_io.TextIOWrapper'>\n",
      "In with block: readme_file.closed=False\n",
      "Outside with block: readme_file.closed=True\n"
     ]
    }
   ],
   "source": [
    "# f = open(\"README.md\")\n",
    "with open(\"README.md\") as readme_file:\n",
    "    print(readme_file, type(readme_file))\n",
    "    print(f\"In with block: {readme_file.closed=}\")\n",
    "print(f\"Outside with block: {readme_file.closed=}\")\n",
    "\n"
   ]
  },
  {
   "cell_type": "code",
   "execution_count": 7,
   "metadata": {},
   "outputs": [],
   "source": [
    "f.close()"
   ]
  },
  {
   "cell_type": "code",
   "execution_count": 9,
   "metadata": {},
   "outputs": [
    {
     "name": "stdout",
     "output_type": "stream",
     "text": [
      "# Programming From the Very Basics Using Python\n",
      "This repository hosts the sample code and notebook for \"Programming From The Very Basics Using Python\" video series hosted on YouTube.\n",
      "The video series can be accessed via the YouTube playlist - https://www.youtube.com/playlist?list=PLiQdqP6vf2JFSt8GAVK92zJmLoK-boi8l\n",
      "\n",
      "The video series \"Programming From The Very Basics Using Python\" is live coding tutorial for beginners who wish to learn programming concepts from scratch using Python programming language. This is a slow-paced tutorial series with each video spanning around one to one-and-a-half hour length.\n",
      "\n"
     ]
    }
   ],
   "source": [
    "# Reading small text files\n",
    "with open(\"README.md\") as infile:\n",
    "    contents = infile.read()\n",
    "\n",
    "print(contents)"
   ]
  },
  {
   "cell_type": "code",
   "execution_count": 16,
   "metadata": {},
   "outputs": [
    {
     "name": "stdout",
     "output_type": "stream",
     "text": [
      "<class 'str'>\n",
      "12\n"
     ]
    }
   ],
   "source": [
    "with open(\"LICENSE\") as infile:\n",
    "    data = infile.read()\n",
    "\n",
    "print(type(data))\n",
    "print(data.count(\"is\"))"
   ]
  },
  {
   "cell_type": "code",
   "execution_count": 20,
   "metadata": {},
   "outputs": [
    {
     "name": "stdout",
     "output_type": "stream",
     "text": [
      "<class 'list'>\n",
      "['This is free and unencumbered software released into the public domain.\\n', '\\n', 'Anyone is free to copy, modify, publish, use, compile, sell, or\\n', 'distribute this software, either in source code form or as a compiled\\n', 'binary, for any purpose, commercial or non-commercial, and by any\\n', 'means.\\n', '\\n', 'In jurisdictions that recognize copyright laws, the author or authors\\n', 'of this software dedicate any and all copyright interest in the\\n', 'software to the public domain. We make this dedication for the benefit\\n', 'of the public at large and to the detriment of our heirs and\\n', 'successors. We intend this dedication to be an overt act of\\n', 'relinquishment in perpetuity of all present and future rights to this\\n', 'software under copyright law.\\n', '\\n', 'THE SOFTWARE IS PROVIDED \"AS IS\", WITHOUT WARRANTY OF ANY KIND,\\n', 'EXPRESS OR IMPLIED, INCLUDING BUT NOT LIMITED TO THE WARRANTIES OF\\n', 'MERCHANTABILITY, FITNESS FOR A PARTICULAR PURPOSE AND NONINFRINGEMENT.\\n', 'IN NO EVENT SHALL THE AUTHORS BE LIABLE FOR ANY CLAIM, DAMAGES OR\\n', 'OTHER LIABILITY, WHETHER IN AN ACTION OF CONTRACT, TORT OR OTHERWISE,\\n', 'ARISING FROM, OUT OF OR IN CONNECTION WITH THE SOFTWARE OR THE USE OR\\n', 'OTHER DEALINGS IN THE SOFTWARE.\\n', '\\n', 'For more information, please refer to <https://unlicense.org>\\n']\n",
      "24\n",
      "OTHER LIABILITY, WHETHER IN AN ACTION OF CONTRACT, TORT OR OTHERWISE,\n",
      "\n",
      "ARISING FROM, OUT OF OR IN CONNECTION WITH THE SOFTWARE OR THE USE OR\n",
      "\n",
      "OTHER DEALINGS IN THE SOFTWARE.\n",
      "\n",
      "\n",
      "\n",
      "For more information, please refer to <https://unlicense.org>\n",
      "\n"
     ]
    }
   ],
   "source": [
    "with open(\"LICENSE\") as infile:\n",
    "    lines = infile.readlines()\n",
    "\n",
    "print(type(lines))\n",
    "print(lines)\n",
    "print(len(lines))\n",
    "\n",
    "for i in lines[-5:]:\n",
    "    print(i)\n",
    "\n",
    "\n"
   ]
  },
  {
   "cell_type": "code",
   "execution_count": 22,
   "metadata": {},
   "outputs": [
    {
     "name": "stdout",
     "output_type": "stream",
     "text": [
      "IN NO EVENT SHALL THE AUTHORS BE LIABLE FOR ANY CLAIM, DAMAGES OR\n",
      "OTHER LIABILITY, WHETHER IN AN ACTION OF CONTRACT, TORT OR OTHERWISE,\n",
      "ARISING FROM, OUT OF OR IN CONNECTION WITH THE SOFTWARE OR THE USE OR\n",
      "OTHER DEALINGS IN THE SOFTWARE.\n",
      "For more information, please refer to <https://unlicense.org>\n",
      "\n"
     ]
    }
   ],
   "source": [
    "with open(\"LICENSE\") as infile:\n",
    "    lines = infile.readlines()\n",
    "\n",
    "#for i in lines[-5:]:\n",
    "#    print(i)\n",
    "\n",
    "print(\"\".join([li for li in lines if li.strip()][-5:]))\n",
    "\n",
    "\n"
   ]
  },
  {
   "cell_type": "code",
   "execution_count": 23,
   "metadata": {},
   "outputs": [],
   "source": [
    "infile = open(\"LICENSE\")"
   ]
  },
  {
   "cell_type": "code",
   "execution_count": 33,
   "metadata": {},
   "outputs": [],
   "source": [
    "infile.close()"
   ]
  },
  {
   "cell_type": "code",
   "execution_count": 41,
   "metadata": {},
   "outputs": [
    {
     "name": "stdout",
     "output_type": "stream",
     "text": [
      " 1 This is free and unencumbered software released into the public domain.\n",
      " 2 \n",
      " 3 Anyone is free to copy, modify, publish, use, compile, sell, or\n",
      " 4 distribute this software, either in source code form or as a compiled\n",
      " 5 binary, for any purpose, commercial or non-commercial, and by any\n",
      " 6 means.\n",
      " 7 \n",
      " 8 In jurisdictions that recognize copyright laws, the author or authors\n",
      " 9 of this software dedicate any and all copyright interest in the\n",
      "10 software to the public domain. We make this dedication for the benefit\n",
      "11 of the public at large and to the detriment of our heirs and\n",
      "12 successors. We intend this dedication to be an overt act of\n",
      "13 relinquishment in perpetuity of all present and future rights to this\n",
      "14 software under copyright law.\n",
      "15 \n",
      "16 THE SOFTWARE IS PROVIDED \"AS IS\", WITHOUT WARRANTY OF ANY KIND,\n",
      "17 EXPRESS OR IMPLIED, INCLUDING BUT NOT LIMITED TO THE WARRANTIES OF\n",
      "18 MERCHANTABILITY, FITNESS FOR A PARTICULAR PURPOSE AND NONINFRINGEMENT.\n",
      "19 IN NO EVENT SHALL THE AUTHORS BE LIABLE FOR ANY CLAIM, DAMAGES OR\n",
      "20 OTHER LIABILITY, WHETHER IN AN ACTION OF CONTRACT, TORT OR OTHERWISE,\n",
      "21 ARISING FROM, OUT OF OR IN CONNECTION WITH THE SOFTWARE OR THE USE OR\n",
      "22 OTHER DEALINGS IN THE SOFTWARE.\n",
      "23 \n",
      "24 For more information, please refer to <https://unlicense.org>\n"
     ]
    }
   ],
   "source": [
    "with open(\"LICENSE\") as infile:\n",
    "    lines = infile.readlines()\n",
    "\n",
    "nlines = len(lines)\n",
    "ndigits = len(str(nlines))\n",
    "\n",
    "for i, s in enumerate(lines, 1):\n",
    "    print(f\"{i:{ndigits}} {s}\", end=\"\")"
   ]
  },
  {
   "cell_type": "code",
   "execution_count": 39,
   "metadata": {},
   "outputs": [
    {
     "name": "stdout",
     "output_type": "stream",
     "text": [
      "1520 4\n"
     ]
    }
   ],
   "source": [
    "a = 1520\n",
    "print(a, len(str(a)))"
   ]
  },
  {
   "cell_type": "code",
   "execution_count": 43,
   "metadata": {},
   "outputs": [
    {
     "name": "stdout",
     "output_type": "stream",
     "text": [
      "THIS IS FREE AND UNENCUMBERED SOFTWARE RELEASED INTO THE PUBLIC DOMAIN.\n",
      "\n",
      "ANYONE IS FREE TO COPY, MODIFY, PUBLISH, USE, COMPILE, SELL, OR\n",
      "DISTRIBUTE THIS SOFTWARE, EITHER IN SOURCE CODE FORM OR AS A COMPILED\n",
      "BINARY, FOR ANY PURPOSE, COMMERCIAL OR NON-COMMERCIAL, AND BY ANY\n",
      "MEANS.\n",
      "\n",
      "IN JURISDICTIONS THAT RECOGNIZE COPYRIGHT LAWS, THE AUTHOR OR AUTHORS\n",
      "OF THIS SOFTWARE DEDICATE ANY AND ALL COPYRIGHT INTEREST IN THE\n",
      "SOFTWARE TO THE PUBLIC DOMAIN. WE MAKE THIS DEDICATION FOR THE BENEFIT\n",
      "OF THE PUBLIC AT LARGE AND TO THE DETRIMENT OF OUR HEIRS AND\n",
      "SUCCESSORS. WE INTEND THIS DEDICATION TO BE AN OVERT ACT OF\n",
      "RELINQUISHMENT IN PERPETUITY OF ALL PRESENT AND FUTURE RIGHTS TO THIS\n",
      "SOFTWARE UNDER COPYRIGHT LAW.\n",
      "\n",
      "THE SOFTWARE IS PROVIDED \"AS IS\", WITHOUT WARRANTY OF ANY KIND,\n",
      "EXPRESS OR IMPLIED, INCLUDING BUT NOT LIMITED TO THE WARRANTIES OF\n",
      "MERCHANTABILITY, FITNESS FOR A PARTICULAR PURPOSE AND NONINFRINGEMENT.\n",
      "IN NO EVENT SHALL THE AUTHORS BE LIABLE FOR ANY CLAIM, DAMAGES OR\n",
      "OTHER LIABILITY, WHETHER IN AN ACTION OF CONTRACT, TORT OR OTHERWISE,\n",
      "ARISING FROM, OUT OF OR IN CONNECTION WITH THE SOFTWARE OR THE USE OR\n",
      "OTHER DEALINGS IN THE SOFTWARE.\n",
      "\n",
      "FOR MORE INFORMATION, PLEASE REFER TO <HTTPS://UNLICENSE.ORG>\n"
     ]
    }
   ],
   "source": [
    "# Reading and processing large text files \n",
    "# line-by-line in a memory-efficient manner\n",
    "\n",
    "with open(\"LICENSE\") as infile:\n",
    "    for line in infile:\n",
    "        print(line.upper(), end=\"\")"
   ]
  }
 ],
 "metadata": {
  "kernelspec": {
   "display_name": "base",
   "language": "python",
   "name": "python3"
  },
  "language_info": {
   "codemirror_mode": {
    "name": "ipython",
    "version": 3
   },
   "file_extension": ".py",
   "mimetype": "text/x-python",
   "name": "python",
   "nbconvert_exporter": "python",
   "pygments_lexer": "ipython3",
   "version": "3.11.5"
  }
 },
 "nbformat": 4,
 "nbformat_minor": 2
}
