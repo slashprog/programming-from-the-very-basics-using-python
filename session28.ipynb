{
 "cells": [
  {
   "cell_type": "markdown",
   "metadata": {},
   "source": [
    "## Programming From The Very Basics Using Python - Session 28\n",
    "#### Functions and variable scope\n"
   ]
  },
  {
   "cell_type": "code",
   "execution_count": null,
   "metadata": {},
   "outputs": [],
   "source": [
    "a = 100"
   ]
  },
  {
   "cell_type": "code",
   "execution_count": 1,
   "metadata": {},
   "outputs": [
    {
     "name": "stdout",
     "output_type": "stream",
     "text": [
      "__main__\n"
     ]
    }
   ],
   "source": [
    "print(__name__)"
   ]
  },
  {
   "cell_type": "markdown",
   "metadata": {},
   "source": [
    "##### All definitions within a function body creates a local scope."
   ]
  },
  {
   "cell_type": "markdown",
   "metadata": {},
   "source": [
    "### Pure functions vs Functions with side-effects"
   ]
  },
  {
   "cell_type": "code",
   "execution_count": 3,
   "metadata": {},
   "outputs": [
    {
     "name": "stdout",
     "output_type": "stream",
     "text": [
      "4 9 625\n"
     ]
    }
   ],
   "source": [
    "def square(x):  # This is a simplest example of pure-function\n",
    "    return x*x\n",
    "\n",
    "print(square(2), square(3), square(25))\n"
   ]
  },
  {
   "cell_type": "code",
   "execution_count": 10,
   "metadata": {},
   "outputs": [
    {
     "name": "stdout",
     "output_type": "stream",
     "text": [
      "[4, 25, 49, 9] (2, 5, 7, 3)\n"
     ]
    }
   ],
   "source": [
    "def square_list(num_list): # Even this is also, an example of a pure-function\n",
    "    return [ v*v for v in num_list]\n",
    "\n",
    "\n",
    "a = 2, 5, 7, 3\n",
    "r = square_list(a)\n",
    "print(r, a)\n",
    "\n"
   ]
  },
  {
   "cell_type": "code",
   "execution_count": 9,
   "metadata": {},
   "outputs": [
    {
     "ename": "TypeError",
     "evalue": "'tuple' object does not support item assignment",
     "output_type": "error",
     "traceback": [
      "\u001b[0;31m---------------------------------------------------------------------------\u001b[0m",
      "\u001b[0;31mTypeError\u001b[0m                                 Traceback (most recent call last)",
      "Cell \u001b[0;32mIn[9], line 8\u001b[0m\n\u001b[1;32m      4\u001b[0m     \u001b[38;5;28;01mreturn\u001b[39;00m num_list\n\u001b[1;32m      7\u001b[0m a \u001b[38;5;241m=\u001b[39m (\u001b[38;5;241m2\u001b[39m, \u001b[38;5;241m5\u001b[39m, \u001b[38;5;241m7\u001b[39m, \u001b[38;5;241m3\u001b[39m)\n\u001b[0;32m----> 8\u001b[0m r \u001b[38;5;241m=\u001b[39m square_list(a)\n\u001b[1;32m      9\u001b[0m \u001b[38;5;28mprint\u001b[39m(r, a)\n\u001b[1;32m     11\u001b[0m r \u001b[38;5;241m=\u001b[39m square_list(a)\n",
      "Cell \u001b[0;32mIn[9], line 3\u001b[0m, in \u001b[0;36msquare_list\u001b[0;34m(num_list)\u001b[0m\n\u001b[1;32m      1\u001b[0m \u001b[38;5;28;01mdef\u001b[39;00m \u001b[38;5;21msquare_list\u001b[39m(num_list): \u001b[38;5;66;03m# An example for a function-with-side-effect\u001b[39;00m\n\u001b[1;32m      2\u001b[0m     \u001b[38;5;28;01mfor\u001b[39;00m i, v \u001b[38;5;129;01min\u001b[39;00m \u001b[38;5;28menumerate\u001b[39m(num_list):\n\u001b[0;32m----> 3\u001b[0m         num_list[i] \u001b[38;5;241m=\u001b[39m v\u001b[38;5;241m*\u001b[39mv\n\u001b[1;32m      4\u001b[0m     \u001b[38;5;28;01mreturn\u001b[39;00m num_list\n",
      "\u001b[0;31mTypeError\u001b[0m: 'tuple' object does not support item assignment"
     ]
    }
   ],
   "source": [
    "def square_list(num_list): # An example for a function-with-side-effect\n",
    "    for i, v in enumerate(num_list):\n",
    "        num_list[i] = v*v\n",
    "    return num_list\n",
    "\n",
    "\n",
    "a = (2, 5, 7, 3)\n",
    "r = square_list(a)\n",
    "print(r, a)\n",
    "\n",
    "r = square_list(a)\n",
    "print(r, a)"
   ]
  },
  {
   "cell_type": "markdown",
   "metadata": {},
   "source": [
    "## Programming From The Very Basics Using Python - Session 28a\n",
    "#### Functions and variable scope (contd.)\n"
   ]
  },
  {
   "cell_type": "code",
   "execution_count": 11,
   "metadata": {},
   "outputs": [
    {
     "name": "stdout",
     "output_type": "stream",
     "text": [
      "9 81\n"
     ]
    }
   ],
   "source": [
    "# Flow-control blocks do NOT create their own scope.\n",
    "\n",
    "for i in range(10):\n",
    "    j = i * i\n",
    "\n",
    "print(i, j)"
   ]
  },
  {
   "cell_type": "markdown",
   "metadata": {},
   "source": [
    "Objects are NOT resolved to scope; only identifiers (variable names, function names, class names, module names) do. "
   ]
  },
  {
   "cell_type": "code",
   "execution_count": 13,
   "metadata": {},
   "outputs": [],
   "source": [
    "from company import company\n",
    "\n",
    "hire, fire, show = company(\"Alice\", \"Jonathan\")\n",
    "\n",
    "# The functions - hire, fire, show are interlinked (they share a state)\n",
    "# These are also functions-with-side-effects!"
   ]
  },
  {
   "cell_type": "code",
   "execution_count": 14,
   "metadata": {},
   "outputs": [],
   "source": [
    "hire(\"Alan\")\n",
    "hire(\"Steve\")\n",
    "hire(\"Elisa\")\n",
    "hire(\"Evans\")\n"
   ]
  },
  {
   "cell_type": "code",
   "execution_count": 15,
   "metadata": {},
   "outputs": [
    {
     "data": {
      "text/plain": [
       "'Steve, Evans, Alice, Elisa, Jonathan, Alan'"
      ]
     },
     "execution_count": 15,
     "metadata": {},
     "output_type": "execute_result"
    }
   ],
   "source": [
    "show()"
   ]
  },
  {
   "cell_type": "code",
   "execution_count": 16,
   "metadata": {},
   "outputs": [],
   "source": [
    "fire(\"Alan\")"
   ]
  },
  {
   "cell_type": "code",
   "execution_count": 17,
   "metadata": {},
   "outputs": [
    {
     "data": {
      "text/plain": [
       "'Steve, Evans, Alice, Elisa, Jonathan'"
      ]
     },
     "execution_count": 17,
     "metadata": {},
     "output_type": "execute_result"
    }
   ],
   "source": [
    "show()"
   ]
  },
  {
   "cell_type": "code",
   "execution_count": 18,
   "metadata": {},
   "outputs": [
    {
     "ename": "ValueError",
     "evalue": "Cannot fire founding members!",
     "output_type": "error",
     "traceback": [
      "\u001b[0;31m---------------------------------------------------------------------------\u001b[0m",
      "\u001b[0;31mValueError\u001b[0m                                Traceback (most recent call last)",
      "Cell \u001b[0;32mIn[18], line 1\u001b[0m\n\u001b[0;32m----> 1\u001b[0m fire(\u001b[38;5;124m\"\u001b[39m\u001b[38;5;124mAlice\u001b[39m\u001b[38;5;124m\"\u001b[39m)\n",
      "File \u001b[0;32m~/Python Samples/company.py:12\u001b[0m, in \u001b[0;36mcompany.<locals>.fire\u001b[0;34m(m)\u001b[0m\n\u001b[1;32m     10\u001b[0m \u001b[38;5;28;01mdef\u001b[39;00m \u001b[38;5;21mfire\u001b[39m(m):\n\u001b[1;32m     11\u001b[0m     \u001b[38;5;28;01mif\u001b[39;00m m \u001b[38;5;129;01min\u001b[39;00m founders:\n\u001b[0;32m---> 12\u001b[0m         \u001b[38;5;28;01mraise\u001b[39;00m \u001b[38;5;167;01mValueError\u001b[39;00m(\u001b[38;5;124m\"\u001b[39m\u001b[38;5;124mCannot fire founding members!\u001b[39m\u001b[38;5;124m\"\u001b[39m)\n\u001b[1;32m     13\u001b[0m     staff\u001b[38;5;241m.\u001b[39mremove(m)\n",
      "\u001b[0;31mValueError\u001b[0m: Cannot fire founding members!"
     ]
    }
   ],
   "source": [
    "fire(\"Alice\")"
   ]
  },
  {
   "cell_type": "code",
   "execution_count": 19,
   "metadata": {},
   "outputs": [
    {
     "ename": "ValueError",
     "evalue": "name must be made up of alphabets only.",
     "output_type": "error",
     "traceback": [
      "\u001b[0;31m---------------------------------------------------------------------------\u001b[0m",
      "\u001b[0;31mValueError\u001b[0m                                Traceback (most recent call last)",
      "Cell \u001b[0;32mIn[19], line 1\u001b[0m\n\u001b[0;32m----> 1\u001b[0m hire(\u001b[38;5;241m123\u001b[39m)\n",
      "File \u001b[0;32m~/Python Samples/company.py:8\u001b[0m, in \u001b[0;36mcompany.<locals>.hire\u001b[0;34m(m)\u001b[0m\n\u001b[1;32m      6\u001b[0m     staff\u001b[38;5;241m.\u001b[39madd(m)\n\u001b[1;32m      7\u001b[0m \u001b[38;5;28;01melse\u001b[39;00m:\n\u001b[0;32m----> 8\u001b[0m     \u001b[38;5;28;01mraise\u001b[39;00m \u001b[38;5;167;01mValueError\u001b[39;00m(\u001b[38;5;124m\"\u001b[39m\u001b[38;5;124mname must be made up of alphabets only.\u001b[39m\u001b[38;5;124m\"\u001b[39m)\n",
      "\u001b[0;31mValueError\u001b[0m: name must be made up of alphabets only."
     ]
    }
   ],
   "source": [
    "hire(123)"
   ]
  }
 ],
 "metadata": {
  "kernelspec": {
   "display_name": "base",
   "language": "python",
   "name": "python3"
  },
  "language_info": {
   "codemirror_mode": {
    "name": "ipython",
    "version": 3
   },
   "file_extension": ".py",
   "mimetype": "text/x-python",
   "name": "python",
   "nbconvert_exporter": "python",
   "pygments_lexer": "ipython3",
   "version": "3.11.5"
  }
 },
 "nbformat": 4,
 "nbformat_minor": 2
}
