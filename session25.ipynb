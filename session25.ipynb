{
 "cells": [
  {
   "cell_type": "markdown",
   "metadata": {},
   "source": [
    "## Programming From The Very Basics Using Python - Session 25\n",
    "#### All about dictionaries in Python\n"
   ]
  },
  {
   "cell_type": "code",
   "execution_count": 4,
   "metadata": {},
   "outputs": [
    {
     "name": "stdout",
     "output_type": "stream",
     "text": [
      "{'city': 'Chennai', 'temperature': [24.21, 26.99, 28.83], 'humidity': 78, 'raining': False}\n",
      "{'city': 'Chennai', 'temperature': [24.21, 26.99, 28.83], 'humidity': 78, 'raining': False}\n",
      "{'city': 'Chennai', 'temperature': [24, 21, 26.99, 28.83], 'humidity': 78, 'raining': False}\n",
      "{0: 0, 1: 1, 2: 4, 3: 9, 4: 16, 5: 25, 6: 36, 7: 49, 8: 64, 9: 81}\n"
     ]
    }
   ],
   "source": [
    "# Constructing dictionaries\n",
    "\n",
    "# Literal notation\n",
    "weather = {\n",
    "  \"city\": \"Chennai\",\n",
    "  \"temperature\": [24.21, 26.99, 28.83],\n",
    "  \"humidity\": 78,\n",
    "  \"raining\": False\n",
    "}\n",
    "print(weather)\n",
    "\n",
    "# Constructor expression\n",
    "weather = dict(\n",
    "    city=\"Chennai\",\n",
    "    temperature=[24.21, 26.99, 28.83],\n",
    "    humidity=78,\n",
    "    raining=False\n",
    ")\n",
    "print(weather)\n",
    "\n",
    "\n",
    "# From 2-item tuple-sets\n",
    "keys = \"city\", \"temperature\", \"humidity\", \"raining\"\n",
    "values = \"Chennai\", [24,21, 26.99, 28.83], 78, False\n",
    "\n",
    "weather = dict(zip(keys, values))\n",
    "print(weather)\n",
    "\n",
    "squares = {x: x*x for x in range(10)}\n",
    "print(squares)\n"
   ]
  },
  {
   "cell_type": "code",
   "execution_count": 7,
   "metadata": {},
   "outputs": [
    {
     "name": "stdout",
     "output_type": "stream",
     "text": [
      "4\n",
      "True\n",
      "city\n",
      "temperature\n",
      "humidity\n",
      "raining\n"
     ]
    }
   ],
   "source": [
    "print(len(weather))\n",
    "print(\"raining\" in weather)\n",
    "\n",
    "for k in weather:\n",
    "    print(k)"
   ]
  },
  {
   "cell_type": "code",
   "execution_count": 8,
   "metadata": {},
   "outputs": [
    {
     "data": {
      "text/plain": [
       "'Chennai'"
      ]
     },
     "execution_count": 8,
     "metadata": {},
     "output_type": "execute_result"
    }
   ],
   "source": [
    "weather[\"city\"]"
   ]
  },
  {
   "cell_type": "code",
   "execution_count": 9,
   "metadata": {},
   "outputs": [
    {
     "ename": "KeyError",
     "evalue": "'state'",
     "output_type": "error",
     "traceback": [
      "\u001b[0;31m---------------------------------------------------------------------------\u001b[0m",
      "\u001b[0;31mKeyError\u001b[0m                                  Traceback (most recent call last)",
      "Cell \u001b[0;32mIn[9], line 1\u001b[0m\n\u001b[0;32m----> 1\u001b[0m weather[\u001b[38;5;124m\"\u001b[39m\u001b[38;5;124mstate\u001b[39m\u001b[38;5;124m\"\u001b[39m]\n",
      "\u001b[0;31mKeyError\u001b[0m: 'state'"
     ]
    }
   ],
   "source": [
    "weather[\"state\"]"
   ]
  },
  {
   "cell_type": "code",
   "execution_count": 11,
   "metadata": {},
   "outputs": [],
   "source": [
    "key = \"state\"\n",
    "\n",
    "weather[key] if key in weather else None"
   ]
  },
  {
   "cell_type": "code",
   "execution_count": 12,
   "metadata": {},
   "outputs": [
    {
     "data": {
      "text/plain": [
       "'key not found'"
      ]
     },
     "execution_count": 12,
     "metadata": {},
     "output_type": "execute_result"
    }
   ],
   "source": [
    "key = \"state\"\n",
    "\n",
    "weather[key] if key in weather else \"key not found\""
   ]
  },
  {
   "cell_type": "code",
   "execution_count": 13,
   "metadata": {},
   "outputs": [
    {
     "data": {
      "text/plain": [
       "'Chennai'"
      ]
     },
     "execution_count": 13,
     "metadata": {},
     "output_type": "execute_result"
    }
   ],
   "source": [
    "key = \"city\"\n",
    "weather.get(key)"
   ]
  },
  {
   "cell_type": "code",
   "execution_count": 15,
   "metadata": {},
   "outputs": [
    {
     "name": "stdout",
     "output_type": "stream",
     "text": [
      "None\n"
     ]
    }
   ],
   "source": [
    "key = \"state\"\n",
    "print(weather.get(key))"
   ]
  },
  {
   "cell_type": "code",
   "execution_count": 16,
   "metadata": {},
   "outputs": [
    {
     "name": "stdout",
     "output_type": "stream",
     "text": [
      "key not found\n"
     ]
    }
   ],
   "source": [
    "key = \"state\"\n",
    "print(weather.get(key, \"key not found\"))"
   ]
  },
  {
   "cell_type": "code",
   "execution_count": 23,
   "metadata": {},
   "outputs": [
    {
     "name": "stdout",
     "output_type": "stream",
     "text": [
      "{'city': 'Chennai', 'temperature': [24.21, 26.99, 28.83], 'humidity': 78, 'raining': False}\n",
      "{'city': 'Bengaluru', 'temperature': [24.21, 26.99, 28.83], 'humidity': 78, 'raining': False}\n",
      "{'city': 'Bengaluru', 'temperature': [24.21, 26.99, 28.83], 'humidity': 78, 'raining': False, 'state': 'Karnataka'}\n",
      "{'city': 'Bengaluru', 'temperature': [24.21, 26.99, 28.83], 'humidity': 78, 'state': 'Karnataka'}\n",
      "s='Karnataka', weather={'city': 'Bengaluru', 'temperature': [24.21, 26.99, 28.83], 'humidity': 78}\n",
      "k='humidity', v=78, weather={'city': 'Bengaluru', 'temperature': [24.21, 26.99, 28.83]}\n"
     ]
    }
   ],
   "source": [
    "weather = dict(\n",
    "    city=\"Chennai\",\n",
    "    temperature=[24.21, 26.99, 28.83],\n",
    "    humidity=78,\n",
    "    raining=False\n",
    ")\n",
    "print(weather)\n",
    "\n",
    "weather[\"city\"] = \"Bengaluru\"\n",
    "print(weather)\n",
    "\n",
    "weather[\"state\"] = \"Karnataka\"\n",
    "print(weather)\n",
    "\n",
    "del weather[\"raining\"]\n",
    "print(weather)\n",
    "\n",
    "s = weather.pop(\"state\")\n",
    "print(f\"{s=}, {weather=}\")\n",
    "\n",
    "k, v = weather.popitem()\n",
    "print(f\"{k=}, {v=}, {weather=}\")\n"
   ]
  },
  {
   "cell_type": "code",
   "execution_count": 25,
   "metadata": {},
   "outputs": [
    {
     "name": "stdout",
     "output_type": "stream",
     "text": [
      "{'city': 'Chennai', 'temperature': [24.21, 26.99, 28.83], 'humidity': 78, 'raining': False}\n",
      "Popped key='raining', value=False, weather={'city': 'Chennai', 'temperature': [24.21, 26.99, 28.83], 'humidity': 78}\n",
      "Popped key='humidity', value=78, weather={'city': 'Chennai', 'temperature': [24.21, 26.99, 28.83]}\n",
      "Popped key='temperature', value=[24.21, 26.99, 28.83], weather={'city': 'Chennai'}\n",
      "Popped key='city', value='Chennai', weather={}\n",
      "{}\n"
     ]
    }
   ],
   "source": [
    "weather = dict(\n",
    "    city=\"Chennai\",\n",
    "    temperature=[24.21, 26.99, 28.83],\n",
    "    humidity=78,\n",
    "    raining=False\n",
    ")\n",
    "print(weather)\n",
    "\n",
    "while weather: # while the 'weather' dictionary is not empty\n",
    "    key, value = weather.popitem()\n",
    "    print(f\"Popped {key=}, {value=}, {weather=}\")\n",
    "\n",
    "print(weather)\n",
    "\n"
   ]
  },
  {
   "cell_type": "code",
   "execution_count": 27,
   "metadata": {},
   "outputs": [
    {
     "name": "stdout",
     "output_type": "stream",
     "text": [
      "Chennai\n",
      "Chennai\n"
     ]
    }
   ],
   "source": [
    "weather = dict(\n",
    "    city=\"Chennai\",\n",
    "    temperature=[24.21, 26.99, 28.83],\n",
    "    humidity=78,\n",
    "    raining=False\n",
    ")\n",
    "print(weather[\"city\"])\n",
    "print(weather.get(\"city\", \"not found\"))\n"
   ]
  },
  {
   "cell_type": "code",
   "execution_count": 29,
   "metadata": {},
   "outputs": [
    {
     "name": "stdout",
     "output_type": "stream",
     "text": [
      "dict_keys(['city', 'temperature', 'humidity', 'raining']) <class 'dict_keys'>\n",
      "True\n",
      "4\n",
      "city temperature humidity raining "
     ]
    }
   ],
   "source": [
    "k = weather.keys()\n",
    "print(k, type(k))\n",
    "print(\"city\" in k)\n",
    "print(len(k))\n",
    "for x in k: \n",
    "    print(x, end=\" \")"
   ]
  },
  {
   "cell_type": "code",
   "execution_count": 30,
   "metadata": {},
   "outputs": [
    {
     "data": {
      "text/plain": [
       "dict_values(['Chennai', [24.21, 26.99, 28.83], 78, False])"
      ]
     },
     "execution_count": 30,
     "metadata": {},
     "output_type": "execute_result"
    }
   ],
   "source": [
    "weather.values()"
   ]
  },
  {
   "cell_type": "code",
   "execution_count": 31,
   "metadata": {},
   "outputs": [
    {
     "data": {
      "text/plain": [
       "dict_items([('city', 'Chennai'), ('temperature', [24.21, 26.99, 28.83]), ('humidity', 78), ('raining', False)])"
      ]
     },
     "execution_count": 31,
     "metadata": {},
     "output_type": "execute_result"
    }
   ],
   "source": [
    "weather.items()"
   ]
  },
  {
   "cell_type": "code",
   "execution_count": 37,
   "metadata": {},
   "outputs": [
    {
     "name": "stdout",
     "output_type": "stream",
     "text": [
      "{'city': 'Chennai', 'temperature': [24.21, 26.99, 28.83], 'humidity': 78, 'raining': False}\n",
      "city => Chennai, temperature => [24.21, 26.99, 28.83], humidity => 78, raining => False, "
     ]
    }
   ],
   "source": [
    "weather = dict(\n",
    "    city=\"Chennai\",\n",
    "    temperature=[24.21, 26.99, 28.83],\n",
    "    humidity=78,\n",
    "    raining=False\n",
    ")\n",
    "print(weather)\n",
    "\n",
    "for k in weather:\n",
    "    print(f\"{k} => {weather[k]}\", end=\", \")"
   ]
  },
  {
   "cell_type": "code",
   "execution_count": 38,
   "metadata": {},
   "outputs": [
    {
     "name": "stdout",
     "output_type": "stream",
     "text": [
      "{'city': 'Chennai', 'temperature': [24.21, 26.99, 28.83], 'humidity': 78, 'raining': False}\n",
      "Chennai, [24.21, 26.99, 28.83], 78, False, "
     ]
    }
   ],
   "source": [
    "weather = dict(\n",
    "    city=\"Chennai\",\n",
    "    temperature=[24.21, 26.99, 28.83],\n",
    "    humidity=78,\n",
    "    raining=False\n",
    ")\n",
    "print(weather)\n",
    "\n",
    "for v in weather.values():\n",
    "    print(v, end=\", \")"
   ]
  },
  {
   "cell_type": "code",
   "execution_count": 39,
   "metadata": {},
   "outputs": [
    {
     "name": "stdout",
     "output_type": "stream",
     "text": [
      "{'city': 'Chennai', 'temperature': [24.21, 26.99, 28.83], 'humidity': 78, 'raining': False}\n",
      "city Chennai\n",
      "temperature [24.21, 26.99, 28.83]\n",
      "humidity 78\n",
      "raining False\n"
     ]
    }
   ],
   "source": [
    "weather = dict(\n",
    "    city=\"Chennai\",\n",
    "    temperature=[24.21, 26.99, 28.83],\n",
    "    humidity=78,\n",
    "    raining=False\n",
    ")\n",
    "print(weather)\n",
    "\n",
    "for k, v in weather.items():\n",
    "    print(k, v)"
   ]
  },
  {
   "cell_type": "code",
   "execution_count": 43,
   "metadata": {},
   "outputs": [
    {
     "name": "stdout",
     "output_type": "stream",
     "text": [
      "['city', 'temperature', 'humidity', 'raining']\n",
      "['Chennai', [24.21, 26.99, 28.83], 78, False]\n",
      "[('city', 'Chennai'), ('temperature', [24.21, 26.99, 28.83]), ('humidity', 78), ('raining', False)]\n"
     ]
    }
   ],
   "source": [
    "weather = dict(\n",
    "    city=\"Chennai\",\n",
    "    temperature=[24.21, 26.99, 28.83],\n",
    "    humidity=78,\n",
    "    raining=False\n",
    ")\n",
    "\n",
    "w = list(weather)\n",
    "print(w)\n",
    "print(list(weather.values()))\n",
    "print(list(weather.items()))"
   ]
  },
  {
   "cell_type": "code",
   "execution_count": 46,
   "metadata": {},
   "outputs": [
    {
     "name": "stdout",
     "output_type": "stream",
     "text": [
      "{'city': 'Chennai', 'temperature': [24.21, 26.99, 28.83], 'humidity': 78, 'raining': False}\n",
      "{'windspeed': 40, 'sunny': True, 'pressure': 34, 'city': 'Mumbai'}\n",
      "{'city': 'Mumbai', 'temperature': [24.21, 26.99, 28.83], 'humidity': 78, 'raining': False, 'windspeed': 40, 'sunny': True, 'pressure': 34}\n"
     ]
    }
   ],
   "source": [
    "weather = dict(\n",
    "    city=\"Chennai\",\n",
    "    temperature=[24.21, 26.99, 28.83],\n",
    "    humidity=78,\n",
    "    raining=False\n",
    ")\n",
    "\n",
    "info = dict(windspeed=40, sunny=True, pressure=34, city=\"Mumbai\")\n",
    "print(weather)\n",
    "print(info)\n",
    "\n",
    "weather.update(info)\n",
    "print(weather)"
   ]
  },
  {
   "cell_type": "code",
   "execution_count": 50,
   "metadata": {},
   "outputs": [
    {
     "name": "stdout",
     "output_type": "stream",
     "text": [
      "140620904505536 {'city': 'Pune', 'temperature': [24.21, 26.99, 28.83], 'humidity': 78, 'raining': False, 'windspeed': 40, 'sunny': True, 'pressure': 34}\n",
      "140620904050624 {'city': 'Pune', 'temperature': [24.21, 26.99, 28.83], 'humidity': 78, 'raining': False, 'windspeed': 40, 'sunny': True, 'pressure': 34}\n",
      "--------------------------------------------------\n",
      "{'city': 'Pune', 'temperature': [24.21, 26.99, 28.83], 'humidity': 78, 'raining': False, 'windspeed': 40, 'sunny': True, 'pressure': 34}\n",
      "{'city': 'Pune', 'temperature': [24.21, 26.99, 28.83], 'humidity': 78, 'raining': False, 'windspeed': 40, 'sunny': True, 'pressure': 34}\n",
      "--------------------------------------------------\n",
      "{'city': 'Pune', 'temperature': [18.43, 26.99, 28.83], 'humidity': 78, 'raining': False, 'windspeed': 40, 'sunny': True, 'pressure': 34}\n",
      "{'city': 'Pune', 'temperature': [18.43, 26.99, 28.83], 'humidity': 78, 'raining': False, 'windspeed': 40, 'sunny': True, 'pressure': 34}\n"
     ]
    }
   ],
   "source": [
    "new_weather = weather.copy()\n",
    "print(id(weather), weather)\n",
    "print(id(new_weather), new_weather)\n",
    "print(\"-\" * 50)\n",
    "\n",
    "weather[\"city\"] = \"Pune\"\n",
    "print(weather)\n",
    "print(new_weather)\n",
    "\n",
    "weather[\"temperature\"][0] = 18.43\n",
    "print(\"-\" * 50)\n",
    "print(weather)\n",
    "print(new_weather)\n",
    "\n"
   ]
  },
  {
   "cell_type": "code",
   "execution_count": 52,
   "metadata": {},
   "outputs": [
    {
     "name": "stdout",
     "output_type": "stream",
     "text": [
      "140620904505536 {'city': 'Pune', 'temperature': [18.43, 26.99, 28.83], 'humidity': 78, 'raining': False, 'windspeed': 40, 'sunny': True, 'pressure': 34}\n",
      "140620904321344 {'city': 'Pune', 'temperature': [18.43, 26.99, 28.83], 'humidity': 78, 'raining': False, 'windspeed': 40, 'sunny': True, 'pressure': 34}\n",
      "--------------------------------------------------\n",
      "{'city': 'Pune', 'temperature': [18.43, 26.99, 28.83], 'humidity': 78, 'raining': False, 'windspeed': 40, 'sunny': True, 'pressure': 34}\n",
      "{'city': 'Pune', 'temperature': [18.43, 26.99, 28.83], 'humidity': 78, 'raining': False, 'windspeed': 40, 'sunny': True, 'pressure': 34}\n",
      "--------------------------------------------------\n",
      "{'city': 'Pune', 'temperature': [16.42, 26.99, 28.83], 'humidity': 78, 'raining': False, 'windspeed': 40, 'sunny': True, 'pressure': 34}\n",
      "{'city': 'Pune', 'temperature': [18.43, 26.99, 28.83], 'humidity': 78, 'raining': False, 'windspeed': 40, 'sunny': True, 'pressure': 34}\n"
     ]
    }
   ],
   "source": [
    "from copy import deepcopy\n",
    "\n",
    "new_weather = deepcopy(weather)\n",
    "print(id(weather), weather)\n",
    "print(id(new_weather), new_weather)\n",
    "print(\"-\" * 50)\n",
    "\n",
    "weather[\"city\"] = \"Pune\"\n",
    "print(weather)\n",
    "print(new_weather)\n",
    "\n",
    "weather[\"temperature\"][0] = 16.42\n",
    "print(\"-\" * 50)\n",
    "print(weather)\n",
    "print(new_weather)\n",
    "\n"
   ]
  },
  {
   "cell_type": "code",
   "execution_count": 53,
   "metadata": {},
   "outputs": [
    {
     "name": "stdout",
     "output_type": "stream",
     "text": [
      "{'city': 'Pune', 'temperature': [18.43, 26.99, 28.83], 'humidity': 78, 'raining': False, 'windspeed': 40, 'sunny': True, 'pressure': 34}\n",
      "{}\n"
     ]
    }
   ],
   "source": [
    "print(new_weather)\n",
    "new_weather.clear()\n",
    "print(new_weather)\n"
   ]
  },
  {
   "cell_type": "markdown",
   "metadata": {},
   "source": [
    "Dictionary methods:\n",
    "  - .get(), .setdefault()\n",
    "  - .keys(), .values(), .items()\n",
    "  - .pop(), .popitem()\n",
    "  - .update(), .copy(), .clear()\n",
    "  - .fromkeys()"
   ]
  },
  {
   "cell_type": "code",
   "execution_count": 58,
   "metadata": {},
   "outputs": [
    {
     "name": "stdout",
     "output_type": "stream",
     "text": [
      "not found\n",
      "{'city': 'Chennai', 'temperature': [24.21, 26.99, 28.83], 'humidity': 78, 'raining': False}\n"
     ]
    }
   ],
   "source": [
    "weather = {'city': 'Chennai', 'temperature': [24.21, 26.99, 28.83], 'humidity': 78, 'raining': False}\n",
    "\n",
    "key = \"state\"\n",
    "print(weather.get(key, \"not found\"))\n",
    "print(weather)"
   ]
  },
  {
   "cell_type": "code",
   "execution_count": 59,
   "metadata": {},
   "outputs": [
    {
     "name": "stdout",
     "output_type": "stream",
     "text": [
      "not found\n",
      "{'city': 'Chennai', 'temperature': [24.21, 26.99, 28.83], 'humidity': 78, 'raining': False, 'state': 'not found'}\n"
     ]
    }
   ],
   "source": [
    "weather = {'city': 'Chennai', 'temperature': [24.21, 26.99, 28.83], 'humidity': 78, 'raining': False}\n",
    "\n",
    "key = \"state\"\n",
    "print(weather.setdefault(key, \"not found\"))\n",
    "print(weather)"
   ]
  },
  {
   "cell_type": "code",
   "execution_count": 61,
   "metadata": {},
   "outputs": [
    {
     "data": {
      "text/plain": [
       "{'a': None, 'b': None, 'c': None}"
      ]
     },
     "execution_count": 61,
     "metadata": {},
     "output_type": "execute_result"
    }
   ],
   "source": [
    "weather.fromkeys([\"a\", \"b\", \"c\"])"
   ]
  },
  {
   "cell_type": "code",
   "execution_count": 62,
   "metadata": {},
   "outputs": [
    {
     "data": {
      "text/plain": [
       "{'city': 'Chennai',\n",
       " 'temperature': [24.21, 26.99, 28.83],\n",
       " 'humidity': 78,\n",
       " 'raining': False,\n",
       " 'state': 'not found'}"
      ]
     },
     "execution_count": 62,
     "metadata": {},
     "output_type": "execute_result"
    }
   ],
   "source": [
    "weather"
   ]
  },
  {
   "cell_type": "code",
   "execution_count": 64,
   "metadata": {},
   "outputs": [
    {
     "data": {
      "text/plain": [
       "{'cpu_usage': 0, 'mem_usage': 0, 'nprocs': 0}"
      ]
     },
     "execution_count": 64,
     "metadata": {},
     "output_type": "execute_result"
    }
   ],
   "source": [
    "stats = dict().fromkeys([\"cpu_usage\", \"mem_usage\", \"nprocs\"], 0)\n",
    "stats"
   ]
  }
 ],
 "metadata": {
  "kernelspec": {
   "display_name": "base",
   "language": "python",
   "name": "python3"
  },
  "language_info": {
   "codemirror_mode": {
    "name": "ipython",
    "version": 3
   },
   "file_extension": ".py",
   "mimetype": "text/x-python",
   "name": "python",
   "nbconvert_exporter": "python",
   "pygments_lexer": "ipython3",
   "version": "3.11.5"
  }
 },
 "nbformat": 4,
 "nbformat_minor": 2
}
