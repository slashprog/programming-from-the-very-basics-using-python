{
 "cells": [
  {
   "cell_type": "markdown",
   "metadata": {},
   "source": [
    "## Programming From The Very Basics Using Python - Session 11a\n",
    "#### More examples for using the 'if' condition\n"
   ]
  },
  {
   "cell_type": "code",
   "execution_count": 10,
   "metadata": {},
   "outputs": [
    {
     "data": {
      "text/plain": [
       "'b is larger than a'"
      ]
     },
     "execution_count": 10,
     "metadata": {},
     "output_type": "execute_result"
    }
   ],
   "source": [
    "a = 40\n",
    "b = 45\n",
    "\n",
    "# Not intuitive! Avoid code like below!\n",
    "\"a is larger than b\" if a > b else \"b is larger than a\" if b > a else \"both are equal\""
   ]
  },
  {
   "cell_type": "code",
   "execution_count": 14,
   "metadata": {},
   "outputs": [
    {
     "name": "stdout",
     "output_type": "stream",
     "text": [
      "b is larger than a\n"
     ]
    }
   ],
   "source": [
    "a = 45\n",
    "b = 50\n",
    "\n",
    "if a > b:\n",
    "    print(\"a is larger than b\")\n",
    "elif b > a:\n",
    "    print(\"b is larger than a\")\n",
    "else:\n",
    "    print(\"both are equal\")\n"
   ]
  },
  {
   "cell_type": "code",
   "execution_count": 19,
   "metadata": {},
   "outputs": [
    {
     "name": "stdout",
     "output_type": "stream",
     "text": [
      "Time to relax!\n"
     ]
    }
   ],
   "source": [
    "month = int(input(\"Enter month (1 to 12): \"))\n",
    "\n",
    "if month >= 5 and month <= 7:\n",
    "    print(\"Time to sow!\")\n",
    "elif month >= 9 and month <= 12:\n",
    "    print(\"Time to harvest!\")\n",
    "else:\n",
    "    print(\"Time to relax!\")\n",
    "    "
   ]
  },
  {
   "cell_type": "code",
   "execution_count": 25,
   "metadata": {},
   "outputs": [
    {
     "name": "stdout",
     "output_type": "stream",
     "text": [
      "Time to relax!\n"
     ]
    }
   ],
   "source": [
    "month = int(input(\"Enter month (1 to 12): \"))\n",
    "\n",
    "if 5 <= month <= 7:\n",
    "    print(\"Time to sow!\")\n",
    "elif 9 <= month <= 12:\n",
    "    print(\"Time to harvest!\")\n",
    "else:\n",
    "    print(\"Time to relax!\")\n",
    "    "
   ]
  },
  {
   "cell_type": "code",
   "execution_count": 28,
   "metadata": {},
   "outputs": [
    {
     "name": "stdout",
     "output_type": "stream",
     "text": [
      "You did great!\n"
     ]
    }
   ],
   "source": [
    "score = int(input(\"Enter your score: (0 to 100): \"))\n",
    "\n",
    "if score < 30:\n",
    "    print(\"Better luck next time!\")\n",
    "elif 30 <= score <= 70:\n",
    "    print(\"You played well!\")\n",
    "else:\n",
    "    print(\"You did great!\") \n"
   ]
  },
  {
   "cell_type": "code",
   "execution_count": 45,
   "metadata": {},
   "outputs": [
    {
     "name": "stdout",
     "output_type": "stream",
     "text": [
      "Time to relax!\n"
     ]
    }
   ],
   "source": [
    "month = int(input(\"Enter month (1 to 12): \"))\n",
    "\n",
    "match month:\n",
    "    case 5|6|7:\n",
    "        print(\"Time to sow!\")\n",
    "    case 9|10|11:\n",
    "        print(\"Time to harvest!\")\n",
    "    case _:\n",
    "        print(\"Time to relax!\")\n"
   ]
  },
  {
   "cell_type": "code",
   "execution_count": 87,
   "metadata": {},
   "outputs": [
    {
     "name": "stdout",
     "output_type": "stream",
     "text": [
      "Time to relax!\n"
     ]
    }
   ],
   "source": [
    "import time\n",
    "\n",
    "month = time.localtime().tm_mon\n",
    "\n",
    "if 5 <= month <= 7:\n",
    "    print(\"Time to sow!\")\n",
    "elif 9 <= month <= 12:\n",
    "    print(\"Time to harvest!\")\n",
    "else:\n",
    "    print(\"Time to relax!\")\n",
    "    "
   ]
  },
  {
   "cell_type": "code",
   "execution_count": 47,
   "metadata": {},
   "outputs": [],
   "source": [
    "import time"
   ]
  },
  {
   "cell_type": "code",
   "execution_count": 48,
   "metadata": {},
   "outputs": [
    {
     "data": {
      "text/plain": [
       "'Sun Feb 25 15:05:14 2024'"
      ]
     },
     "execution_count": 48,
     "metadata": {},
     "output_type": "execute_result"
    }
   ],
   "source": [
    "time.ctime()"
   ]
  },
  {
   "cell_type": "code",
   "execution_count": 51,
   "metadata": {},
   "outputs": [
    {
     "name": "stdout",
     "output_type": "stream",
     "text": [
      "<class 'time.struct_time'>\n"
     ]
    }
   ],
   "source": [
    "t = time.localtime()\n",
    "print(type(t))"
   ]
  },
  {
   "cell_type": "code",
   "execution_count": 81,
   "metadata": {},
   "outputs": [
    {
     "name": "stdout",
     "output_type": "stream",
     "text": [
      "2024 2 25\n"
     ]
    }
   ],
   "source": [
    "t = time.localtime()\n",
    "year, month, day = t[:3]\n",
    "print(year, month, day)"
   ]
  },
  {
   "cell_type": "code",
   "execution_count": 83,
   "metadata": {},
   "outputs": [
    {
     "data": {
      "text/plain": [
       "time.struct_time(tm_year=2024, tm_mon=2, tm_mday=25, tm_hour=15, tm_min=13, tm_sec=3, tm_wday=6, tm_yday=56, tm_isdst=0)"
      ]
     },
     "execution_count": 83,
     "metadata": {},
     "output_type": "execute_result"
    }
   ],
   "source": [
    "t"
   ]
  },
  {
   "cell_type": "code",
   "execution_count": 86,
   "metadata": {},
   "outputs": [
    {
     "data": {
      "text/plain": [
       "25"
      ]
     },
     "execution_count": 86,
     "metadata": {},
     "output_type": "execute_result"
    }
   ],
   "source": [
    "import time\n",
    "time.localtime().tm_mday"
   ]
  },
  {
   "cell_type": "code",
   "execution_count": 93,
   "metadata": {},
   "outputs": [
    {
     "name": "stdout",
     "output_type": "stream",
     "text": [
      "Failed to fetch the web-page!\n",
      "404\n"
     ]
    }
   ],
   "source": [
    "import requests\n",
    "\n",
    "res = requests.get(\"https://python.org/sdfd\")\n",
    "\n",
    "if res.ok:\n",
    "    print(res.headers)\n",
    "else:\n",
    "    print(\"Failed to fetch the web-page!\")\n",
    "    print(res.status_code)"
   ]
  },
  {
   "cell_type": "code",
   "execution_count": 94,
   "metadata": {},
   "outputs": [
    {
     "data": {
      "text/plain": [
       "1.4142135623730951"
      ]
     },
     "execution_count": 94,
     "metadata": {},
     "output_type": "execute_result"
    }
   ],
   "source": [
    "import math\n",
    "math.sqrt(2)"
   ]
  },
  {
   "cell_type": "code",
   "execution_count": 95,
   "metadata": {},
   "outputs": [
    {
     "data": {
      "text/plain": [
       "1.4142135623730951"
      ]
     },
     "execution_count": 95,
     "metadata": {},
     "output_type": "execute_result"
    }
   ],
   "source": [
    "2 ** 0.5"
   ]
  }
 ],
 "metadata": {
  "kernelspec": {
   "display_name": "base",
   "language": "python",
   "name": "python3"
  },
  "language_info": {
   "codemirror_mode": {
    "name": "ipython",
    "version": 3
   },
   "file_extension": ".py",
   "mimetype": "text/x-python",
   "name": "python",
   "nbconvert_exporter": "python",
   "pygments_lexer": "ipython3",
   "version": "3.11.5"
  }
 },
 "nbformat": 4,
 "nbformat_minor": 2
}
