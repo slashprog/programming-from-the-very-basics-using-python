{
 "cells": [
  {
   "cell_type": "markdown",
   "metadata": {},
   "source": [
    "# Programming from the very basics - Session 3\n",
    "### Basics concept of a program\n",
    "  - Statements and Expressions\n",
    "  - Identifiers - variables, constants\n",
    "  - Basic overview of a function\n",
    "  - Basic coding practices"
   ]
  },
  {
   "cell_type": "markdown",
   "metadata": {},
   "source": [
    "What is a program ?\n",
    "A program is a set of instructions that a CPU can execute to perform a specific task.\n",
    "\n",
    "A program in a high-level language is composed of statements and expressions.\n",
    "\n",
    "Statements are constructs that indicate certain action.\n",
    "\n",
    "Expressions are constructs that are evaluated and result in some return value.\n",
    "\n",
    "Identifiers are labels to anything in a program that you might want to reuse or recall later.\n",
    "\n",
    "Variables are identifiers that can re-assigned as needed.\n",
    "\n",
    "Constants are identifiers that cannot be re-assigned.\n",
    "\n",
    "In Python - ALL IDENTIFIERS ARE TREATED AS VARIABLES BY THE LANGUAGE RUNTIME.\n",
    "\n",
    "Python has no formal support for defining constants.\n",
    "\n",
    "Definitions are the act to creating identifiers to identify things in a program."
   ]
  },
  {
   "cell_type": "code",
   "execution_count": 4,
   "metadata": {},
   "outputs": [],
   "source": [
    "x = 3 + 4"
   ]
  },
  {
   "cell_type": "code",
   "execution_count": 12,
   "metadata": {},
   "outputs": [
    {
     "data": {
      "text/plain": [
       "13"
      ]
     },
     "execution_count": 12,
     "metadata": {},
     "output_type": "execute_result"
    }
   ],
   "source": [
    "y = x - 2\n",
    "y"
   ]
  },
  {
   "cell_type": "code",
   "execution_count": 8,
   "metadata": {},
   "outputs": [
    {
     "data": {
      "text/plain": [
       "25"
      ]
     },
     "execution_count": 8,
     "metadata": {},
     "output_type": "execute_result"
    }
   ],
   "source": [
    "y * 5"
   ]
  },
  {
   "cell_type": "code",
   "execution_count": 10,
   "metadata": {},
   "outputs": [],
   "source": [
    "x = 15"
   ]
  },
  {
   "cell_type": "code",
   "execution_count": 11,
   "metadata": {},
   "outputs": [
    {
     "data": {
      "text/plain": [
       "15"
      ]
     },
     "execution_count": 11,
     "metadata": {},
     "output_type": "execute_result"
    }
   ],
   "source": [
    "x"
   ]
  },
  {
   "cell_type": "code",
   "execution_count": 14,
   "metadata": {},
   "outputs": [],
   "source": [
    "# In Python, it is a common practice to define a \n",
    "# constant using names that are ALL_CAPS\n",
    "# This is how comments are written in Python code.\n",
    "PI = 3.14\n",
    "MAX_COUNT = 100 # max_count is equal to 100 --> wrong way to comment\n",
    "MAX_USERS = 1000 # The server can only support 1000 concurrent users\n",
    "\n"
   ]
  },
  {
   "cell_type": "code",
   "execution_count": 16,
   "metadata": {},
   "outputs": [],
   "source": [
    "y = 10 + 20 * 3 # Right way to use spaces\n"
   ]
  },
  {
   "cell_type": "code",
   "execution_count": 18,
   "metadata": {},
   "outputs": [],
   "source": [
    "y = 10+20*3 # NOT recommended"
   ]
  },
  {
   "cell_type": "code",
   "execution_count": null,
   "metadata": {},
   "outputs": [],
   "source": [
    "\n",
    "y=10+20*3 # NOT recommended"
   ]
  },
  {
   "cell_type": "code",
   "execution_count": 19,
   "metadata": {},
   "outputs": [
    {
     "data": {
      "text/plain": [
       "70"
      ]
     },
     "execution_count": 19,
     "metadata": {},
     "output_type": "execute_result"
    }
   ],
   "source": [
    "\n",
    "y = 10 + 20 * 3 # NOT recommended\n",
    "y"
   ]
  },
  {
   "cell_type": "code",
   "execution_count": 20,
   "metadata": {},
   "outputs": [
    {
     "data": {
      "text/plain": [
       "90"
      ]
     },
     "execution_count": 20,
     "metadata": {},
     "output_type": "execute_result"
    }
   ],
   "source": [
    "\n",
    "y = ( 10 + 20 ) * 3 # NOT recommended\n",
    "y"
   ]
  },
  {
   "cell_type": "code",
   "execution_count": null,
   "metadata": {},
   "outputs": [
    {
     "data": {
      "text/plain": [
       "90"
      ]
     },
     "metadata": {},
     "output_type": "display_data"
    }
   ],
   "source": [
    "\n",
    "y = (10 + 20) * 3 # NOT recommended\n",
    "y"
   ]
  },
  {
   "cell_type": "code",
   "execution_count": 21,
   "metadata": {},
   "outputs": [
    {
     "name": "stdout",
     "output_type": "stream",
     "text": [
      "7\n"
     ]
    }
   ],
   "source": [
    "print(3 + 4) # Function-call as a statement"
   ]
  },
  {
   "cell_type": "code",
   "execution_count": 22,
   "metadata": {},
   "outputs": [
    {
     "name": "stdout",
     "output_type": "stream",
     "text": [
      "7\n",
      "None\n"
     ]
    }
   ],
   "source": [
    "r = print(3 + 4) # Function-call as an expression\n",
    "print(r)"
   ]
  },
  {
   "cell_type": "markdown",
   "metadata": {},
   "source": [
    "Functions are re-usable chunks of code with a name (as \n",
    "a identifier).\n",
    "\n",
    "```print``` is an builtin identifier that identifies a function pre-defined in the python language runtime. This\n",
    "function is designed to print arguments passed to it on\n",
    "output stream (the display by default)."
   ]
  }
 ],
 "metadata": {
  "kernelspec": {
   "display_name": "base",
   "language": "python",
   "name": "python3"
  },
  "language_info": {
   "codemirror_mode": {
    "name": "ipython",
    "version": 3
   },
   "file_extension": ".py",
   "mimetype": "text/x-python",
   "name": "python",
   "nbconvert_exporter": "python",
   "pygments_lexer": "ipython3",
   "version": "3.11.5"
  }
 },
 "nbformat": 4,
 "nbformat_minor": 2
}
