{
 "cells": [
  {
   "cell_type": "markdown",
   "metadata": {},
   "source": [
    "## Programming From The Very Basics Using Python - Session 24\n",
    "#### More about sets and overview on dictionary\n"
   ]
  },
  {
   "cell_type": "code",
   "execution_count": 15,
   "metadata": {},
   "outputs": [
    {
     "name": "stdout",
     "output_type": "stream",
     "text": [
      "{40, 10, 20, 30} <class 'set'>\n"
     ]
    }
   ],
   "source": [
    "a = {10, 20, 30, 40}\n",
    "print(a, type(a))"
   ]
  },
  {
   "cell_type": "code",
   "execution_count": 16,
   "metadata": {},
   "outputs": [
    {
     "name": "stdout",
     "output_type": "stream",
     "text": [
      "{} <class 'dict'>\n"
     ]
    }
   ],
   "source": [
    "a = {}\n",
    "print(a, type(a))"
   ]
  },
  {
   "cell_type": "code",
   "execution_count": 17,
   "metadata": {},
   "outputs": [
    {
     "name": "stdout",
     "output_type": "stream",
     "text": [
      "set() <class 'set'>\n"
     ]
    }
   ],
   "source": [
    "a = set()\n",
    "print(a, type(a))"
   ]
  },
  {
   "cell_type": "code",
   "execution_count": 20,
   "metadata": {},
   "outputs": [
    {
     "name": "stdout",
     "output_type": "stream",
     "text": [
      "False\n",
      "True\n",
      "False True\n"
     ]
    }
   ],
   "source": [
    "a = {56, 54, 23, 89, 12, 43, 78, 99}\n",
    "b = {54, 23, 12, 76, 43}\n",
    "c = {54, 89, 12, 78}\n",
    "\n",
    "print(b < a) # Check if b is a subset of a\n",
    "print(c < a)\n",
    "\n",
    "print(a > b, a > c) # Check if a is superset of b and c"
   ]
  },
  {
   "cell_type": "code",
   "execution_count": 24,
   "metadata": {},
   "outputs": [
    {
     "name": "stdout",
     "output_type": "stream",
     "text": [
      "{99, 43, 12, 78, 54, 23, 56, 89} 140596832548704\n",
      "{99, 78, 56, 89} 140596832548704\n"
     ]
    }
   ],
   "source": [
    "a = {56, 54, 23, 89, 12, 43, 78, 99}\n",
    "b = {54, 23, 12, 76, 43}\n",
    "print(a, id(a))\n",
    "a -= b  # difference-update\n",
    "print(a, id(a))"
   ]
  },
  {
   "cell_type": "code",
   "execution_count": 25,
   "metadata": {},
   "outputs": [
    {
     "name": "stdout",
     "output_type": "stream",
     "text": [
      "{99, 43, 12, 78, 54, 23, 56, 89} 140596832549152\n",
      "{99, 43, 12, 76, 78, 54, 23, 56, 89} 140596832549152\n"
     ]
    }
   ],
   "source": [
    "a = {56, 54, 23, 89, 12, 43, 78, 99}\n",
    "b = {54, 23, 12, 76, 43}\n",
    "print(a, id(a))\n",
    "a |= b  # Update 'a' with extra items from 'b' (update)\n",
    "print(a, id(a))"
   ]
  },
  {
   "cell_type": "code",
   "execution_count": 27,
   "metadata": {},
   "outputs": [
    {
     "name": "stdout",
     "output_type": "stream",
     "text": [
      "{99, 43, 12, 78, 54, 23, 56, 89} 140596832549152\n",
      "{43, 12, 54, 23} 140596832549152\n"
     ]
    }
   ],
   "source": [
    "a = {56, 54, 23, 89, 12, 43, 78, 99}\n",
    "b = {54, 23, 12, 76, 43}\n",
    "print(a, id(a))\n",
    "a &= b  # Intersection-update\n",
    "print(a, id(a))"
   ]
  },
  {
   "cell_type": "code",
   "execution_count": 28,
   "metadata": {},
   "outputs": [
    {
     "name": "stdout",
     "output_type": "stream",
     "text": [
      "{99, 43, 12, 78, 54, 23, 56, 89} 140596832550272\n",
      "{99, 76, 78, 56, 89} 140596832550272\n"
     ]
    }
   ],
   "source": [
    "a = {56, 54, 23, 89, 12, 43, 78, 99}\n",
    "b = {54, 23, 12, 76, 43}\n",
    "print(a, id(a))\n",
    "a ^= b  # Symmetric-difference-update\n",
    "print(a, id(a))"
   ]
  },
  {
   "cell_type": "code",
   "execution_count": 29,
   "metadata": {},
   "outputs": [
    {
     "data": {
      "text/plain": [
       "[56, 89, 99, 78]"
      ]
     },
     "execution_count": 29,
     "metadata": {},
     "output_type": "execute_result"
    }
   ],
   "source": [
    "a = [56, 54, 23, 89, 12, 43, 78, 99]\n",
    "b = [54, 23, 12, 76, 43]\n",
    "\n",
    "list(set(a) - set(b))"
   ]
  },
  {
   "cell_type": "code",
   "execution_count": 31,
   "metadata": {},
   "outputs": [
    {
     "data": {
      "text/plain": [
       "'atewrdso hl'"
      ]
     },
     "execution_count": 31,
     "metadata": {},
     "output_type": "execute_result"
    }
   ],
   "source": [
    "a = \"hello world\"\n",
    "b = \"test data\"\n",
    "\n",
    "\"\".join(set(a) | set(b))"
   ]
  },
  {
   "cell_type": "code",
   "execution_count": 33,
   "metadata": {},
   "outputs": [
    {
     "name": "stdout",
     "output_type": "stream",
     "text": [
      "The lists have identical items\n"
     ]
    }
   ],
   "source": [
    "a = [54, 23, 78, 12, 87, 34]\n",
    "b = [78, 54, 23, 87, 34, 12]\n",
    "\n",
    "for item in a:\n",
    "    if item not in b:\n",
    "        print(\"The lists are different\")\n",
    "        break\n",
    "else:\n",
    "    print(\"The lists have identical items\")"
   ]
  },
  {
   "cell_type": "code",
   "execution_count": 34,
   "metadata": {},
   "outputs": [
    {
     "name": "stdout",
     "output_type": "stream",
     "text": [
      "The lists have identical items\n"
     ]
    }
   ],
   "source": [
    "a = [54, 23, 78, 12, 87, 34]\n",
    "b = [78, 54, 23, 87, 34, 12]\n",
    "\n",
    "if set(a) == set(b):\n",
    "    print(\"The lists have identical items\")\n",
    "else:\n",
    "    print(\"The lists are different\")\n",
    "\n"
   ]
  },
  {
   "cell_type": "code",
   "execution_count": 46,
   "metadata": {},
   "outputs": [
    {
     "name": "stdout",
     "output_type": "stream",
     "text": [
      "{99, 43, 12, 76, 78, 54, 23, 56, 89} {99, 43, 12, 76, 78, 54, 23, 56, 89}\n",
      "{43, 12, 54, 23} {43, 12, 54, 23}\n",
      "{56, 89, 99, 78} {56, 89, 99, 78}\n",
      "{99, 76, 78, 56, 89} {99, 76, 78, 56, 89}\n",
      "False False\n",
      "False False\n"
     ]
    }
   ],
   "source": [
    "a = {56, 54, 23, 89, 12, 43, 78, 99}\n",
    "b = {54, 23, 12, 76, 43}\n",
    "\n",
    "print(a | b, a.union(b))\n",
    "print(a & b, a.intersection(b))\n",
    "print(a - b, a.difference(b))\n",
    "print(a ^ b, a.symmetric_difference(b))\n",
    "print(a < b, a.issubset(b))\n",
    "print(a > b, a.issuperset(b))\n"
   ]
  },
  {
   "cell_type": "code",
   "execution_count": 37,
   "metadata": {},
   "outputs": [
    {
     "name": "stdout",
     "output_type": "stream",
     "text": [
      "{99, 43, 12, 78, 54, 23, 56, 89} {99, 43, 12, 78, 54, 23, 56, 89}\n",
      "140596584746784 140596584744768\n"
     ]
    }
   ],
   "source": [
    "a1 = a.copy()\n",
    "print(a, a1)\n",
    "print(id(a), id(a1))\n"
   ]
  },
  {
   "cell_type": "code",
   "execution_count": 38,
   "metadata": {},
   "outputs": [
    {
     "name": "stdout",
     "output_type": "stream",
     "text": [
      "{99, 43, 12, 78, 54, 23, 56, 89}\n",
      "set()\n"
     ]
    }
   ],
   "source": [
    "print(a)\n",
    "a.clear()\n",
    "print(a)"
   ]
  },
  {
   "cell_type": "code",
   "execution_count": 40,
   "metadata": {},
   "outputs": [
    {
     "name": "stdout",
     "output_type": "stream",
     "text": [
      "set()\n",
      "a={10}\n",
      "a={10, 34}\n",
      "a={10, 34, 23}\n",
      "a={89, 10, 34, 23}\n",
      "a={34, 10, 23, 56, 89}\n",
      "a={34, 10, 45, 23, 56, 89}\n",
      "a={34, 10, 45, 23, 56, 89}\n",
      "a={34, 10, 45, 23, 56, 89}\n",
      "a={34, 10, 45, 23, 56, 89}\n",
      "a={34, 100, 10, 45, 23, 56, 89}\n",
      "a={34, 100, 10, 45, 110, 23, 56, 89}\n",
      "a={34, 100, 10, 45, 110, 23, 56, 89}\n"
     ]
    }
   ],
   "source": [
    "print(a)\n",
    "while (v := int(input(\"Enter a value (or 0 to stop): \"))):\n",
    "    a.add(v)\n",
    "    print(f\"{a=}\")\n",
    "\n",
    "print(f\"{a=}\")\n"
   ]
  },
  {
   "cell_type": "code",
   "execution_count": 41,
   "metadata": {},
   "outputs": [
    {
     "name": "stdout",
     "output_type": "stream",
     "text": [
      "{34, 100, 10, 45, 110, 23, 56, 89}\n",
      "{34, 10, 45, 110, 23, 56, 89}\n"
     ]
    }
   ],
   "source": [
    "print(a)\n",
    "a.remove(100)\n",
    "print(a)"
   ]
  },
  {
   "cell_type": "code",
   "execution_count": 42,
   "metadata": {},
   "outputs": [
    {
     "name": "stdout",
     "output_type": "stream",
     "text": [
      "{34, 10, 45, 110, 23, 56, 89}\n"
     ]
    },
    {
     "ename": "KeyError",
     "evalue": "100",
     "output_type": "error",
     "traceback": [
      "\u001b[0;31m---------------------------------------------------------------------------\u001b[0m",
      "\u001b[0;31mKeyError\u001b[0m                                  Traceback (most recent call last)",
      "Cell \u001b[0;32mIn[42], line 2\u001b[0m\n\u001b[1;32m      1\u001b[0m \u001b[38;5;28mprint\u001b[39m(a)\n\u001b[0;32m----> 2\u001b[0m a\u001b[38;5;241m.\u001b[39mremove(\u001b[38;5;241m100\u001b[39m)\n\u001b[1;32m      3\u001b[0m \u001b[38;5;28mprint\u001b[39m(a)\n",
      "\u001b[0;31mKeyError\u001b[0m: 100"
     ]
    }
   ],
   "source": [
    "print(a)\n",
    "a.remove(100)\n",
    "print(a)"
   ]
  },
  {
   "cell_type": "code",
   "execution_count": 44,
   "metadata": {},
   "outputs": [
    {
     "name": "stdout",
     "output_type": "stream",
     "text": [
      "{34, 10, 45, 110, 23, 56, 89}\n",
      "{34, 10, 45, 110, 23, 56, 89}\n",
      "{34, 10, 110, 23, 56, 89}\n"
     ]
    }
   ],
   "source": [
    "print(a)\n",
    "a.discard(100)\n",
    "print(a)\n",
    "\n",
    "a.discard(45)\n",
    "print(a)"
   ]
  },
  {
   "cell_type": "code",
   "execution_count": 45,
   "metadata": {},
   "outputs": [
    {
     "name": "stdout",
     "output_type": "stream",
     "text": [
      "{34, 100, 200, 10, 300, 110, 400, 23, 56, 89}\n"
     ]
    }
   ],
   "source": [
    "b = {100, 200, 300, 400}\n",
    "a.update(b) # also -> a |= b would work the same!\n",
    "print(a)"
   ]
  },
  {
   "cell_type": "markdown",
   "metadata": {},
   "source": [
    "Dictionary is a collection of key:value pairs where keys are unique and hashable"
   ]
  },
  {
   "cell_type": "code",
   "execution_count": null,
   "metadata": {},
   "outputs": [],
   "source": [
    "# Literal notation\n",
    "a = {\"name\": \"John\", \"role\": \"developer\", \"company\": \"slashprog\", \"experience\": 10}\n"
   ]
  },
  {
   "cell_type": "code",
   "execution_count": null,
   "metadata": {},
   "outputs": [],
   "source": [
    "# Literal notation\n",
    "a = {\n",
    "    \"name\": \"John\", \n",
    "    \"role\": \"developer\", \n",
    "    \"company\": \"slashprog\", \n",
    "    \"experience\": 10\n",
    "}\n",
    "\n",
    "# Construction expression\n",
    "a = dict(\n",
    "        name=\"John\", \n",
    "        role=\"developer\", \n",
    "        company=\"slashprog\", \n",
    "        experience=10\n",
    ")\n",
    "\n",
    "\n"
   ]
  },
  {
   "cell_type": "code",
   "execution_count": 50,
   "metadata": {},
   "outputs": [
    {
     "ename": "SyntaxError",
     "evalue": "expression cannot contain assignment, perhaps you meant \"==\"? (2420387671.py, line 19)",
     "output_type": "error",
     "traceback": [
      "\u001b[0;36m  Cell \u001b[0;32mIn[50], line 19\u001b[0;36m\u001b[0m\n\u001b[0;31m    phone-number=\"55-44-3322\"\u001b[0m\n\u001b[0m    ^\u001b[0m\n\u001b[0;31mSyntaxError\u001b[0m\u001b[0;31m:\u001b[0m expression cannot contain assignment, perhaps you meant \"==\"?\n"
     ]
    }
   ],
   "source": [
    "# Literal notation\n",
    "a = {\n",
    "    \"name\": \"John\", \n",
    "    \"role\": \"developer\", \n",
    "    \"company\": \"slashprog\", \n",
    "    \"experience\": 10,\n",
    "    100: 200,\n",
    "    \"phone-number\": \"55-443-344\",\n",
    "\n",
    "}\n",
    "print(a)\n",
    "\n",
    "# Construction expression\n",
    "a = dict(\n",
    "        name=\"John\", \n",
    "        role=\"developer\", \n",
    "        company=\"slashprog\", \n",
    "        experience=10,\n",
    "        phone-number=\"55-44-3322\"\n",
    ")\n",
    "print(a)\n",
    "\n"
   ]
  },
  {
   "cell_type": "code",
   "execution_count": 52,
   "metadata": {},
   "outputs": [
    {
     "name": "stdout",
     "output_type": "stream",
     "text": [
      "{'name': 'Alice', 'role': 'developer', 'company': 'slashprog', 'experience': 10}\n"
     ]
    },
    {
     "ename": "SyntaxError",
     "evalue": "keyword argument repeated: name (2112644255.py, line 18)",
     "output_type": "error",
     "traceback": [
      "\u001b[0;36m  Cell \u001b[0;32mIn[52], line 18\u001b[0;36m\u001b[0m\n\u001b[0;31m    name=\"Alice\"\u001b[0m\n\u001b[0m    ^\u001b[0m\n\u001b[0;31mSyntaxError\u001b[0m\u001b[0;31m:\u001b[0m keyword argument repeated: name\n"
     ]
    }
   ],
   "source": [
    "# Literal notation\n",
    "a = {\n",
    "    \"name\": \"John\", \n",
    "    \"role\": \"developer\", \n",
    "    \"company\": \"slashprog\", \n",
    "    \"experience\": 10,\n",
    "    \"name\": \"Alice\"\n",
    "\n",
    "}\n",
    "print(a)\n",
    "\n",
    "# Construction expression\n",
    "a = dict(\n",
    "        name=\"John\", \n",
    "        role=\"developer\", \n",
    "        company=\"slashprog\", \n",
    "        experience=10,\n",
    "        name=\"Alice\"\n",
    "      \n",
    ")\n",
    "print(a)\n",
    "\n"
   ]
  },
  {
   "cell_type": "code",
   "execution_count": 56,
   "metadata": {},
   "outputs": [
    {
     "name": "stdout",
     "output_type": "stream",
     "text": [
      "{'name': 'Alice', 'role': 'developer', 'company': 'slashprog', 'experience': 10}\n",
      "{0: 0, 1: 1, 2: 4, 3: 9, 4: 16, 5: 25, 6: 36, 7: 49, 8: 64, 9: 81}\n",
      "[('john', 45), ('sam', 67), ('alice', 87), ('elisa', 23), ('damian', 50)]\n",
      "{'john': 45, 'sam': 67, 'alice': 87, 'elisa': 23, 'damian': 50}\n"
     ]
    }
   ],
   "source": [
    "# Literal notation\n",
    "a = {\n",
    "    \"name\": \"John\", \n",
    "    \"role\": \"developer\", \n",
    "    \"company\": \"slashprog\", \n",
    "    \"experience\": 10,\n",
    "    \"name\": \"Alice\"\n",
    "\n",
    "}\n",
    "print(a)\n",
    "\n",
    "# Dictionary comprehension\n",
    "a = { x: x*x for x in range(10) }\n",
    "print(a)\n",
    "\n",
    "players = \"john\", \"sam\", \"alice\", \"elisa\", \"damian\"\n",
    "scores = 45, 67, 87, 23, 50\n",
    "\n",
    "print(list(zip(players, scores)))\n",
    "\n",
    "d = dict(zip(players, scores))\n",
    "print(d)"
   ]
  },
  {
   "cell_type": "code",
   "execution_count": 67,
   "metadata": {},
   "outputs": [
    {
     "name": "stdout",
     "output_type": "stream",
     "text": [
      "sys.getsizeof(a)=8000056\n",
      "sys.getsizeof(b)=33554648\n"
     ]
    }
   ],
   "source": [
    "import sys\n",
    "a = list(range(1_000_000))\n",
    "print(f\"{sys.getsizeof(a)=}\")\n",
    "\n",
    "b = set(a)\n",
    "print(f\"{sys.getsizeof(b)=}\")\n"
   ]
  },
  {
   "cell_type": "code",
   "execution_count": 75,
   "metadata": {},
   "outputs": [
    {
     "name": "stdout",
     "output_type": "stream",
     "text": [
      "id(a)=140596584747904, sys.getsizeof(a)=216, len(a)=0\n",
      "id(a)=140596584747904, sys.getsizeof(a)=33554648, len(a)=1000000\n",
      "id(a)=140596584747904, sys.getsizeof(a)=33554648, len(a)=0, set()\n"
     ]
    }
   ],
   "source": [
    "a = set()\n",
    "print(f\"{id(a)=}, {sys.getsizeof(a)=}, {len(a)=}\")\n",
    "\n",
    "a |= set(range(1_000_000))\n",
    "print(f\"{id(a)=}, {sys.getsizeof(a)=}, {len(a)=}\")\n",
    "\n",
    "for _ in range(1_000_000):\n",
    "    a.pop()\n",
    "\n",
    "print(f\"{id(a)=}, {sys.getsizeof(a)=}, {len(a)=}, {a}\")\n"
   ]
  },
  {
   "cell_type": "code",
   "execution_count": 76,
   "metadata": {},
   "outputs": [
    {
     "name": "stdout",
     "output_type": "stream",
     "text": [
      "id(a)=140596584744320, sys.getsizeof(a)=216, len(a)=0\n",
      "id(a)=140596584744320, sys.getsizeof(a)=33554648, len(a)=1000000\n",
      "id(a)=140596584744320, sys.getsizeof(a)=216, len(a)=0, set()\n"
     ]
    }
   ],
   "source": [
    "a = set()\n",
    "print(f\"{id(a)=}, {sys.getsizeof(a)=}, {len(a)=}\")\n",
    "\n",
    "a |= set(range(1_000_000))\n",
    "print(f\"{id(a)=}, {sys.getsizeof(a)=}, {len(a)=}\")\n",
    "\n",
    "a.clear()\n",
    "\n",
    "print(f\"{id(a)=}, {sys.getsizeof(a)=}, {len(a)=}, {a}\")\n"
   ]
  },
  {
   "cell_type": "code",
   "execution_count": 79,
   "metadata": {},
   "outputs": [
    {
     "name": "stdout",
     "output_type": "stream",
     "text": [
      "id(a)=140596584743200, sys.getsizeof(a)=216, len(a)=0\n",
      "id(a)=140596584743200, sys.getsizeof(a)=33554648, len(a)=1000000\n",
      "id(a)=140596584743200, sys.getsizeof(a)=4194520, len(a)=0, set()\n"
     ]
    }
   ],
   "source": [
    "a = set()\n",
    "print(f\"{id(a)=}, {sys.getsizeof(a)=}, {len(a)=}\")\n",
    "\n",
    "a |= set(range(1_000_000))\n",
    "print(f\"{id(a)=}, {sys.getsizeof(a)=}, {len(a)=}\")\n",
    "\n",
    "for _ in range(1_000_000):\n",
    "    if len(a) % 100_000 == 0:\n",
    "        a = a.copy() \n",
    "    a.pop()\n",
    "\n",
    "print(f\"{id(a)=}, {sys.getsizeof(a)=}, {len(a)=}, {a}\")\n"
   ]
  }
 ],
 "metadata": {
  "kernelspec": {
   "display_name": "base",
   "language": "python",
   "name": "python3"
  },
  "language_info": {
   "codemirror_mode": {
    "name": "ipython",
    "version": 3
   },
   "file_extension": ".py",
   "mimetype": "text/x-python",
   "name": "python",
   "nbconvert_exporter": "python",
   "pygments_lexer": "ipython3",
   "version": "3.11.5"
  }
 },
 "nbformat": 4,
 "nbformat_minor": 2
}
