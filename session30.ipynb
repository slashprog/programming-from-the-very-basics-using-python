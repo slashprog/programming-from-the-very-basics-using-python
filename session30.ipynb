{
 "cells": [
  {
   "cell_type": "markdown",
   "metadata": {},
   "source": [
    "## Programming From The Very Basics Using Python - Session 30\n",
    "#### Generators - Overview\n"
   ]
  },
  {
   "cell_type": "code",
   "execution_count": 1,
   "metadata": {},
   "outputs": [
    {
     "name": "stdout",
     "output_type": "stream",
     "text": [
      "0 1 1 2 3 5 8 13 21 34 "
     ]
    }
   ],
   "source": [
    "def fib(n):\n",
    "    a, b = 0, 1\n",
    "    for _ in range(n):\n",
    "        print(a, end=\" \")\n",
    "        a, b = b, a + b\n",
    "\n",
    "fib(10)"
   ]
  },
  {
   "cell_type": "code",
   "execution_count": 9,
   "metadata": {},
   "outputs": [
    {
     "name": "stdout",
     "output_type": "stream",
     "text": [
      ".........."
     ]
    }
   ],
   "source": [
    "from time import sleep\n",
    "for _ in range(10):\n",
    "    print(\".\", end=\"\")\n",
    "    sleep(1)"
   ]
  },
  {
   "cell_type": "code",
   "execution_count": 10,
   "metadata": {},
   "outputs": [
    {
     "name": "stdout",
     "output_type": "stream",
     "text": [
      "0 0\n",
      "1 1\n",
      "1 1\n",
      "2 4\n",
      "3 9\n",
      "5 25\n",
      "8 64\n",
      "13 169\n",
      "21 441\n",
      "34 1156\n"
     ]
    }
   ],
   "source": [
    "import time\n",
    "\n",
    "def fib(n):\n",
    "    series = [0, 1]\n",
    "    for _ in range(n-2):\n",
    "        series.append(series[-1] + series[-2])\n",
    "        time.sleep(1)\n",
    "    return series        \n",
    "\n",
    "r = fib(10)\n",
    "for v in r:\n",
    "    print(v, v*v)"
   ]
  },
  {
   "cell_type": "code",
   "execution_count": 13,
   "metadata": {},
   "outputs": [
    {
     "name": "stdout",
     "output_type": "stream",
     "text": [
      "0\n",
      "2\n",
      "8\n",
      "34\n"
     ]
    }
   ],
   "source": [
    "import time\n",
    "\n",
    "# Implementing concurrency using higher-order-function with event-callback\n",
    "\n",
    "def fib(n, callback):\n",
    "    a, b = 0, 1\n",
    "    for _ in range(n):\n",
    "        callback(a)\n",
    "        sleep(1)\n",
    "        a, b = b, a + b\n",
    " \n",
    "#fib(10, lambda x: print(x, x*x))\n",
    "fib(10, lambda x: print(x) if x % 2 == 0 else None)"
   ]
  },
  {
   "cell_type": "code",
   "execution_count": 53,
   "metadata": {},
   "outputs": [
    {
     "name": "stdout",
     "output_type": "stream",
     "text": [
      "0 0\n",
      "1 1\n",
      "1 1\n",
      "2 4\n",
      "3 9\n",
      "5 25\n",
      "8 64\n",
      "13 169\n",
      "21 441\n",
      "34 1156\n"
     ]
    }
   ],
   "source": [
    "import time\n",
    "\n",
    "def fib(n):\n",
    "    a, b = 0, 1\n",
    "    for _ in range(n):\n",
    "        yield a\n",
    "        time.sleep(1)\n",
    "        a, b = b, a + b\n",
    "\n",
    "r = fib(10)\n",
    "for v in r:\n",
    "    print(v, v*v)"
   ]
  },
  {
   "cell_type": "code",
   "execution_count": 20,
   "metadata": {},
   "outputs": [
    {
     "name": "stdout",
     "output_type": "stream",
     "text": [
      "Start of testfn() code...\n",
      "100 <class 'int'>\n"
     ]
    }
   ],
   "source": [
    "def testfn():\n",
    "    print(\"Start of testfn() code...\")\n",
    "    return 100\n",
    "    print(\"Continuing in testfn() code...\")\n",
    "\n",
    "r = testfn()\n",
    "print(r, type(r))"
   ]
  },
  {
   "cell_type": "code",
   "execution_count": 21,
   "metadata": {},
   "outputs": [
    {
     "name": "stdout",
     "output_type": "stream",
     "text": [
      "<generator object testfn at 0x7f6c9b2e8880> <class 'generator'>\n"
     ]
    }
   ],
   "source": [
    "def testfn():\n",
    "    print(\"Start of testfn() code...\")\n",
    "    yield 100\n",
    "    print(\"Continuing in testfn() code...\")\n",
    "\n",
    "r = testfn()\n",
    "print(r, type(r))"
   ]
  },
  {
   "cell_type": "code",
   "execution_count": 24,
   "metadata": {},
   "outputs": [
    {
     "data": {
      "text/plain": [
       "<generator object testfn at 0x7f6c9b257640>"
      ]
     },
     "execution_count": 24,
     "metadata": {},
     "output_type": "execute_result"
    }
   ],
   "source": [
    "def testfn():\n",
    "    print(\"Start of testfn()...\")\n",
    "    yield 100\n",
    "\n",
    "    print(\"Back inside testfn()...\")\n",
    "    yield \"Hello\"\n",
    "\n",
    "    print(\"Back again in testfn()...\")\n",
    "    yield\n",
    "\n",
    "    print(\"End of testfn().\")\n",
    "\n",
    "g = testfn()\n",
    "g"
   ]
  },
  {
   "cell_type": "code",
   "execution_count": 47,
   "metadata": {},
   "outputs": [
    {
     "data": {
      "text/plain": [
       "<generator object testfn at 0x7f6c9b257640>"
      ]
     },
     "execution_count": 47,
     "metadata": {},
     "output_type": "execute_result"
    }
   ],
   "source": [
    "iter(g)"
   ]
  },
  {
   "cell_type": "code",
   "execution_count": 51,
   "metadata": {},
   "outputs": [
    {
     "name": "stdout",
     "output_type": "stream",
     "text": [
      "End of testfn().\n"
     ]
    },
    {
     "ename": "StopIteration",
     "evalue": "",
     "output_type": "error",
     "traceback": [
      "\u001b[0;31m---------------------------------------------------------------------------\u001b[0m",
      "\u001b[0;31mStopIteration\u001b[0m                             Traceback (most recent call last)",
      "Cell \u001b[0;32mIn[51], line 1\u001b[0m\n\u001b[0;32m----> 1\u001b[0m \u001b[38;5;28mnext\u001b[39m(g)\n",
      "\u001b[0;31mStopIteration\u001b[0m: "
     ]
    }
   ],
   "source": [
    "next(g)"
   ]
  },
  {
   "cell_type": "code",
   "execution_count": 26,
   "metadata": {},
   "outputs": [
    {
     "name": "stdout",
     "output_type": "stream",
     "text": [
      "11 22 33 44 55 \n",
      "45 32 7 88 90 \n",
      "h e l l o \n"
     ]
    }
   ],
   "source": [
    "a = [11, 22, 33, 44, 55]\n",
    "b = 45, 32, 7, 88, 90\n",
    "c = \"hello\"\n",
    "\n",
    "for v in a:\n",
    "    print(v, end=\" \")\n",
    "print()\n",
    "\n",
    "for v in b:\n",
    "    print(v, end=\" \")\n",
    "print()\n",
    "\n",
    "for v in c:\n",
    "    print(v, end=\" \")\n",
    "print()"
   ]
  },
  {
   "cell_type": "code",
   "execution_count": 45,
   "metadata": {},
   "outputs": [
    {
     "ename": "TypeError",
     "evalue": "'int' object is not iterable",
     "output_type": "error",
     "traceback": [
      "\u001b[0;31m---------------------------------------------------------------------------\u001b[0m",
      "\u001b[0;31mTypeError\u001b[0m                                 Traceback (most recent call last)",
      "Cell \u001b[0;32mIn[45], line 3\u001b[0m\n\u001b[1;32m      1\u001b[0m a \u001b[38;5;241m=\u001b[39m [\u001b[38;5;241m11\u001b[39m, \u001b[38;5;241m22\u001b[39m, \u001b[38;5;241m33\u001b[39m, \u001b[38;5;241m44\u001b[39m, \u001b[38;5;241m55\u001b[39m]\n\u001b[0;32m----> 3\u001b[0m \u001b[38;5;28;01mfor\u001b[39;00m v \u001b[38;5;129;01min\u001b[39;00m n:\n\u001b[1;32m      4\u001b[0m     \u001b[38;5;28mprint\u001b[39m(v, end\u001b[38;5;241m=\u001b[39m\u001b[38;5;124m\"\u001b[39m\u001b[38;5;124m \u001b[39m\u001b[38;5;124m\"\u001b[39m)\n",
      "\u001b[0;31mTypeError\u001b[0m: 'int' object is not iterable"
     ]
    }
   ],
   "source": [
    "a = [11, 22, 33, 44, 55]\n",
    "\n",
    "for v in n:\n",
    "    print(v, end=\" \")"
   ]
  },
  {
   "cell_type": "code",
   "execution_count": 44,
   "metadata": {},
   "outputs": [
    {
     "name": "stdout",
     "output_type": "stream",
     "text": [
      "h e l l o "
     ]
    }
   ],
   "source": [
    "#a = [11, 22, 33, 44, 55]\n",
    "a = \"hello\"\n",
    "\n",
    "iterator = iter(a)\n",
    "try:\n",
    "    while True:\n",
    "        v = next(iterator)\n",
    "        # The for loop body\n",
    "        print(v, end=\" \")\n",
    "except StopIteration:\n",
    "    pass"
   ]
  },
  {
   "cell_type": "code",
   "execution_count": 32,
   "metadata": {},
   "outputs": [
    {
     "data": {
      "text/plain": [
       "<list_iterator at 0x7f6cb064c610>"
      ]
     },
     "execution_count": 32,
     "metadata": {},
     "output_type": "execute_result"
    }
   ],
   "source": [
    "a = [11, 22, 33, 44, 55]\n",
    "\n",
    "iterator = iter(a)\n",
    "iterator"
   ]
  },
  {
   "cell_type": "code",
   "execution_count": 40,
   "metadata": {},
   "outputs": [
    {
     "ename": "StopIteration",
     "evalue": "",
     "output_type": "error",
     "traceback": [
      "\u001b[0;31m---------------------------------------------------------------------------\u001b[0m",
      "\u001b[0;31mStopIteration\u001b[0m                             Traceback (most recent call last)",
      "Cell \u001b[0;32mIn[40], line 1\u001b[0m\n\u001b[0;32m----> 1\u001b[0m \u001b[38;5;28mnext\u001b[39m(iterator)\n",
      "\u001b[0;31mStopIteration\u001b[0m: "
     ]
    }
   ],
   "source": [
    "next(iterator)"
   ]
  },
  {
   "cell_type": "code",
   "execution_count": 29,
   "metadata": {},
   "outputs": [
    {
     "name": "stdout",
     "output_type": "stream",
     "text": [
      "<list_iterator object at 0x7f6cb064ff70>\n",
      "<tuple_iterator object at 0x7f6cb064c640>\n",
      "<str_ascii_iterator object at 0x7f6cb064fd30>\n",
      "<set_iterator object at 0x7f6cb0705ec0>\n",
      "<dict_keyiterator object at 0x7f6cb0735bc0>\n",
      "<range_iterator object at 0x7f6cb064c450>\n"
     ]
    }
   ],
   "source": [
    "a = [11, 22, 33, 44, 55]\n",
    "b = 45, 32, 7, 88, 90\n",
    "c = \"hello\"\n",
    "d = {45, 67, 89, 12, 32}\n",
    "e = {\"a\": 10, \"b\": 20, \"c\": 30}\n",
    "f = range(10, 20, 2)\n",
    "\n",
    "print(iter(a), iter(b), iter(c), iter(d), iter(e), iter(f), sep=\"\\n\")"
   ]
  },
  {
   "cell_type": "code",
   "execution_count": 34,
   "metadata": {},
   "outputs": [
    {
     "ename": "TypeError",
     "evalue": "'int' object is not an iterator",
     "output_type": "error",
     "traceback": [
      "\u001b[0;31m---------------------------------------------------------------------------\u001b[0m",
      "\u001b[0;31mTypeError\u001b[0m                                 Traceback (most recent call last)",
      "Cell \u001b[0;32mIn[34], line 2\u001b[0m\n\u001b[1;32m      1\u001b[0m n \u001b[38;5;241m=\u001b[39m \u001b[38;5;241m10\u001b[39m\n\u001b[0;32m----> 2\u001b[0m \u001b[38;5;28mnext\u001b[39m(n)\n",
      "\u001b[0;31mTypeError\u001b[0m: 'int' object is not an iterator"
     ]
    }
   ],
   "source": [
    "n = 10\n",
    "next(n)"
   ]
  },
  {
   "cell_type": "code",
   "execution_count": 52,
   "metadata": {},
   "outputs": [
    {
     "name": "stdout",
     "output_type": "stream",
     "text": [
      "Start of testfn()...\n",
      "In for loop: v = 100\n",
      "Back inside testfn()...\n",
      "In for loop: v = Hello\n",
      "Back again in testfn()...\n",
      "In for loop: v = None\n",
      "End of testfn().\n"
     ]
    }
   ],
   "source": [
    "def testfn():\n",
    "    print(\"Start of testfn()...\")\n",
    "    yield 100\n",
    "\n",
    "    print(\"Back inside testfn()...\")\n",
    "    yield \"Hello\"\n",
    "\n",
    "    print(\"Back again in testfn()...\")\n",
    "    yield\n",
    "\n",
    "    print(\"End of testfn().\")\n",
    "\n",
    "for v in testfn():\n",
    "    print(\"In for loop: v =\", v)"
   ]
  }
 ],
 "metadata": {
  "kernelspec": {
   "display_name": "base",
   "language": "python",
   "name": "python3"
  },
  "language_info": {
   "codemirror_mode": {
    "name": "ipython",
    "version": 3
   },
   "file_extension": ".py",
   "mimetype": "text/x-python",
   "name": "python",
   "nbconvert_exporter": "python",
   "pygments_lexer": "ipython3",
   "version": "3.11.5"
  }
 },
 "nbformat": 4,
 "nbformat_minor": 2
}
