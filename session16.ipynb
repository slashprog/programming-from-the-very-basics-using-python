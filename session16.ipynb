{
 "cells": [
  {
   "cell_type": "markdown",
   "metadata": {},
   "source": [
    "## Programming From The Very Basics Using Python - Session 16\n",
    "#### Working with Strings - Basics\n"
   ]
  },
  {
   "cell_type": "code",
   "execution_count": 3,
   "metadata": {},
   "outputs": [],
   "source": [
    "a = \"Hello world\"\n",
    "a = 'Hello world'\n",
    "a = 'Arnold said \"I will be back\" as we watched'\n",
    "a = '''Arnold said \"I'll be back\" as we watched'''"
   ]
  },
  {
   "cell_type": "code",
   "execution_count": 4,
   "metadata": {},
   "outputs": [
    {
     "name": "stdout",
     "output_type": "stream",
     "text": [
      "C:\n",
      "ewfolder\temackup\n",
      "emote\test\u0007ssorted\n"
     ]
    }
   ],
   "source": [
    "install_path = \"C:\\newfolder\\temp\\backup\\network\\remote\\test\\assorted\"\n",
    "print(install_path)"
   ]
  },
  {
   "cell_type": "code",
   "execution_count": 5,
   "metadata": {},
   "outputs": [
    {
     "name": "stdout",
     "output_type": "stream",
     "text": [
      "C:\\newfolder\\temp\\backup\\network\\remote\\test\\assorted\n"
     ]
    }
   ],
   "source": [
    "install_path = \"C:\\\\newfolder\\\\temp\\\\backup\\\\network\\\\remote\\\\test\\\\assorted\"\n",
    "print(install_path)"
   ]
  },
  {
   "cell_type": "code",
   "execution_count": 7,
   "metadata": {},
   "outputs": [
    {
     "name": "stdout",
     "output_type": "stream",
     "text": [
      "C:\\newfolder\\temp\\backup\\network\\remote\\test\\assorted\n"
     ]
    },
    {
     "data": {
      "text/plain": [
       "'C:\\\\newfolder\\\\temp\\\\backup\\\\network\\\\remote\\\\test\\\\assorted'"
      ]
     },
     "execution_count": 7,
     "metadata": {},
     "output_type": "execute_result"
    }
   ],
   "source": [
    "# r-strings a.k.a raw-literal-string notation\n",
    "install_path = r\"C:\\newfolder\\temp\\backup\\network\\remote\\test\\assorted\"\n",
    "print(install_path)\n",
    "install_path"
   ]
  },
  {
   "cell_type": "code",
   "execution_count": 10,
   "metadata": {},
   "outputs": [
    {
     "name": "stdout",
     "output_type": "stream",
     "text": [
      "this is a test\n",
      "ldsfjlksdjfklsdjfsd\n",
      "sdkl;fjlksdjflksdjfsd\n"
     ]
    }
   ],
   "source": [
    "a = \"\"\"this is a test\n",
    "ldsfjlksdjfklsdjfsd\n",
    "sdkl;fjlksdjflksdjfsd\"\"\"\n",
    "\n",
    "print(a)"
   ]
  },
  {
   "cell_type": "code",
   "execution_count": 11,
   "metadata": {},
   "outputs": [
    {
     "name": "stdout",
     "output_type": "stream",
     "text": [
      "CREATE TABLE users(\n",
      "            id INTEGER PRIMARY KEY,\n",
      "            name VARCHAR(32) NOT NULL UNIQUE,\n",
      "            role VARCHAR(32) NOT NULL,\n",
      "            dept VARCHAR(32)\n",
      ")\n",
      "\n"
     ]
    }
   ],
   "source": [
    "sql = \"\"\"CREATE TABLE users(\n",
    "            id INTEGER PRIMARY KEY,\n",
    "            name VARCHAR(32) NOT NULL UNIQUE,\n",
    "            role VARCHAR(32) NOT NULL,\n",
    "            dept VARCHAR(32)\n",
    ")\n",
    "\"\"\"\n",
    "\n",
    "print(sql)"
   ]
  },
  {
   "cell_type": "code",
   "execution_count": 12,
   "metadata": {},
   "outputs": [
    {
     "name": "stdout",
     "output_type": "stream",
     "text": [
      "<!DOCTYPE html>\n",
      "<html>\n",
      "  <head>\n",
      "    <title>A sample report</title>\n",
      "  </head>\n",
      "  <body>\n",
      "\n"
     ]
    }
   ],
   "source": [
    "html_header = '''<!DOCTYPE html>\n",
    "<html>\n",
    "  <head>\n",
    "    <title>A sample report</title>\n",
    "  </head>\n",
    "  <body>\n",
    "'''\n",
    "print(html_header)"
   ]
  },
  {
   "cell_type": "code",
   "execution_count": 13,
   "metadata": {},
   "outputs": [],
   "source": [
    "import mathutil\n"
   ]
  },
  {
   "cell_type": "code",
   "execution_count": null,
   "metadata": {},
   "outputs": [],
   "source": [
    "mathutil.fibonacci()"
   ]
  },
  {
   "cell_type": "code",
   "execution_count": 14,
   "metadata": {},
   "outputs": [
    {
     "name": "stdout",
     "output_type": "stream",
     "text": [
      "b'Hello world' <class 'bytes'>\n"
     ]
    }
   ],
   "source": [
    "a = b\"Hello world\"\n",
    "print(a, type(a))"
   ]
  },
  {
   "cell_type": "code",
   "execution_count": 15,
   "metadata": {},
   "outputs": [
    {
     "name": "stdout",
     "output_type": "stream",
     "text": [
      "Player John scored 45\n"
     ]
    }
   ],
   "source": [
    "user = \"John\"\n",
    "score = 45\n",
    "\n",
    "print(\"Player\", user, \"scored\", score)"
   ]
  },
  {
   "cell_type": "code",
   "execution_count": 16,
   "metadata": {},
   "outputs": [
    {
     "name": "stdout",
     "output_type": "stream",
     "text": [
      "Player John scored 45\n"
     ]
    }
   ],
   "source": [
    "# From Python 3.6+\n",
    "# f-strings a.k.a format-literal string notation\n",
    "\n",
    "user = \"John\"\n",
    "score = 45\n",
    "\n",
    "print(f\"Player {user} scored {score}\")"
   ]
  },
  {
   "cell_type": "code",
   "execution_count": 17,
   "metadata": {},
   "outputs": [
    {
     "name": "stdout",
     "output_type": "stream",
     "text": [
      "Player: {user}, Score: {score}\n"
     ]
    }
   ],
   "source": [
    "# From Python 3.6+\n",
    "# f-strings a.k.a format-literal string notation\n",
    "\n",
    "player = \"John\"\n",
    "score = 45\n",
    "\n",
    "msg = f\"Player: {user}, Score: {score}\"\n",
    "print(msg)"
   ]
  },
  {
   "cell_type": "code",
   "execution_count": 19,
   "metadata": {},
   "outputs": [
    {
     "data": {
      "text/plain": [
       "'10 + 20 => 30'"
      ]
     },
     "execution_count": 19,
     "metadata": {},
     "output_type": "execute_result"
    }
   ],
   "source": [
    "f\"10 + 20 => {10 + 20}\""
   ]
  },
  {
   "cell_type": "code",
   "execution_count": 20,
   "metadata": {},
   "outputs": [
    {
     "name": "stdout",
     "output_type": "stream",
     "text": [
      "Player: adrian, Score: 45.6678\n",
      "Player: steve, Score: 3.4345\n",
      "Player: jan, Score: 2343.5\n",
      "Player: lisa, Score: 21.345\n",
      "Player: damian, Score: 56.78543214\n",
      "Player: chandrashekar, Score: 56534.324\n"
     ]
    }
   ],
   "source": [
    "players = \"adrian\", \"steve\", \"jan\", \"lisa\", \"damian\", \"chandrashekar\"\n",
    "scores = 45.6678, 3.4345, 2343.5, 21.345, 56.78543214, 56534.324\n",
    "\n",
    "for p, s in zip(players, scores):\n",
    "    print(f\"Player: {p}, Score: {s}\")\n"
   ]
  },
  {
   "cell_type": "code",
   "execution_count": 24,
   "metadata": {},
   "outputs": [
    {
     "name": "stdout",
     "output_type": "stream",
     "text": [
      "Player: adrian         , Score:        45.67\n",
      "Player: steve          , Score:         3.43\n",
      "Player: jan            , Score:      2343.50\n",
      "Player: lisa           , Score:        21.34\n",
      "Player: damian         , Score:        56.79\n",
      "Player: chandrashekar  , Score:     56534.32\n"
     ]
    }
   ],
   "source": [
    "players = \"adrian\", \"steve\", \"jan\", \"lisa\", \"damian\", \"chandrashekar\"\n",
    "scores = 45.6678, 3.4345, 2343.5, 21.345, 56.78543214, 56534.324\n",
    "\n",
    "for p, s in zip(players, scores):\n",
    "    print(f\"Player: {p:15s}, Score: {s:12.2f}\")\n"
   ]
  },
  {
   "cell_type": "code",
   "execution_count": 28,
   "metadata": {},
   "outputs": [
    {
     "name": "stdout",
     "output_type": "stream",
     "text": [
      "+---------+-----------------+-------+--------------+\n",
      "| Player  | adrian          | Score |        45.67 |\n",
      "| Player  | steve           | Score |         3.43 |\n",
      "| Player  | jan             | Score |      2343.50 |\n",
      "| Player  | lisa            | Score |        21.34 |\n",
      "| Player  | damian          | Score |        56.79 |\n",
      "| Player  | chandrashekar   | Score |     56534.32 |\n",
      "+---------+-----------------+-------+--------------+\n"
     ]
    }
   ],
   "source": [
    "players = \"adrian\", \"steve\", \"jan\", \"lisa\", \"damian\", \"chandrashekar\"\n",
    "scores = 45.6678, 3.4345, 2343.5, 21.345, 56.78543214, 56534.324\n",
    "\n",
    "print(\"+---------+-----------------+-------+--------------+\")\n",
    "for p, s in zip(players, scores):\n",
    "    print(f\"| Player  | {p:15s} | Score | {s:12.2f} |\")\n",
    "print(\"+---------+-----------------+-------+--------------+\")\n",
    "\n"
   ]
  },
  {
   "cell_type": "code",
   "execution_count": 29,
   "metadata": {},
   "outputs": [
    {
     "name": "stdout",
     "output_type": "stream",
     "text": [
      "+---------+-----------------+-------+--------------+\n",
      "| Player  |          adrian | Score |        45.67 |\n",
      "| Player  |           steve | Score |         3.43 |\n",
      "| Player  |             jan | Score |      2343.50 |\n",
      "| Player  |            lisa | Score |        21.34 |\n",
      "| Player  |          damian | Score |        56.79 |\n",
      "| Player  |   chandrashekar | Score |     56534.32 |\n",
      "+---------+-----------------+-------+--------------+\n"
     ]
    }
   ],
   "source": [
    "players = \"adrian\", \"steve\", \"jan\", \"lisa\", \"damian\", \"chandrashekar\"\n",
    "scores = 45.6678, 3.4345, 2343.5, 21.345, 56.78543214, 56534.324\n",
    "\n",
    "print(\"+---------+-----------------+-------+--------------+\")\n",
    "for p, s in zip(players, scores):\n",
    "    print(f\"| Player  | {p:>15s} | Score | {s:12.2f} |\")\n",
    "print(\"+---------+-----------------+-------+--------------+\")\n",
    "\n"
   ]
  },
  {
   "cell_type": "code",
   "execution_count": 31,
   "metadata": {},
   "outputs": [
    {
     "name": "stdout",
     "output_type": "stream",
     "text": [
      "+---------+-----------------+-------+--------------+\n",
      "| Player  |     adrian      | Score |        45.67 |\n",
      "| Player  |      steve      | Score |         3.43 |\n",
      "| Player  |       jan       | Score |      2343.50 |\n",
      "| Player  |      lisa       | Score |        21.34 |\n",
      "| Player  |     damian      | Score |        56.79 |\n",
      "| Player  |  chandrashekar  | Score |     56534.32 |\n",
      "+---------+-----------------+-------+--------------+\n"
     ]
    }
   ],
   "source": [
    "players = \"adrian\", \"steve\", \"jan\", \"lisa\", \"damian\", \"chandrashekar\"\n",
    "scores = 45.6678, 3.4345, 2343.5, 21.345, 56.78543214, 56534.324\n",
    "\n",
    "print(\"+---------+-----------------+-------+--------------+\")\n",
    "for p, s in zip(players, scores):\n",
    "    print(f\"| Player  | {p:^15s} | Score | {s:12.2f} |\")\n",
    "print(\"+---------+-----------------+-------+--------------+\")\n",
    "\n"
   ]
  },
  {
   "cell_type": "code",
   "execution_count": 40,
   "metadata": {},
   "outputs": [
    {
     "data": {
      "text/plain": [
       "'1234 - 0b10011010010 - 0x4d2 - 0o2322'"
      ]
     },
     "execution_count": 40,
     "metadata": {},
     "output_type": "execute_result"
    }
   ],
   "source": [
    "a = 1234\n",
    "f\"{a} - {a:#b} - {a:#x} - {a:#o}\"\n",
    "\n"
   ]
  },
  {
   "cell_type": "code",
   "execution_count": 44,
   "metadata": {},
   "outputs": [
    {
     "name": "stdout",
     "output_type": "stream",
     "text": [
      "JohnDoe\n",
      "JohnDoeJohnDoeJohnDoeJohnDoeJohnDoe\n",
      "J\n"
     ]
    }
   ],
   "source": [
    "a = \"John\"\n",
    "b = \"Doe\"\n",
    "c = a + b # String concatenation\n",
    "print(c)\n",
    "\n",
    "print(c * 5) # String repetition\n",
    "\n",
    "print(c[0])"
   ]
  },
  {
   "cell_type": "code",
   "execution_count": 43,
   "metadata": {},
   "outputs": [
    {
     "name": "stdout",
     "output_type": "stream",
     "text": [
      "========================================\n",
      "                Hello world\n",
      "----------------------------------------\n"
     ]
    }
   ],
   "source": [
    "print(\"=\" * 40)\n",
    "print(\" \" * 15, \"Hello world\")\n",
    "print(\"-\" * 40)"
   ]
  },
  {
   "cell_type": "code",
   "execution_count": 47,
   "metadata": {},
   "outputs": [
    {
     "name": "stdout",
     "output_type": "stream",
     "text": [
      "t i g t\n"
     ]
    }
   ],
   "source": [
    "s = \"this is a test string\"\n",
    "print(s[0], s[5], s[-1], s[-5])"
   ]
  },
  {
   "cell_type": "code",
   "execution_count": 50,
   "metadata": {},
   "outputs": [
    {
     "ename": "IndexError",
     "evalue": "string index out of range",
     "output_type": "error",
     "traceback": [
      "\u001b[0;31m---------------------------------------------------------------------------\u001b[0m\n\u001b[0;31mIndexError\u001b[0m                                Traceback (most recent call last)",
      "In  \u001b[0;34m[50]\u001b[0m:\nLine \u001b[0;34m2\u001b[0m:     \u001b[37m\u001b[39;49;00m\n",
      "\u001b[0;31mIndexError\u001b[0m: string index out of range\n\u001b[0;31m---------------------------------------------------------------------------\u001b[0m"
     ]
    }
   ],
   "source": [
    "s = \"this is a test string\"\n",
    "print(s[30])\n",
    "print(len(s))"
   ]
  },
  {
   "cell_type": "code",
   "execution_count": 51,
   "metadata": {},
   "outputs": [
    {
     "name": "stdout",
     "output_type": "stream",
     "text": [
      "21\n"
     ]
    }
   ],
   "source": [
    "s = \"this is a test string\"\n",
    "print(len(s))"
   ]
  },
  {
   "cell_type": "code",
   "execution_count": 57,
   "metadata": {},
   "outputs": [
    {
     "name": "stdout",
     "output_type": "stream",
     "text": [
      "this  string\n",
      "test\n"
     ]
    }
   ],
   "source": [
    "print(s[:5], s[-6:]) # Slice the first 5 items and last 6 items\n",
    "print(s[10:14])"
   ]
  }
 ],
 "metadata": {
  "kernelspec": {
   "display_name": "Python 3.11 (XPython Raw)",
   "language": "python",
   "name": "xpython-raw"
  },
  "language_info": {
   "file_extension": ".py",
   "mimetype": "text/x-python",
   "name": "python",
   "version": "3.11.1"
  }
 },
 "nbformat": 4,
 "nbformat_minor": 2
}
