{
 "cells": [
  {
   "cell_type": "markdown",
   "metadata": {},
   "source": [
    "## Programming From The Very Basics Using Python - Session 31\n",
    "#### Generators - Revisited\n"
   ]
  },
  {
   "cell_type": "code",
   "execution_count": 13,
   "metadata": {},
   "outputs": [
    {
     "name": "stdout",
     "output_type": "stream",
     "text": [
      "task-1: counting 0\n",
      "task-1: counting 1\n",
      "task-1: counting 2\n",
      "task-1: counting 3\n",
      "task-1: counting 4\n",
      "task-1: counting 5\n",
      "task-1: counting 6\n",
      "task-1: counting 7\n",
      "task-1: counting 8\n",
      "task-1: counting 9\n",
      "task-2: counting 0\n",
      "task-2: counting 1\n",
      "task-2: counting 2\n",
      "task-2: counting 3\n",
      "task-2: counting 4\n",
      "task-2: counting 5\n",
      "task-2: counting 6\n",
      "task-2: counting 7\n",
      "task-2: counting 8\n",
      "task-2: counting 9\n"
     ]
    }
   ],
   "source": [
    "from time import sleep\n",
    "\n",
    "def task1():\n",
    "    for i in range(10):\n",
    "        print(\"task-1: counting\", i)\n",
    "        sleep(1)\n",
    "\n",
    "def task2():\n",
    "    for i in range(10):\n",
    "        print(\"task-2: counting\", i)\n",
    "        sleep(1)\n",
    "\n",
    "task1()\n",
    "task2()"
   ]
  },
  {
   "cell_type": "code",
   "execution_count": 11,
   "metadata": {},
   "outputs": [
    {
     "data": {
      "text/plain": [
       "<generator object task2 at 0x7f39f81835a0>"
      ]
     },
     "execution_count": 11,
     "metadata": {},
     "output_type": "execute_result"
    }
   ],
   "source": [
    "from time import sleep\n",
    "\n",
    "def task1():\n",
    "    for i in range(10):\n",
    "        print(\"task-1: counting\", i)\n",
    "        yield\n",
    "        sleep(1)\n",
    "\n",
    "def task2():\n",
    "    for i in range(10):\n",
    "        print(\"task-2: counting\", i)\n",
    "        yield\n",
    "        sleep(1)\n",
    "\n",
    "task1()\n",
    "task2()"
   ]
  },
  {
   "cell_type": "code",
   "execution_count": 14,
   "metadata": {},
   "outputs": [
    {
     "name": "stdout",
     "output_type": "stream",
     "text": [
      "task-1: counting 0\n",
      "task-2: counting 0\n",
      "task-1: counting 1\n",
      "task-2: counting 1\n",
      "task-1: counting 2\n",
      "task-2: counting 2\n",
      "task-1: counting 3\n",
      "task-2: counting 3\n",
      "task-1: counting 4\n",
      "task-2: counting 4\n",
      "task-1: counting 5\n",
      "task-2: counting 5\n",
      "task-1: counting 6\n",
      "task-2: counting 6\n",
      "task-1: counting 7\n",
      "task-2: counting 7\n",
      "task-1: counting 8\n",
      "task-2: counting 8\n",
      "task-1: counting 9\n",
      "task-2: counting 9\n"
     ]
    }
   ],
   "source": [
    "from time import sleep\n",
    "\n",
    "def task1():\n",
    "    for i in range(10):\n",
    "        print(\"task-1: counting\", i)\n",
    "        yield\n",
    "        sleep(1)\n",
    "\n",
    "def task2():\n",
    "    for i in range(10):\n",
    "        print(\"task-2: counting\", i)\n",
    "        yield\n",
    "        sleep(1)\n",
    "\n",
    "for _, _ in zip(task1(), task2()):\n",
    "    pass\n"
   ]
  },
  {
   "cell_type": "code",
   "execution_count": 15,
   "metadata": {},
   "outputs": [
    {
     "name": "stdout",
     "output_type": "stream",
     "text": [
      "john sydney\n",
      "sam melbourne\n",
      "jones perth\n"
     ]
    }
   ],
   "source": [
    "users = (\"john\", \"sam\", \"jones\")\n",
    "places = (\"sydney\", \"melbourne\", \"perth\")\n",
    "\n",
    "for u, p in zip(users, places):\n",
    "    print(u, p)"
   ]
  },
  {
   "cell_type": "code",
   "execution_count": 16,
   "metadata": {},
   "outputs": [
    {
     "data": {
      "text/plain": [
       "<zip at 0x7f39f815bac0>"
      ]
     },
     "execution_count": 16,
     "metadata": {},
     "output_type": "execute_result"
    }
   ],
   "source": [
    "z = zip(users, places)\n",
    "z"
   ]
  },
  {
   "cell_type": "code",
   "execution_count": 20,
   "metadata": {},
   "outputs": [
    {
     "name": "stdout",
     "output_type": "stream",
     "text": [
      "<generator object <genexpr> at 0x7f39f813b1d0> <class 'generator'>\n"
     ]
    }
   ],
   "source": [
    "a = [1, 3, 5, 7, 8, 3]\n",
    "\n",
    "g = (v*v for v in a) # Generator comprehension!\n",
    "\n",
    "print(g, type(g))"
   ]
  },
  {
   "cell_type": "code",
   "execution_count": 24,
   "metadata": {},
   "outputs": [],
   "source": [
    "a = [1, 3, 5, 7, 8, 3]\n",
    "\n",
    "def slow_square(v):\n",
    "    from time import sleep\n",
    "    sleep(1)\n",
    "    print(f\"Invoked: slow_square({v})\")\n",
    "    return v*v\n"
   ]
  },
  {
   "cell_type": "code",
   "execution_count": 25,
   "metadata": {},
   "outputs": [
    {
     "name": "stdout",
     "output_type": "stream",
     "text": [
      "Invoked: slow_square(1)\n",
      "Invoked: slow_square(3)\n",
      "Invoked: slow_square(5)\n",
      "Invoked: slow_square(7)\n",
      "Invoked: slow_square(8)\n",
      "Invoked: slow_square(3)\n",
      "Squares of a=[1, 3, 5, 7, 8, 3] => [1, 9, 25, 49, 64, 9]\n"
     ]
    }
   ],
   "source": [
    "\n",
    "print(f\"Squares of {a=} =>\", [slow_square(n) for n in a])\n"
   ]
  },
  {
   "cell_type": "code",
   "execution_count": 27,
   "metadata": {},
   "outputs": [
    {
     "name": "stdout",
     "output_type": "stream",
     "text": [
      "Squares of a=[1, 3, 5, 7, 8, 3] => <generator object <genexpr> at 0x7f39f8120820>\n",
      "Invoked: slow_square(1)\n",
      "Squares -> 1\n",
      "Invoked: slow_square(3)\n",
      "Squares -> 9\n",
      "Invoked: slow_square(5)\n",
      "Squares -> 25\n",
      "Invoked: slow_square(7)\n",
      "Squares -> 49\n",
      "Invoked: slow_square(8)\n",
      "Squares -> 64\n",
      "Invoked: slow_square(3)\n",
      "Squares -> 9\n"
     ]
    }
   ],
   "source": [
    "\n",
    "print(f\"Squares of {a=} =>\", (slow_square(n) for n in a))\n",
    "\n",
    "g = (slow_square(n) for n in a)\n",
    "\n",
    "for v in g:\n",
    "    print(\"Squares ->\", v)\n"
   ]
  }
 ],
 "metadata": {
  "kernelspec": {
   "display_name": "base",
   "language": "python",
   "name": "python3"
  },
  "language_info": {
   "codemirror_mode": {
    "name": "ipython",
    "version": 3
   },
   "file_extension": ".py",
   "mimetype": "text/x-python",
   "name": "python",
   "nbconvert_exporter": "python",
   "pygments_lexer": "ipython3",
   "version": "3.11.5"
  }
 },
 "nbformat": 4,
 "nbformat_minor": 2
}
