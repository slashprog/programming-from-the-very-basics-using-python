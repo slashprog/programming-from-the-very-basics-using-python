{
 "cells": [
  {
   "cell_type": "markdown",
   "metadata": {},
   "source": [
    "## Programming From The Very Basics Using Python - Session 04\n",
    "#### Ingredients of a python program - Part 2\n",
    "\n",
    "Planned topics for this video:\n",
    "  - Statements and Expressions - one layer deep\n",
    "  - Objects, Values, Data and Data-Types"
   ]
  }
 ],
 "metadata": {
  "language_info": {
   "name": "python"
  }
 },
 "nbformat": 4,
 "nbformat_minor": 2
}
