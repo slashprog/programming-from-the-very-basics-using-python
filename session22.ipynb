{
 "cells": [
  {
   "cell_type": "markdown",
   "metadata": {},
   "source": [
    "## Programming From The Very Basics Using Python - Session 22\n",
    "#### Numbers and Sequences - the missing bits\n"
   ]
  },
  {
   "cell_type": "code",
   "execution_count": 1,
   "metadata": {},
   "outputs": [
    {
     "name": "stdout",
     "output_type": "stream",
     "text": [
      "10 <class 'int'>\n"
     ]
    }
   ],
   "source": [
    "a = 1000\n",
    "print(a, type(a))"
   ]
  },
  {
   "cell_type": "code",
   "execution_count": 4,
   "metadata": {},
   "outputs": [
    {
     "data": {
      "text/plain": [
       "68"
      ]
     },
     "execution_count": 4,
     "metadata": {},
     "output_type": "execute_result"
    }
   ],
   "source": [
    "import sys\n",
    "a = 10000000000000000000000000000000000000000000000000000000000000000000000000000000000000000000\n",
    "sys.getsizeof(a)"
   ]
  },
  {
   "cell_type": "code",
   "execution_count": 7,
   "metadata": {},
   "outputs": [
    {
     "name": "stdout",
     "output_type": "stream",
     "text": [
      "A\n",
      "97\n"
     ]
    }
   ],
   "source": [
    "a = 65\n",
    "print(chr(65))\n",
    "\n",
    "a = 'a'\n",
    "print(ord(a))\n"
   ]
  },
  {
   "cell_type": "code",
   "execution_count": 12,
   "metadata": {},
   "outputs": [
    {
     "name": "stdout",
     "output_type": "stream",
     "text": [
      "q=2, r=1\n"
     ]
    }
   ],
   "source": [
    "q, r = divmod(5, 2)\n",
    "print(f\"{q=}, {r=}\")"
   ]
  },
  {
   "cell_type": "code",
   "execution_count": 13,
   "metadata": {},
   "outputs": [
    {
     "data": {
      "text/plain": [
       "34"
      ]
     },
     "execution_count": 13,
     "metadata": {},
     "output_type": "execute_result"
    }
   ],
   "source": [
    "a = -34\n",
    "abs(a)"
   ]
  },
  {
   "cell_type": "code",
   "execution_count": 15,
   "metadata": {},
   "outputs": [
    {
     "data": {
      "text/plain": [
       "6"
      ]
     },
     "execution_count": 15,
     "metadata": {},
     "output_type": "execute_result"
    }
   ],
   "source": [
    "round(5.52234234234234)"
   ]
  },
  {
   "cell_type": "code",
   "execution_count": 16,
   "metadata": {},
   "outputs": [
    {
     "data": {
      "text/plain": [
       "5.52"
      ]
     },
     "execution_count": 16,
     "metadata": {},
     "output_type": "execute_result"
    }
   ],
   "source": [
    "round(5.52234234234234, 2)"
   ]
  },
  {
   "cell_type": "code",
   "execution_count": 17,
   "metadata": {},
   "outputs": [
    {
     "data": {
      "text/plain": [
       "25"
      ]
     },
     "execution_count": 17,
     "metadata": {},
     "output_type": "execute_result"
    }
   ],
   "source": [
    "pow(5, 2)"
   ]
  },
  {
   "cell_type": "code",
   "execution_count": 18,
   "metadata": {},
   "outputs": [
    {
     "data": {
      "text/plain": [
       "25"
      ]
     },
     "execution_count": 18,
     "metadata": {},
     "output_type": "execute_result"
    }
   ],
   "source": [
    "5 ** 2"
   ]
  },
  {
   "cell_type": "markdown",
   "metadata": {},
   "source": [
    "Builtin functions that operate on numbers:\n",
    "\n",
    "    - abs(), divmod(), round(), pow()\n",
    "    - ord(), chr(), ascii()\n",
    "    - hex(), oct(), bin()"
   ]
  },
  {
   "cell_type": "code",
   "execution_count": 23,
   "metadata": {},
   "outputs": [
    {
     "name": "stdout",
     "output_type": "stream",
     "text": [
      "அಅඅअ <class 'str'> 4\n",
      "b'\\xe0\\xae\\x85\\xe0\\xb2\\x85\\xe0\\xb6\\x85\\xe0\\xa4\\x85' <class 'bytes'> 12\n",
      "அಅඅअ\n"
     ]
    }
   ],
   "source": [
    "a = \"\\u0b85\\u0c85\\u0d85\\u0905\"\n",
    "print(a, type(a), len(a))\n",
    "\n",
    "b = bytes(a, \"utf8\")\n",
    "print(b, type(b), len(b))\n",
    "\n",
    "\n",
    "c = str(b, \"utf8\")\n",
    "print(c)"
   ]
  },
  {
   "cell_type": "code",
   "execution_count": 27,
   "metadata": {},
   "outputs": [
    {
     "data": {
      "text/plain": [
       "'utf-8'"
      ]
     },
     "execution_count": 27,
     "metadata": {},
     "output_type": "execute_result"
    }
   ],
   "source": [
    "import chardet\n",
    "\n",
    "b = b'\\xe0\\xae\\x85\\xe0\\xb2\\x85\\xe0\\xb6\\x85\\xe0\\xa4\\x85'\n",
    "\n",
    "chardet.detect(b)[\"encoding\"]"
   ]
  },
  {
   "cell_type": "code",
   "execution_count": 28,
   "metadata": {},
   "outputs": [
    {
     "data": {
      "text/plain": [
       "'அಅඅअ'"
      ]
     },
     "execution_count": 28,
     "metadata": {},
     "output_type": "execute_result"
    }
   ],
   "source": [
    "import chardet\n",
    "\n",
    "b = b'\\xe0\\xae\\x85\\xe0\\xb2\\x85\\xe0\\xb6\\x85\\xe0\\xa4\\x85'\n",
    "c = str(b, chardet.detect(b)[\"encoding\"])\n",
    "c"
   ]
  },
  {
   "cell_type": "code",
   "execution_count": 30,
   "metadata": {},
   "outputs": [
    {
     "data": {
      "text/plain": [
       "'அಅඅअ'"
      ]
     },
     "execution_count": 30,
     "metadata": {},
     "output_type": "execute_result"
    }
   ],
   "source": [
    "b.decode(chardet.detect(b)[\"encoding\"])"
   ]
  },
  {
   "cell_type": "code",
   "execution_count": 32,
   "metadata": {},
   "outputs": [],
   "source": [
    "c = b.decode(\"utf-8\")"
   ]
  },
  {
   "cell_type": "code",
   "execution_count": 34,
   "metadata": {},
   "outputs": [
    {
     "data": {
      "text/plain": [
       "b'\\xe0\\xae\\x85\\xe0\\xb2\\x85\\xe0\\xb6\\x85\\xe0\\xa4\\x85'"
      ]
     },
     "execution_count": 34,
     "metadata": {},
     "output_type": "execute_result"
    }
   ],
   "source": [
    "c.encode(\"utf-8\")"
   ]
  },
  {
   "cell_type": "code",
   "execution_count": null,
   "metadata": {},
   "outputs": [],
   "source": [
    "# bytearray -> mutable equivalent of bytes\n"
   ]
  },
  {
   "cell_type": "code",
   "execution_count": 38,
   "metadata": {},
   "outputs": [
    {
     "name": "stdout",
     "output_type": "stream",
     "text": [
      "('h', 'e', 'l', 'l', 'o')\n",
      "('h', 'e', 'l', 'l', 'o')\n",
      "hello\n"
     ]
    }
   ],
   "source": [
    "a = \"hello\"\n",
    "b = tuple(a)\n",
    "print(b)\n",
    "\n",
    "c = str(b)\n",
    "print(c)\n",
    "\n",
    "c = \"\".join(b)\n",
    "print(c)"
   ]
  },
  {
   "cell_type": "code",
   "execution_count": 41,
   "metadata": {},
   "outputs": [
    {
     "name": "stdout",
     "output_type": "stream",
     "text": [
      "b'hello' <class 'bytes'>\n",
      "(104, 101, 108, 108, 111) <class 'tuple'>\n",
      "b'hello'\n"
     ]
    }
   ],
   "source": [
    "a = b\"hello\"\n",
    "print(a, type(a))\n",
    "\n",
    "b = tuple(a)\n",
    "print(b, type(b))\n",
    "\n",
    "c = bytes(b) # for this to work, tuple must only have integers in the range (0-256)\n",
    "print(c)"
   ]
  },
  {
   "cell_type": "code",
   "execution_count": 42,
   "metadata": {},
   "outputs": [
    {
     "name": "stdout",
     "output_type": "stream",
     "text": [
      "b'abcdefghijklmnopqrstuvwxyz'\n"
     ]
    }
   ],
   "source": [
    "a = range(97, 97+26)\n",
    "b = bytes(a)\n",
    "print(b)"
   ]
  },
  {
   "cell_type": "code",
   "execution_count": 43,
   "metadata": {},
   "outputs": [
    {
     "data": {
      "text/plain": [
       "'abcdefghijklmnopqrstuvwxyz'"
      ]
     },
     "execution_count": 43,
     "metadata": {},
     "output_type": "execute_result"
    }
   ],
   "source": [
    "s = str(bytes(range(97, 97+26)), \"utf-8\")\n",
    "s"
   ]
  },
  {
   "cell_type": "code",
   "execution_count": 46,
   "metadata": {},
   "outputs": [
    {
     "name": "stdout",
     "output_type": "stream",
     "text": [
      "bytearray(b'Hello') <class 'bytearray'>\n",
      "bytearray(b'Hello world') <class 'bytearray'>\n",
      "bytearray(b'\\x16!,7BM\\x0c') <class 'bytearray'>\n"
     ]
    }
   ],
   "source": [
    "a = bytearray(\"Hello\", \"utf-8\")\n",
    "print(a, type(a))\n",
    "\n",
    "b = bytearray(b\"Hello world\")\n",
    "print(b, type(b))\n",
    "\n",
    "c = bytearray([22, 33, 44, 55, 66, 77, 12])\n",
    "print(c, type(c))"
   ]
  },
  {
   "cell_type": "code",
   "execution_count": 50,
   "metadata": {},
   "outputs": [
    {
     "name": "stdout",
     "output_type": "stream",
     "text": [
      "bytearray(b'\\n\\x14\\x1e(2<') <class 'bytearray'>\n",
      "bytearray(b'\\n\\x14\\x19\\x1e2<FPZd') [10, 20, 25, 30, 50, 60, 70, 80, 90, 100]\n"
     ]
    }
   ],
   "source": [
    "a = bytearray([10, 20, 30, 40, 50, 60])\n",
    "print(a, type(a))\n",
    "\n",
    "a.append(70)\n",
    "a.insert(2, 25)\n",
    "\n",
    "v = a.pop(4)\n",
    "\n",
    "a.extend([80, 90, 100])\n",
    "\n",
    "print(a, list(a))"
   ]
  },
  {
   "cell_type": "code",
   "execution_count": 51,
   "metadata": {},
   "outputs": [
    {
     "name": "stdout",
     "output_type": "stream",
     "text": [
      "[10, 20, 30, 40] 140337140383360\n",
      "[10, 20, 30, 40, 50, 60, 70] 140337140383360\n"
     ]
    }
   ],
   "source": [
    "a = [10, 20, 30, 40]\n",
    "b = 50, 60, 70\n",
    "\n",
    "print(a, id(a))\n",
    "a += b # This works similar to a.extend(b). Does not create a new list.\n",
    "print(a, id(a))"
   ]
  },
  {
   "cell_type": "code",
   "execution_count": 52,
   "metadata": {},
   "outputs": [
    {
     "name": "stdout",
     "output_type": "stream",
     "text": [
      "(10, 20, 30, 40) 140337141160416\n",
      "(10, 20, 30, 40, 50, 60, 70) 140337387091712\n"
     ]
    }
   ],
   "source": [
    "a = 10, 20, 30, 40\n",
    "b = 50, 60, 70\n",
    "\n",
    "print(a, id(a))\n",
    "a += b # This is similar to a = a + b --> Creates a new tuple object\n",
    "print(a, id(a))"
   ]
  }
 ],
 "metadata": {
  "kernelspec": {
   "display_name": "base",
   "language": "python",
   "name": "python3"
  },
  "language_info": {
   "codemirror_mode": {
    "name": "ipython",
    "version": 3
   },
   "file_extension": ".py",
   "mimetype": "text/x-python",
   "name": "python",
   "nbconvert_exporter": "python",
   "pygments_lexer": "ipython3",
   "version": "3.11.5"
  }
 },
 "nbformat": 4,
 "nbformat_minor": 2
}
