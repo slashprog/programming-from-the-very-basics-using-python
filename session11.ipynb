{
 "cells": [
  {
   "cell_type": "markdown",
   "metadata": {},
   "source": [
    "## Programming From The Very Basics Using Python - Session 11\n",
    "#### Compound statements and basic flow-control\n",
    "\n",
    "Planned topics for this video:\n",
    "  - General structure of compound statements\n",
    "  - Using the ```if``` conditional statement\n",
    "  - Using the ```while``` loop\n",
    "  - Basic usage of the ```for``` loop\n"
   ]
  },
  {
   "cell_type": "markdown",
   "metadata": {},
   "source": [
    "All compound statements start with one the keywords - ```if```, ```while```, ```for```, ```try```, ```with```, ```def```, ```async def```, ```class```\n",
    "\n",
    "The structure would be as below:\n",
    "```\n",
    "    <keyword> <keyword-specific-syntax>: <a simple statement>\n",
    "```\n",
    " or\n",
    "\n",
    " ```\n",
    "    <keyword> <keyword-specific-syntax>:\n",
    "        <indented-block-of-statements-that-make-up-the-body>\n",
    "        ...\n",
    "        ...\n",
    "```\n",
    "    \n",
    "\n"
   ]
  },
  {
   "cell_type": "code",
   "execution_count": null,
   "metadata": {},
   "outputs": [],
   "source": [
    "num = 34\n",
    "\"even\" if num % 2 == 0 else \"odd\"\n"
   ]
  },
  {
   "cell_type": "code",
   "execution_count": 18,
   "metadata": {},
   "outputs": [
    {
     "name": "stdout",
     "output_type": "stream",
     "text": [
      "Welcome Young Pythonista!\n",
      "done.\n"
     ]
    }
   ],
   "source": [
    "age = int(input(\"Enter your age: \"))\n",
    "if age < 0: \n",
    "    print(\"Are you out of your mind ?\")\n",
    "    print(age, \"as an age is invalid!\")\n",
    "else:\n",
    "    print(\"Welcome Young Pythonista!\")\n",
    "       \n",
    "print(\"done.\")"
   ]
  },
  {
   "cell_type": "code",
   "execution_count": 24,
   "metadata": {},
   "outputs": [
    {
     "name": "stdout",
     "output_type": "stream",
     "text": [
      "Are you really human ?!\n",
      "done.\n"
     ]
    }
   ],
   "source": [
    "age = int(input(\"Enter your age: \"))\n",
    "if age < 0: \n",
    "    print(\"Are you out of your mind ?\")\n",
    "    print(age, \"as an age is invalid!\")\n",
    "elif age < 30:\n",
    "    print(\"Welcome Young Pythonista!\")\n",
    "elif age < 60:\n",
    "    print(\"Welcome Python Guru!\")\n",
    "elif age < 90:\n",
    "    print(\"Welcome Python Wizard!\")\n",
    "elif age < 150:\n",
    "    print(\"Wow! Python Rules!\")\n",
    "else:\n",
    "    print(\"Are you really human ?!\")\n",
    "\n",
    "print(\"done.\")"
   ]
  },
  {
   "cell_type": "code",
   "execution_count": 27,
   "metadata": {},
   "outputs": [
    {
     "name": "stdout",
     "output_type": "stream",
     "text": [
      "I have something\n"
     ]
    }
   ],
   "source": [
    "money_in_my_wallet = -10  # Avoid creating painfully long named variables!\n",
    "if money_in_my_wallet:\n",
    "    print(\"I have something\")\n",
    "else:\n",
    "    print(\"I have nothing!\")"
   ]
  },
  {
   "cell_type": "code",
   "execution_count": 32,
   "metadata": {},
   "outputs": [
    {
     "name": "stdout",
     "output_type": "stream",
     "text": [
      "Welcome Young Pythonista!\n",
      "done.\n"
     ]
    }
   ],
   "source": [
    "age = int(input(\"Enter your age: \"))\n",
    "if age < 0: \n",
    "    print(\"Are you out of your mind ?\")\n",
    "    print(age, \"as an age is invalid!\")\n",
    "elif age < 30:\n",
    "    if age % 2 == 0:\n",
    "        print(\"Welcome Young Pythonista!\")\n",
    "    else:\n",
    "        print(\"Welcome Python newbie!\")\n",
    "elif age < 60:\n",
    "    print(\"Welcome Python Guru!\")\n",
    "elif age < 90:\n",
    "    print(\"Welcome Python Wizard!\")\n",
    "elif age < 150:\n",
    "    print(\"Wow! Python Rules!\")\n",
    "else:\n",
    "    print(\"Are you really human ?!\")\n",
    "\n",
    "print(\"done.\")"
   ]
  },
  {
   "cell_type": "code",
   "execution_count": null,
   "metadata": {},
   "outputs": [],
   "source": []
  }
 ],
 "metadata": {
  "kernelspec": {
   "display_name": "base",
   "language": "python",
   "name": "python3"
  },
  "language_info": {
   "codemirror_mode": {
    "name": "ipython",
    "version": 3
   },
   "file_extension": ".py",
   "mimetype": "text/x-python",
   "name": "python",
   "nbconvert_exporter": "python",
   "pygments_lexer": "ipython3",
   "version": "3.11.5"
  }
 },
 "nbformat": 4,
 "nbformat_minor": 2
}
