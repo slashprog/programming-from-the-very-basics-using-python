{
 "cells": [
  {
   "cell_type": "markdown",
   "metadata": {},
   "source": [
    "## Programming From The Very Basics Using Python - Session 17\n",
    "#### Working with Strings - Basic string methods\n"
   ]
  },
  {
   "cell_type": "code",
   "execution_count": 8,
   "metadata": {},
   "outputs": [
    {
     "name": "stdout",
     "output_type": "stream",
     "text": [
      "Name: %s, Score: %7.2f, Age: %d\n",
      "Name: John, Score:   56.12, Age: 23\n",
      "Name: Mary, Score:   45.67, Age: 32\n"
     ]
    }
   ],
   "source": [
    "a = \"Name: %s, Score: %7.2f, Age: %d\"\n",
    "print(a)\n",
    "\n",
    "b = a % (\"John\", 56.1234, 23)\n",
    "print(b)\n",
    "\n",
    "print(a % (\"Mary\", 45.67, 32))"
   ]
  },
  {
   "cell_type": "code",
   "execution_count": 9,
   "metadata": {},
   "outputs": [
    {
     "name": "stdout",
     "output_type": "stream",
     "text": [
      "Hello Alice, Welcome to Taj Hotel!\n",
      "Taj Hotel is a great place to visit!\n",
      "See you around - Alice\n"
     ]
    }
   ],
   "source": [
    "msg = \"\"\"Hello %s, Welcome to %s!\n",
    "%s is a great place to visit!\n",
    "See you around - %s\"\"\"\n",
    "\n",
    "guest, hotel = \"Alice\", \"Taj Hotel\"\n",
    "\n",
    "print(msg % (guest, hotel, hotel, guest))"
   ]
  },
  {
   "cell_type": "code",
   "execution_count": 10,
   "metadata": {},
   "outputs": [
    {
     "name": "stdout",
     "output_type": "stream",
     "text": [
      "Hello Alice, Welcome to Taj Hotel!\n",
      "Taj Hotel is a great place to visit!\n",
      "See you around - Alice\n"
     ]
    }
   ],
   "source": [
    "msg = \"\"\"Hello {0}, Welcome to {1}!\n",
    "{1} is a great place to visit!\n",
    "See you around - {0}\"\"\"\n",
    "\n",
    "guest, hotel = \"Alice\", \"Taj Hotel\"\n",
    "\n",
    "print(msg.format(guest, hotel))"
   ]
  },
  {
   "cell_type": "code",
   "execution_count": 11,
   "metadata": {},
   "outputs": [
    {
     "name": "stdout",
     "output_type": "stream",
     "text": [
      "Hello Alice, Welcome to Taj Hotel!\n",
      "Taj Hotel is a great place to visit!\n",
      "See you around - Alice\n"
     ]
    }
   ],
   "source": [
    "msg = \"\"\"Hello {guest}, Welcome to {place}!\n",
    "{place} is a great place to visit!\n",
    "See you around - {guest}\"\"\"\n",
    "\n",
    "print(msg.format(guest=\"Alice\", place=\"Taj Hotel\"))"
   ]
  },
  {
   "cell_type": "code",
   "execution_count": 12,
   "metadata": {},
   "outputs": [
    {
     "name": "stdout",
     "output_type": "stream",
     "text": [
      "Hello Smith, Welcome to Hyatt!\n",
      "Hyatt is a great place to visit!\n",
      "See you around - Smith\n"
     ]
    }
   ],
   "source": [
    "print(msg.format(guest=\"Smith\", place=\"Hyatt\"))"
   ]
  },
  {
   "cell_type": "code",
   "execution_count": 13,
   "metadata": {},
   "outputs": [
    {
     "data": {
      "text/plain": [
       "'Decimal: 65, Binary: 0b1000001, Hex: 0x41, Oct: 0o101'"
      ]
     },
     "execution_count": 13,
     "metadata": {},
     "output_type": "execute_result"
    }
   ],
   "source": [
    "number = \"Decimal: {0:d}, Binary: {0:#b}, Hex: {0:#x}, Oct: {0:#o}\"\n",
    "number.format(65)"
   ]
  },
  {
   "cell_type": "code",
   "execution_count": 14,
   "metadata": {},
   "outputs": [
    {
     "ename": "ValueError",
     "evalue": "unsupported format character 'b' (0x62) at index 22",
     "output_type": "error",
     "traceback": [
      "\u001b[0;31m---------------------------------------------------------------------------\u001b[0m\n\u001b[0;31mValueError\u001b[0m                                Traceback (most recent call last)",
      "In  \u001b[0;34m[14]\u001b[0m:\nLine \u001b[0;34m2\u001b[0m:     \u001b[37m\u001b[39;49;00m\n",
      "\u001b[0;31mValueError\u001b[0m: unsupported format character 'b' (0x62) at index 22\n\u001b[0;31m---------------------------------------------------------------------------\u001b[0m"
     ]
    }
   ],
   "source": [
    "number = \"Decimal: %d, Binary: %b, Hex: %x, Oct: %o\"\n",
    "number % (65, 65, 65, 65)"
   ]
  },
  {
   "cell_type": "code",
   "execution_count": 15,
   "metadata": {},
   "outputs": [
    {
     "name": "stdout",
     "output_type": "stream",
     "text": [
      "False True True False\n"
     ]
    }
   ],
   "source": [
    "a, b = \"Alice\", \"Steve\"\n",
    "\n",
    "print(a == b, a != b, a < b, a > b)"
   ]
  },
  {
   "cell_type": "code",
   "execution_count": 17,
   "metadata": {},
   "outputs": [
    {
     "data": {
      "text/plain": [
       "(True, True)"
      ]
     },
     "execution_count": 17,
     "metadata": {},
     "output_type": "execute_result"
    }
   ],
   "source": [
    "a = \"this is a test string\"\n",
    "\"test\" in a, \"temp\" not in a"
   ]
  },
  {
   "cell_type": "code",
   "execution_count": 18,
   "metadata": {},
   "outputs": [
    {
     "data": {
      "text/plain": [
       "''"
      ]
     },
     "execution_count": 18,
     "metadata": {},
     "output_type": "execute_result"
    }
   ],
   "source": [
    "\"\""
   ]
  },
  {
   "cell_type": "code",
   "execution_count": 19,
   "metadata": {},
   "outputs": [
    {
     "data": {
      "text/plain": [
       "False"
      ]
     },
     "execution_count": 19,
     "metadata": {},
     "output_type": "execute_result"
    }
   ],
   "source": [
    "s = \"tEsT\"\n",
    "a = \"ThIs is a TeST string\"\n",
    "s in a"
   ]
  },
  {
   "cell_type": "code",
   "execution_count": 20,
   "metadata": {},
   "outputs": [
    {
     "data": {
      "text/plain": [
       "True"
      ]
     },
     "execution_count": 20,
     "metadata": {},
     "output_type": "execute_result"
    }
   ],
   "source": [
    "s.lower() in a.lower()"
   ]
  },
  {
   "cell_type": "code",
   "execution_count": 23,
   "metadata": {},
   "outputs": [
    {
     "data": {
      "text/plain": [
       "True"
      ]
     },
     "execution_count": 23,
     "metadata": {},
     "output_type": "execute_result"
    }
   ],
   "source": [
    "s.lower() in a.casefold()"
   ]
  },
  {
   "cell_type": "code",
   "execution_count": 31,
   "metadata": {},
   "outputs": [
    {
     "name": "stdout",
     "output_type": "stream",
     "text": [
      "AaBbCcDdEe\n",
      "KkLlMmNnOoPpQqRrSsTtUuVvWwXxYyZz\n",
      "VvWwXxYyZz\n",
      "AaBbCcDdEeFfGgHhIiJjKkLlMmNnOoPpQqRrSsTtUu\n",
      "ABCDEFGHIJ\n",
      "abcdefghij\n",
      "ABCDEFGHIJKLMNOPQRSTUVWXYZ\n",
      "AcFhKmPrUwZ\n"
     ]
    }
   ],
   "source": [
    "a = \"AaBbCcDdEeFfGgHhIiJjKkLlMmNnOoPpQqRrSsTtUuVvWwXxYyZz\"\n",
    "\n",
    "print(a[:10]) # Slice the first 10 characters\n",
    "print(a[20:]) # Slice from the 20th character till the end\n",
    "print(a[-10:]) # Slice the last 10 characters\n",
    "print(a[:-10]) # Slice until the last 10 characters\n",
    "print(a[:20:2])\n",
    "print(a[1:21:2])\n",
    "print(a[::2])\n",
    "print(a[::5])"
   ]
  },
  {
   "cell_type": "code",
   "execution_count": 33,
   "metadata": {},
   "outputs": [
    {
     "data": {
      "text/plain": [
       "True"
      ]
     },
     "execution_count": 33,
     "metadata": {},
     "output_type": "execute_result"
    }
   ],
   "source": [
    "a = \"helloworld\"\n",
    "a.isalpha()"
   ]
  },
  {
   "cell_type": "code",
   "execution_count": 34,
   "metadata": {},
   "outputs": [
    {
     "data": {
      "text/plain": [
       "False"
      ]
     },
     "execution_count": 34,
     "metadata": {},
     "output_type": "execute_result"
    }
   ],
   "source": [
    "a = \"hello2world\"\n",
    "a.isalpha()"
   ]
  },
  {
   "cell_type": "code",
   "execution_count": 35,
   "metadata": {},
   "outputs": [
    {
     "data": {
      "text/plain": [
       "True"
      ]
     },
     "execution_count": 35,
     "metadata": {},
     "output_type": "execute_result"
    }
   ],
   "source": [
    "a = \"hello2world\"\n",
    "a.isalnum()"
   ]
  },
  {
   "cell_type": "code",
   "execution_count": 37,
   "metadata": {},
   "outputs": [
    {
     "name": "stdout",
     "output_type": "stream",
     "text": [
      "Invalid input - please only alphabets\n"
     ]
    }
   ],
   "source": [
    "name = input(\"Enter username: \")\n",
    "if not name.isalpha():\n",
    "    print(\"Invalid input - please only alphabets\")"
   ]
  },
  {
   "cell_type": "code",
   "execution_count": 38,
   "metadata": {},
   "outputs": [
    {
     "name": "stdout",
     "output_type": "stream",
     "text": [
      "Invalid input - please only alphabets\n",
      "Invalid input - please only alphabets\n",
      "Welcome john\n"
     ]
    }
   ],
   "source": [
    "while not (name := input(\"Enter username: \")).isalpha():\n",
    "    print(\"Invalid input - please only alphabets\")\n",
    "else:\n",
    "    print(\"Welcome\", name)"
   ]
  },
  {
   "cell_type": "code",
   "execution_count": 40,
   "metadata": {},
   "outputs": [
    {
     "name": "stdout",
     "output_type": "stream",
     "text": [
      "True True True\n"
     ]
    }
   ],
   "source": [
    "a = \"12312321\"\n",
    "print(a.isdigit(), a.isnumeric(), a.isdecimal())"
   ]
  },
  {
   "cell_type": "code",
   "execution_count": 42,
   "metadata": {},
   "outputs": [
    {
     "name": "stdout",
     "output_type": "stream",
     "text": [
      "2²\n",
      "False True True\n"
     ]
    }
   ],
   "source": [
    "a = \"2\\u00b2\"\n",
    "print(a)\n",
    "print(a.isdecimal(), a.isdigit(), a.isnumeric())"
   ]
  },
  {
   "cell_type": "code",
   "execution_count": 43,
   "metadata": {},
   "outputs": [],
   "source": [
    "# isdecimal()\n",
    "arabic = \"٠١٢٣٤٥٦٧٨٩\"\n",
    "devanagiri = \"०१२३४५६७८९\"\n",
    "tamil = \"௦௧௨௩௪௫௬௭௮௯\"\n",
    "gurmukhi = \"੦੧੨੩੪੫੬੭੮੯\"\n",
    "kannada = \"೦೧೨೩೪೫೬೭೮೯\"\n",
    "\n",
    "# isdigit()\n",
    "superscript = \"⁰¹²³⁴⁵⁶⁷⁸⁹\"\n",
    "subscript = \"₀₁₂₃₄₅₆₇₈₉\"\n",
    "\n",
    "# isnumeric()\n",
    "roman = \"ⅠⅡⅢⅣⅤⅥⅦⅧⅨⅩⅪⅫⅬⅭⅮⅯↀↁↂↅↆ\"\n",
    "fractions = \"½⅓¼⅕⅙⅐⅛⅑⅒⅔¾⅖⅗⅘⅚⅜⅝⅞⅟↉\"\n",
    "\n",
    "tamil_2 = \"௰௱௲\"\n"
   ]
  },
  {
   "cell_type": "code",
   "execution_count": 44,
   "metadata": {},
   "outputs": [
    {
     "data": {
      "text/plain": [
       "True"
      ]
     },
     "execution_count": 44,
     "metadata": {},
     "output_type": "execute_result"
    }
   ],
   "source": [
    "arabic.isdecimal()"
   ]
  },
  {
   "cell_type": "code",
   "execution_count": 45,
   "metadata": {},
   "outputs": [
    {
     "data": {
      "text/plain": [
       "(False, False, True)"
      ]
     },
     "execution_count": 45,
     "metadata": {},
     "output_type": "execute_result"
    }
   ],
   "source": [
    "roman.isdecimal(), roman.isdigit(), roman.isnumeric()"
   ]
  },
  {
   "cell_type": "code",
   "execution_count": 46,
   "metadata": {},
   "outputs": [
    {
     "data": {
      "text/plain": [
       "12"
      ]
     },
     "execution_count": 46,
     "metadata": {},
     "output_type": "execute_result"
    }
   ],
   "source": [
    "a = \"೧೨\"\n",
    "int(a)"
   ]
  },
  {
   "cell_type": "code",
   "execution_count": 47,
   "metadata": {},
   "outputs": [
    {
     "data": {
      "text/plain": [
       "56"
      ]
     },
     "execution_count": 47,
     "metadata": {},
     "output_type": "execute_result"
    }
   ],
   "source": [
    "a = \"٥٦\"\n",
    "int(a)"
   ]
  },
  {
   "cell_type": "code",
   "execution_count": 50,
   "metadata": {},
   "outputs": [
    {
     "name": "stdout",
     "output_type": "stream",
     "text": [
      "a='tHiS iS a tESt StriNG'\n",
      "a.upper()='THIS IS A TEST STRING'\n",
      "a.lower()='this is a test string'\n",
      "a.title()='This Is A Test String'\n",
      "a.swapcase()='ThIs Is A TesT sTRIng'\n",
      "a.capitalize()='This is a test string'\n"
     ]
    }
   ],
   "source": [
    "a = \"tHiS iS a tESt StriNG\"\n",
    "print(f\"{a=}\",\n",
    "      f\"{a.upper()=}\", \n",
    "      f\"{a.lower()=}\",\n",
    "      f\"{a.title()=}\",\n",
    "      f\"{a.swapcase()=}\",\n",
    "      f\"{a.capitalize()=}\",\n",
    "      sep=\"\\n\")\n"
   ]
  },
  {
   "cell_type": "code",
   "execution_count": 54,
   "metadata": {},
   "outputs": [
    {
     "name": "stdout",
     "output_type": "stream",
     "text": [
      "True\n",
      "True\n",
      "True\n"
     ]
    }
   ],
   "source": [
    "a = \"this is a test string\"\n",
    "print(a.startswith(\"this\"))\n",
    "print(a.endswith(\"ing\"))\n",
    "print(\"test\" in a)"
   ]
  },
  {
   "cell_type": "code",
   "execution_count": 58,
   "metadata": {},
   "outputs": [
    {
     "name": "stdout",
     "output_type": "stream",
     "text": [
      "a=' \\t\\t\\n\\r\\n  this is a test string    \\t\\n\\r '\n",
      "a.lstrip()='this is a test string    \\t\\n\\r '\n",
      "a.rstrip()=' \\t\\t\\n\\r\\n  this is a test string'\n",
      "a.strip()='this is a test string'\n",
      "a.lstrip().rstrip()='this is a test string'\n"
     ]
    }
   ],
   "source": [
    "a = \" \\t\\t\\n\\r\\n  this is a test string    \\t\\n\\r \"\n",
    "print(f\"{a=}\")\n",
    "print(f\"{a.lstrip()=}\", \n",
    "      f\"{a.rstrip()=}\",\n",
    "      f\"{a.strip()=}\", \n",
    "      f\"{a.lstrip().rstrip()=}\", sep=\"\\n\")"
   ]
  }
 ],
 "metadata": {
  "kernelspec": {
   "display_name": "Python 3.11 (XPython Raw)",
   "language": "python",
   "name": "xpython-raw"
  },
  "language_info": {
   "file_extension": ".py",
   "mimetype": "text/x-python",
   "name": "python",
   "version": "3.11.1"
  }
 },
 "nbformat": 4,
 "nbformat_minor": 2
}
