{
 "cells": [
  {
   "cell_type": "markdown",
   "metadata": {},
   "source": [
    "## Programming From The Very Basics Using Python - Session 29\n",
    "#### Functions - Odds and Ends\n"
   ]
  },
  {
   "cell_type": "code",
   "execution_count": 2,
   "metadata": {},
   "outputs": [
    {
     "name": "stdout",
     "output_type": "stream",
     "text": [
      "[121, 484, 1089, 1936]\n",
      "[1331, 10648, 35937, 85184]\n"
     ]
    }
   ],
   "source": [
    "def square_list(values):\n",
    "    result = []\n",
    "    for v in values:\n",
    "        result.append(v*v)\n",
    "    return result\n",
    "\n",
    "def cube_list(values):\n",
    "    result = []\n",
    "    for v in values:\n",
    "        result.append(v**3)\n",
    "    return result\n",
    "\n",
    "\n",
    "s = square_list([11, 22, 33, 44])\n",
    "print(s)\n",
    "\n",
    "c = cube_list([11, 22, 33, 44])\n",
    "print(c)"
   ]
  },
  {
   "cell_type": "code",
   "execution_count": 8,
   "metadata": {},
   "outputs": [
    {
     "name": "stdout",
     "output_type": "stream",
     "text": [
      "[4, 16, 36, 25, 64, 49]\n",
      "[8, 64, 216, 125, 512, 343]\n",
      "[1.4142135623730951, 2.0, 2.449489742783178, 2.23606797749979, 2.8284271247461903, 2.6457513110645907]\n"
     ]
    },
    {
     "ename": "AttributeError",
     "evalue": "'int' object has no attribute 'upper'",
     "output_type": "error",
     "traceback": [
      "\u001b[0;31m---------------------------------------------------------------------------\u001b[0m",
      "\u001b[0;31mAttributeError\u001b[0m                            Traceback (most recent call last)",
      "Cell \u001b[0;32mIn[8], line 28\u001b[0m\n\u001b[1;32m     24\u001b[0m users \u001b[38;5;241m=\u001b[39m \u001b[38;5;124m\"\u001b[39m\u001b[38;5;124mjohn\u001b[39m\u001b[38;5;124m\"\u001b[39m, \u001b[38;5;124m\"\u001b[39m\u001b[38;5;124malice\u001b[39m\u001b[38;5;124m\"\u001b[39m, \u001b[38;5;241m10\u001b[39m, \u001b[38;5;124m\"\u001b[39m\u001b[38;5;124mtim\u001b[39m\u001b[38;5;124m\"\u001b[39m, \u001b[38;5;124m\"\u001b[39m\u001b[38;5;124msteve\u001b[39m\u001b[38;5;124m\"\u001b[39m, \u001b[38;5;124m\"\u001b[39m\u001b[38;5;124mbourne\u001b[39m\u001b[38;5;124m\"\u001b[39m\n\u001b[1;32m     26\u001b[0m \u001b[38;5;28;01mdef\u001b[39;00m \u001b[38;5;21mto_upper\u001b[39m(n): \u001b[38;5;28;01mreturn\u001b[39;00m n\u001b[38;5;241m.\u001b[39mupper()\n\u001b[0;32m---> 28\u001b[0m u_names \u001b[38;5;241m=\u001b[39m apply(to_upper, users)\n\u001b[1;32m     29\u001b[0m \u001b[38;5;28mprint\u001b[39m(u_names)\n",
      "Cell \u001b[0;32mIn[8], line 4\u001b[0m, in \u001b[0;36mapply\u001b[0;34m(fn, values)\u001b[0m\n\u001b[1;32m      2\u001b[0m result \u001b[38;5;241m=\u001b[39m []\n\u001b[1;32m      3\u001b[0m \u001b[38;5;28;01mfor\u001b[39;00m v \u001b[38;5;129;01min\u001b[39;00m values:\n\u001b[0;32m----> 4\u001b[0m     result\u001b[38;5;241m.\u001b[39mappend(fn(v))\n\u001b[1;32m      5\u001b[0m \u001b[38;5;28;01mreturn\u001b[39;00m result\n",
      "Cell \u001b[0;32mIn[8], line 26\u001b[0m, in \u001b[0;36mto_upper\u001b[0;34m(n)\u001b[0m\n\u001b[0;32m---> 26\u001b[0m \u001b[38;5;28;01mdef\u001b[39;00m \u001b[38;5;21mto_upper\u001b[39m(n): \u001b[38;5;28;01mreturn\u001b[39;00m n\u001b[38;5;241m.\u001b[39mupper()\n",
      "\u001b[0;31mAttributeError\u001b[0m: 'int' object has no attribute 'upper'"
     ]
    }
   ],
   "source": [
    "def apply(fn, values): # Higher-Order-Function\n",
    "    result = []\n",
    "    for v in values:\n",
    "        result.append(fn(v))\n",
    "    return result\n",
    "\n",
    "def square(x):\n",
    "    return x*x\n",
    "\n",
    "def cube(x):\n",
    "    return x**3\n",
    "\n",
    "def sqrt(x):\n",
    "    return x ** 0.5\n",
    "\n",
    "s = apply(square, [2, 4, 6, 5, 8, 7])\n",
    "c = apply(cube, [2, 4, 6, 5, 8, 7])\n",
    "\n",
    "print(s, c, sep=\"\\n\")\n",
    "\n",
    "sq = apply(sqrt, [2, 4, 6, 5, 8, 7])\n",
    "print(sq)\n",
    "\n",
    "users = \"john\", \"alice\", 10, \"tim\", \"steve\", \"bourne\"\n",
    "\n",
    "def to_upper(n): return n.upper()\n",
    "\n",
    "u_names = apply(to_upper, users)\n",
    "print(u_names)\n"
   ]
  },
  {
   "cell_type": "code",
   "execution_count": 13,
   "metadata": {},
   "outputs": [
    {
     "name": "stdout",
     "output_type": "stream",
     "text": [
      "<function square at 0x7f9d8ad654e0> <class 'function'> 4\n",
      "<function <lambda> at 0x7f9d8ad645e0> <class 'function'> 4\n",
      "30\n"
     ]
    }
   ],
   "source": [
    "def square(x):\n",
    "    return x*x\n",
    "\n",
    "print(square, type(square), square(2))\n",
    "\n",
    "sqr = lambda x: x*x\n",
    "print(sqr, type(sqr), sqr(2))\n",
    "\n",
    "add = lambda x,y: x+y\n",
    "print(add(10, 20))"
   ]
  },
  {
   "cell_type": "code",
   "execution_count": 11,
   "metadata": {},
   "outputs": [
    {
     "ename": "SyntaxError",
     "evalue": "invalid syntax (1709168749.py, line 1)",
     "output_type": "error",
     "traceback": [
      "\u001b[0;36m  Cell \u001b[0;32mIn[11], line 1\u001b[0;36m\u001b[0m\n\u001b[0;31m    a = def square(x): return x*x\u001b[0m\n\u001b[0m        ^\u001b[0m\n\u001b[0;31mSyntaxError\u001b[0m\u001b[0;31m:\u001b[0m invalid syntax\n"
     ]
    }
   ],
   "source": [
    "a = def square(x): return x*x"
   ]
  },
  {
   "cell_type": "code",
   "execution_count": 15,
   "metadata": {},
   "outputs": [
    {
     "name": "stdout",
     "output_type": "stream",
     "text": [
      "[4, 16, 36, 25, 64, 49]\n",
      "[8, 64, 216, 125, 512, 343]\n",
      "[1.4142135623730951, 2.0, 2.449489742783178, 2.23606797749979, 2.8284271247461903, 2.6457513110645907]\n",
      "['JOHN', 'ALICE', 'TIM', 'STEVE', 'BOURNE']\n"
     ]
    }
   ],
   "source": [
    "def apply(fn, values): # Higher-Order-Function\n",
    "    result = []\n",
    "    for v in values:\n",
    "        result.append(fn(v))\n",
    "    return result\n",
    "\n",
    "s = apply(lambda v: v*v, [2, 4, 6, 5, 8, 7])\n",
    "c = apply(lambda x: x**3, [2, 4, 6, 5, 8, 7])\n",
    "\n",
    "print(s, c, sep=\"\\n\")\n",
    "\n",
    "sq = apply(sqrt, [2, 4, 6, 5, 8, 7])\n",
    "print(sq)\n",
    "\n",
    "users = \"john\", \"alice\", \"tim\", \"steve\", \"bourne\"\n",
    "u_names = apply(lambda u: u.upper(), users)\n",
    "print(u_names)\n"
   ]
  },
  {
   "cell_type": "code",
   "execution_count": 17,
   "metadata": {},
   "outputs": [
    {
     "ename": "TypeError",
     "evalue": "can't multiply sequence by non-int of type 'str'",
     "output_type": "error",
     "traceback": [
      "\u001b[0;31m---------------------------------------------------------------------------\u001b[0m",
      "\u001b[0;31mTypeError\u001b[0m                                 Traceback (most recent call last)",
      "Cell \u001b[0;32mIn[17], line 7\u001b[0m\n\u001b[1;32m      4\u001b[0m         result\u001b[38;5;241m.\u001b[39mappend(fn(v))\n\u001b[1;32m      5\u001b[0m     \u001b[38;5;28;01mreturn\u001b[39;00m result\n\u001b[0;32m----> 7\u001b[0m s \u001b[38;5;241m=\u001b[39m apply(\u001b[38;5;28;01mlambda\u001b[39;00m v: v\u001b[38;5;241m*\u001b[39mv, [\u001b[38;5;241m2\u001b[39m, \u001b[38;5;241m4\u001b[39m, \u001b[38;5;241m6\u001b[39m, \u001b[38;5;124m\"\u001b[39m\u001b[38;5;124mhello\u001b[39m\u001b[38;5;124m\"\u001b[39m, \u001b[38;5;241m5\u001b[39m, \u001b[38;5;241m8\u001b[39m, \u001b[38;5;241m7\u001b[39m])\n\u001b[1;32m      8\u001b[0m \u001b[38;5;28mprint\u001b[39m(\u001b[38;5;124m\"\u001b[39m\u001b[38;5;124ms =\u001b[39m\u001b[38;5;124m\"\u001b[39m, s)\n",
      "Cell \u001b[0;32mIn[17], line 4\u001b[0m, in \u001b[0;36mapply\u001b[0;34m(fn, values)\u001b[0m\n\u001b[1;32m      2\u001b[0m result \u001b[38;5;241m=\u001b[39m []\n\u001b[1;32m      3\u001b[0m \u001b[38;5;28;01mfor\u001b[39;00m v \u001b[38;5;129;01min\u001b[39;00m values:\n\u001b[0;32m----> 4\u001b[0m     result\u001b[38;5;241m.\u001b[39mappend(fn(v))\n\u001b[1;32m      5\u001b[0m \u001b[38;5;28;01mreturn\u001b[39;00m result\n",
      "Cell \u001b[0;32mIn[17], line 7\u001b[0m, in \u001b[0;36m<lambda>\u001b[0;34m(v)\u001b[0m\n\u001b[1;32m      4\u001b[0m         result\u001b[38;5;241m.\u001b[39mappend(fn(v))\n\u001b[1;32m      5\u001b[0m     \u001b[38;5;28;01mreturn\u001b[39;00m result\n\u001b[0;32m----> 7\u001b[0m s \u001b[38;5;241m=\u001b[39m apply(\u001b[38;5;28;01mlambda\u001b[39;00m v: v\u001b[38;5;241m*\u001b[39mv, [\u001b[38;5;241m2\u001b[39m, \u001b[38;5;241m4\u001b[39m, \u001b[38;5;241m6\u001b[39m, \u001b[38;5;124m\"\u001b[39m\u001b[38;5;124mhello\u001b[39m\u001b[38;5;124m\"\u001b[39m, \u001b[38;5;241m5\u001b[39m, \u001b[38;5;241m8\u001b[39m, \u001b[38;5;241m7\u001b[39m])\n\u001b[1;32m      8\u001b[0m \u001b[38;5;28mprint\u001b[39m(\u001b[38;5;124m\"\u001b[39m\u001b[38;5;124ms =\u001b[39m\u001b[38;5;124m\"\u001b[39m, s)\n",
      "\u001b[0;31mTypeError\u001b[0m: can't multiply sequence by non-int of type 'str'"
     ]
    }
   ],
   "source": [
    "def apply(fn, values): # Higher-Order-Function\n",
    "    result = []\n",
    "    for v in values:\n",
    "        result.append(fn(v))\n",
    "    return result\n",
    "\n",
    "s = apply(lambda v: v*v, [2, 4, 6, \"hello\", 5, 8, 7])\n",
    "print(\"s =\", s)\n"
   ]
  },
  {
   "cell_type": "code",
   "execution_count": 18,
   "metadata": {},
   "outputs": [
    {
     "ename": "TypeError",
     "evalue": "can't multiply sequence by non-int of type 'str'",
     "output_type": "error",
     "traceback": [
      "\u001b[0;31m---------------------------------------------------------------------------\u001b[0m",
      "\u001b[0;31mTypeError\u001b[0m                                 Traceback (most recent call last)",
      "Cell \u001b[0;32mIn[18], line 9\u001b[0m\n\u001b[1;32m      5\u001b[0m     \u001b[38;5;28;01mreturn\u001b[39;00m result\n\u001b[1;32m      7\u001b[0m \u001b[38;5;28;01mdef\u001b[39;00m \u001b[38;5;21msquare\u001b[39m(x): \u001b[38;5;28;01mreturn\u001b[39;00m x\u001b[38;5;241m*\u001b[39mx\n\u001b[0;32m----> 9\u001b[0m s \u001b[38;5;241m=\u001b[39m apply(square, [\u001b[38;5;241m2\u001b[39m, \u001b[38;5;241m4\u001b[39m, \u001b[38;5;241m6\u001b[39m, \u001b[38;5;124m\"\u001b[39m\u001b[38;5;124mhello\u001b[39m\u001b[38;5;124m\"\u001b[39m, \u001b[38;5;241m5\u001b[39m, \u001b[38;5;241m8\u001b[39m, \u001b[38;5;241m7\u001b[39m])\n\u001b[1;32m     10\u001b[0m \u001b[38;5;28mprint\u001b[39m(\u001b[38;5;124m\"\u001b[39m\u001b[38;5;124ms =\u001b[39m\u001b[38;5;124m\"\u001b[39m, s)\n",
      "Cell \u001b[0;32mIn[18], line 4\u001b[0m, in \u001b[0;36mapply\u001b[0;34m(fn, values)\u001b[0m\n\u001b[1;32m      2\u001b[0m result \u001b[38;5;241m=\u001b[39m []\n\u001b[1;32m      3\u001b[0m \u001b[38;5;28;01mfor\u001b[39;00m v \u001b[38;5;129;01min\u001b[39;00m values:\n\u001b[0;32m----> 4\u001b[0m     result\u001b[38;5;241m.\u001b[39mappend(fn(v))\n\u001b[1;32m      5\u001b[0m \u001b[38;5;28;01mreturn\u001b[39;00m result\n",
      "Cell \u001b[0;32mIn[18], line 7\u001b[0m, in \u001b[0;36msquare\u001b[0;34m(x)\u001b[0m\n\u001b[0;32m----> 7\u001b[0m \u001b[38;5;28;01mdef\u001b[39;00m \u001b[38;5;21msquare\u001b[39m(x): \u001b[38;5;28;01mreturn\u001b[39;00m x\u001b[38;5;241m*\u001b[39mx\n",
      "\u001b[0;31mTypeError\u001b[0m: can't multiply sequence by non-int of type 'str'"
     ]
    }
   ],
   "source": [
    "def apply(fn, values): # Higher-Order-Function\n",
    "    result = []\n",
    "    for v in values:\n",
    "        result.append(fn(v))\n",
    "    return result\n",
    "\n",
    "def square(x): return x*x\n",
    "\n",
    "s = apply(square, [2, 4, 6, \"hello\", 5, 8, 7])\n",
    "print(\"s =\", s)\n"
   ]
  },
  {
   "cell_type": "code",
   "execution_count": 20,
   "metadata": {},
   "outputs": [
    {
     "name": "stdout",
     "output_type": "stream",
     "text": [
      "s = [4, 16, 36, 0, 0, 64, 49]\n"
     ]
    }
   ],
   "source": [
    "def apply(fn, values): # Higher-Order-Function\n",
    "    result = []\n",
    "    for v in values:\n",
    "        if type(v) is int:\n",
    "            r = fn(v)\n",
    "        else:\n",
    "            r = 0\n",
    "        result.append(r)\n",
    "    return result\n",
    "\n",
    "def square(x): return x*x\n",
    "\n",
    "s = apply(square, [2, 4, 6, \"hello\", 5.6, 8, 7])\n",
    "print(\"s =\", s)\n"
   ]
  },
  {
   "cell_type": "code",
   "execution_count": 21,
   "metadata": {},
   "outputs": [
    {
     "name": "stdout",
     "output_type": "stream",
     "text": [
      "s = [4, 16, 36, 0, 31.359999999999996, 64, 49]\n"
     ]
    }
   ],
   "source": [
    "def apply(fn, values): # Higher-Order-Function\n",
    "    result = []\n",
    "    for v in values:\n",
    "        if type(v) in (int, float):\n",
    "            r = fn(v)\n",
    "        else:\n",
    "            r = 0\n",
    "        result.append(r)\n",
    "    return result\n",
    "\n",
    "def square(x): return x*x\n",
    "\n",
    "s = apply(square, [2, 4, 6, \"hello\", 5.6, 8, 7])\n",
    "print(\"s =\", s)\n"
   ]
  },
  {
   "cell_type": "code",
   "execution_count": 29,
   "metadata": {},
   "outputs": [
    {
     "name": "stdout",
     "output_type": "stream",
     "text": [
      "s = [4, (-9+40j), 36, 0, 31.359999999999996, 64, 1, 49, 0]\n"
     ]
    },
    {
     "data": {
      "text/plain": [
       "[0, 0, 0]"
      ]
     },
     "execution_count": 29,
     "metadata": {},
     "output_type": "execute_result"
    }
   ],
   "source": [
    "from numbers import Number\n",
    "def apply(fn, values): # Higher-Order-Function\n",
    "    result = []\n",
    "    for v in values:\n",
    "        if isinstance(v, Number): # Using Generalization (LSP - Liskov's Substitution Principle)\n",
    "            r = fn(v)\n",
    "        else:\n",
    "            r = 0\n",
    "        result.append(r)\n",
    "    return result\n",
    "\n",
    "def square(x): return x*x\n",
    "\n",
    "s = apply(square, [2, 4+5j, 6, \"hello\", 5.6, 8, True, 7, None])\n",
    "print(\"s =\", s)\n",
    "\n",
    "apply(lambda x: x.upper(), [\"John\", \"Sam\", \"Jones\"])\n"
   ]
  },
  {
   "cell_type": "code",
   "execution_count": 31,
   "metadata": {},
   "outputs": [
    {
     "name": "stdout",
     "output_type": "stream",
     "text": [
      "s = [4, (-9+40j), 36, 0, 31.359999999999996, 64, 1, 49, 0]\n"
     ]
    },
    {
     "ename": "TypeError",
     "evalue": "'int' object is not iterable",
     "output_type": "error",
     "traceback": [
      "\u001b[0;31m---------------------------------------------------------------------------\u001b[0m",
      "\u001b[0;31mTypeError\u001b[0m                                 Traceback (most recent call last)",
      "Cell \u001b[0;32mIn[31], line 16\u001b[0m\n\u001b[1;32m     13\u001b[0m s \u001b[38;5;241m=\u001b[39m apply(square, [\u001b[38;5;241m2\u001b[39m, \u001b[38;5;241m4\u001b[39m\u001b[38;5;241m+\u001b[39m\u001b[38;5;241m5\u001b[39mj, \u001b[38;5;241m6\u001b[39m, \u001b[38;5;124m\"\u001b[39m\u001b[38;5;124mhello\u001b[39m\u001b[38;5;124m\"\u001b[39m, \u001b[38;5;241m5.6\u001b[39m, \u001b[38;5;241m8\u001b[39m, \u001b[38;5;28;01mTrue\u001b[39;00m, \u001b[38;5;241m7\u001b[39m, \u001b[38;5;28;01mNone\u001b[39;00m])\n\u001b[1;32m     14\u001b[0m \u001b[38;5;28mprint\u001b[39m(\u001b[38;5;124m\"\u001b[39m\u001b[38;5;124ms =\u001b[39m\u001b[38;5;124m\"\u001b[39m, s)\n\u001b[0;32m---> 16\u001b[0m apply(\u001b[38;5;28;01mlambda\u001b[39;00m x: x\u001b[38;5;241m.\u001b[39mupper(), \u001b[38;5;241m45\u001b[39m)\n",
      "Cell \u001b[0;32mIn[31], line 3\u001b[0m, in \u001b[0;36mapply\u001b[0;34m(fn, values)\u001b[0m\n\u001b[1;32m      1\u001b[0m \u001b[38;5;28;01mdef\u001b[39;00m \u001b[38;5;21mapply\u001b[39m(fn, values): \n\u001b[1;32m      2\u001b[0m     result \u001b[38;5;241m=\u001b[39m []\n\u001b[0;32m----> 3\u001b[0m     \u001b[38;5;28;01mfor\u001b[39;00m v \u001b[38;5;129;01min\u001b[39;00m values:\n\u001b[1;32m      4\u001b[0m         \u001b[38;5;28;01mtry\u001b[39;00m:           \u001b[38;5;66;03m# Duck-Typing \u001b[39;00m\n\u001b[1;32m      5\u001b[0m             r \u001b[38;5;241m=\u001b[39m fn(v)\n",
      "\u001b[0;31mTypeError\u001b[0m: 'int' object is not iterable"
     ]
    }
   ],
   "source": [
    "def apply(fn, values): \n",
    "    result = []\n",
    "    for v in values:\n",
    "        try:           # Duck-Typing \n",
    "            r = fn(v)\n",
    "        except:\n",
    "            r = 0\n",
    "        result.append(r)\n",
    "    return result\n",
    "\n",
    "def square(x): return x*x\n",
    "\n",
    "s = apply(square, [2, 4+5j, 6, \"hello\", 5.6, 8, True, 7, None])\n",
    "print(\"s =\", s)\n",
    "\n",
    "apply(lambda x: x.upper(), 45)\n"
   ]
  },
  {
   "cell_type": "code",
   "execution_count": null,
   "metadata": {},
   "outputs": [],
   "source": [
    "from numbers import Number\n",
    "Number"
   ]
  },
  {
   "cell_type": "code",
   "execution_count": 24,
   "metadata": {},
   "outputs": [
    {
     "data": {
      "text/plain": [
       "(object,)"
      ]
     },
     "execution_count": 24,
     "metadata": {},
     "output_type": "execute_result"
    }
   ],
   "source": []
  }
 ],
 "metadata": {
  "kernelspec": {
   "display_name": "base",
   "language": "python",
   "name": "python3"
  },
  "language_info": {
   "codemirror_mode": {
    "name": "ipython",
    "version": 3
   },
   "file_extension": ".py",
   "mimetype": "text/x-python",
   "name": "python",
   "nbconvert_exporter": "python",
   "pygments_lexer": "ipython3",
   "version": "3.11.5"
  }
 },
 "nbformat": 4,
 "nbformat_minor": 2
}
