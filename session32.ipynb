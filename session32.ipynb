{
 "cells": [
  {
   "cell_type": "markdown",
   "metadata": {},
   "source": [
    "## Programming From The Very Basics Using Python - Session 32\n",
    "#### Using yield expressions\n"
   ]
  },
  {
   "cell_type": "code",
   "execution_count": 15,
   "metadata": {},
   "outputs": [],
   "source": [
    "def testfn():\n",
    "    data = []\n",
    "    print(\"Start of testfn...\")\n",
    "    while True:\n",
    "        s = yield\n",
    "        print(\"Got value: s =\", s)\n",
    "        if not s:\n",
    "            break\n",
    "        data.append(s)\n",
    "        yield s.upper()\n",
    "    yield data\n",
    "\n",
    "g = testfn()\n"
   ]
  },
  {
   "cell_type": "code",
   "execution_count": 20,
   "metadata": {},
   "outputs": [
    {
     "name": "stdout",
     "output_type": "stream",
     "text": [
      "Got value: s = \n"
     ]
    },
    {
     "data": {
      "text/plain": [
       "['sam', 'alice', 'jane', 'jonathan']"
      ]
     },
     "execution_count": 20,
     "metadata": {},
     "output_type": "execute_result"
    }
   ],
   "source": [
    "next(g)\n",
    "g.send(\"\")"
   ]
  },
  {
   "cell_type": "code",
   "execution_count": 14,
   "metadata": {},
   "outputs": [],
   "source": [
    "g.send(\"sam\")"
   ]
  },
  {
   "cell_type": "code",
   "execution_count": 24,
   "metadata": {},
   "outputs": [
    {
     "name": "stdout",
     "output_type": "stream",
     "text": [
      "0 0\n",
      "1 1\n",
      "1 2\n",
      "2 4\n",
      "3 7\n",
      "5 12\n",
      "8 20\n",
      "13 33\n",
      "21 54\n",
      "34 88\n"
     ]
    }
   ],
   "source": [
    "def fib(n):\n",
    "    a, b = 0, 1\n",
    "    for _ in range(n):\n",
    "        yield a\n",
    "        a, b = b, a + b\n",
    "\n",
    "def accumulate():\n",
    "    total = 0\n",
    "    while True:\n",
    "        n = yield\n",
    "        total += n\n",
    "        yield total\n",
    "\n",
    "for n, _ in zip(fib(10), (fib_sum := accumulate())):\n",
    "    t = fib_sum.send(n)\n",
    "    print(n, t)"
   ]
  },
  {
   "cell_type": "code",
   "execution_count": 25,
   "metadata": {},
   "outputs": [
    {
     "name": "stdout",
     "output_type": "stream",
     "text": [
      "0 0\n",
      "1 1\n",
      "1 2\n",
      "2 4\n",
      "3 7\n",
      "5 12\n",
      "8 20\n",
      "13 33\n",
      "21 54\n",
      "34 88\n"
     ]
    }
   ],
   "source": [
    "def fib(n):\n",
    "    a, b = 0, 1\n",
    "    for _ in range(n):\n",
    "        yield a\n",
    "        a, b = b, a + b\n",
    "\n",
    "\n",
    "total = 0\n",
    "for n in fib(10):\n",
    "    total += n\n",
    "    print(n, total)"
   ]
  },
  {
   "cell_type": "code",
   "execution_count": 27,
   "metadata": {},
   "outputs": [
    {
     "name": "stdout",
     "output_type": "stream",
     "text": [
      "Start of testfn...\n",
      "Got value: s = john\n",
      "JOHN\n",
      "Got value: s = sam\n",
      "SAM\n",
      "Got value: s = alice\n",
      "ALICE\n",
      "Got value: s = jones\n",
      "JONES\n",
      "Got value: s = tim\n",
      "TIM\n"
     ]
    }
   ],
   "source": [
    "def testfn():\n",
    "    data = []\n",
    "    print(\"Start of testfn...\")\n",
    "    while True:\n",
    "        s = yield\n",
    "        print(\"Got value: s =\", s)\n",
    "        if not s:\n",
    "            break\n",
    "        data.append(s)\n",
    "        yield s.upper()\n",
    "    yield data\n",
    "\n",
    "\n",
    "users = \"john\", \"sam\", \"alice\", \"jones\", \"tim\"\n",
    "\n",
    "t = testfn()\n",
    "for u, _ in zip(users, t):\n",
    "    r = t.send(u)\n",
    "    print(r)\n",
    "\n",
    "\n",
    "\n"
   ]
  },
  {
   "cell_type": "code",
   "execution_count": null,
   "metadata": {},
   "outputs": [],
   "source": []
  }
 ],
 "metadata": {
  "kernelspec": {
   "display_name": "base",
   "language": "python",
   "name": "python3"
  },
  "language_info": {
   "codemirror_mode": {
    "name": "ipython",
    "version": 3
   },
   "file_extension": ".py",
   "mimetype": "text/x-python",
   "name": "python",
   "nbconvert_exporter": "python",
   "pygments_lexer": "ipython3",
   "version": "3.11.5"
  }
 },
 "nbformat": 4,
 "nbformat_minor": 2
}
