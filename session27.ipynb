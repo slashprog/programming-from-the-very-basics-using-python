{
 "cells": [
  {
   "cell_type": "markdown",
   "metadata": {},
   "source": [
    "## Programming From The Very Basics Using Python - Session 27\n",
    "#### Functions in Python - Part 2\n"
   ]
  },
  {
   "cell_type": "code",
   "execution_count": 3,
   "metadata": {},
   "outputs": [
    {
     "name": "stdout",
     "output_type": "stream",
     "text": [
      "Hello John\n"
     ]
    }
   ],
   "source": [
    "def greet(name):\n",
    "    print(\"Hello\", name)\n",
    "\n",
    "greet(name=\"John\") # Calling a function with keyword arguments"
   ]
  },
  {
   "cell_type": "code",
   "execution_count": 7,
   "metadata": {},
   "outputs": [
    {
     "name": "stdout",
     "output_type": "stream",
     "text": [
      "Hello John, Welcome to Denver!\n",
      "Hello Denver, Welcome to John!\n",
      "Hello John, Welcome to Denver!\n"
     ]
    },
    {
     "ename": "TypeError",
     "evalue": "greet() got an unexpected keyword argument 'city'",
     "output_type": "error",
     "traceback": [
      "\u001b[0;31m---------------------------------------------------------------------------\u001b[0m",
      "\u001b[0;31mTypeError\u001b[0m                                 Traceback (most recent call last)",
      "Cell \u001b[0;32mIn[7], line 7\u001b[0m\n\u001b[1;32m      5\u001b[0m greet(\u001b[38;5;124m\"\u001b[39m\u001b[38;5;124mDenver\u001b[39m\u001b[38;5;124m\"\u001b[39m, \u001b[38;5;124m\"\u001b[39m\u001b[38;5;124mJohn\u001b[39m\u001b[38;5;124m\"\u001b[39m)\n\u001b[1;32m      6\u001b[0m greet(place\u001b[38;5;241m=\u001b[39m\u001b[38;5;124m\"\u001b[39m\u001b[38;5;124mDenver\u001b[39m\u001b[38;5;124m\"\u001b[39m, name\u001b[38;5;241m=\u001b[39m\u001b[38;5;124m\"\u001b[39m\u001b[38;5;124mJohn\u001b[39m\u001b[38;5;124m\"\u001b[39m)\n\u001b[0;32m----> 7\u001b[0m greet(city\u001b[38;5;241m=\u001b[39m\u001b[38;5;124m\"\u001b[39m\u001b[38;5;124mMumbai\u001b[39m\u001b[38;5;124m\"\u001b[39m, name\u001b[38;5;241m=\u001b[39m\u001b[38;5;124m\"\u001b[39m\u001b[38;5;124mTim\u001b[39m\u001b[38;5;124m\"\u001b[39m)\n",
      "\u001b[0;31mTypeError\u001b[0m: greet() got an unexpected keyword argument 'city'"
     ]
    }
   ],
   "source": [
    "def greet(name, place): # name, place = \"John\", \"Denver\"\n",
    "    print(f\"Hello {name}, Welcome to {place}!\")\n",
    "\n",
    "greet(\"John\", \"Denver\")\n",
    "greet(\"Denver\", \"John\")\n",
    "greet(place=\"Denver\", name=\"John\")\n",
    "greet(city=\"Mumbai\", name=\"Tim\")"
   ]
  },
  {
   "cell_type": "code",
   "execution_count": 9,
   "metadata": {},
   "outputs": [
    {
     "name": "stdout",
     "output_type": "stream",
     "text": [
      "Hello John, Welcome to Seattle!\n",
      "Hello John, Welcome to Sydney!\n"
     ]
    }
   ],
   "source": [
    "def greet(name, place=\"Seattle\"): \n",
    "    print(f\"Hello {name}, Welcome to {place}!\")\n",
    "\n",
    "greet(\"John\")\n",
    "greet(\"John\", \"Sydney\")"
   ]
  },
  {
   "cell_type": "code",
   "execution_count": 10,
   "metadata": {},
   "outputs": [
    {
     "ename": "SyntaxError",
     "evalue": "non-default argument follows default argument (1204569988.py, line 1)",
     "output_type": "error",
     "traceback": [
      "\u001b[0;36m  Cell \u001b[0;32mIn[10], line 1\u001b[0;36m\u001b[0m\n\u001b[0;31m    def greet(name=\"Guest\", place):\u001b[0m\n\u001b[0m                            ^\u001b[0m\n\u001b[0;31mSyntaxError\u001b[0m\u001b[0;31m:\u001b[0m non-default argument follows default argument\n"
     ]
    }
   ],
   "source": [
    "def greet(name=\"Guest\", place): \n",
    "    print(f\"Hello {name}, Welcome to {place}!\")\n",
    "\n",
    "greet(\"John\")\n",
    "greet(\"John\", \"Sydney\")"
   ]
  },
  {
   "cell_type": "code",
   "execution_count": 17,
   "metadata": {},
   "outputs": [
    {
     "name": "stdout",
     "output_type": "stream",
     "text": [
      "Hello Guest, Welcome to Chennai!\n",
      "Hello Smith, Welcome to Chennai!\n",
      "Hello Jane, Welcome to Mumbai!\n",
      "Hello Charles, Welcome to New York!\n"
     ]
    }
   ],
   "source": [
    "def greet(name=\"Guest\", place=\"Chennai\"): \n",
    "    print(f\"Hello {name}, Welcome to {place}!\")\n",
    "\n",
    "greet()\n",
    "greet(\"Smith\")\n",
    "greet(\"Jane\", \"Mumbai\")\n",
    "greet(place=\"New York\", name=\"Charles\")\n"
   ]
  },
  {
   "cell_type": "code",
   "execution_count": 18,
   "metadata": {},
   "outputs": [
    {
     "ename": "SyntaxError",
     "evalue": "positional argument follows keyword argument (1973152624.py, line 1)",
     "output_type": "error",
     "traceback": [
      "\u001b[0;36m  Cell \u001b[0;32mIn[18], line 1\u001b[0;36m\u001b[0m\n\u001b[0;31m    greet(place=\"Delhi\", \"Damian\")\u001b[0m\n\u001b[0m                                 ^\u001b[0m\n\u001b[0;31mSyntaxError\u001b[0m\u001b[0;31m:\u001b[0m positional argument follows keyword argument\n"
     ]
    }
   ],
   "source": [
    "greet(place=\"Delhi\", \"Damian\")"
   ]
  },
  {
   "cell_type": "code",
   "execution_count": 22,
   "metadata": {},
   "outputs": [
    {
     "name": "stdout",
     "output_type": "stream",
     "text": [
      "('James',) <class 'tuple'>\n",
      "('John', 'Alice', 'Tim', 'Bill', 'Dave') <class 'tuple'>\n",
      "('Lisa', 'Emily', 'Sarah') <class 'tuple'>\n"
     ]
    }
   ],
   "source": [
    "# var-args / arbitrary-argument-lists / variable-arity functions\n",
    "def greet(*users): # users = \"John\", \"Alice\", \"Tim\", \"Bill\", \"Dave\"\n",
    "    print(users, type(users))    \n",
    "\n",
    "greet(\"James\")\n",
    "greet(\"John\", \"Alice\", \"Tim\", \"Bill\", \"Dave\")\n",
    "greet(\"Lisa\", \"Emily\", \"Sarah\")"
   ]
  },
  {
   "cell_type": "code",
   "execution_count": 27,
   "metadata": {},
   "outputs": [
    {
     "name": "stdout",
     "output_type": "stream",
     "text": [
      "user='Sam', place='Berekeley', visits=('Delhi', 'San Diego', 'Melbourne')\n"
     ]
    }
   ],
   "source": [
    "def greet(user, *visits, place):\n",
    "    print(f\"{user=}, {place=}, {visits=}\")    \n",
    "\n",
    "greet(\"Sam\", \"Delhi\", \"San Diego\", \"Melbourne\", place=\"Berekeley\")"
   ]
  },
  {
   "cell_type": "code",
   "execution_count": 30,
   "metadata": {},
   "outputs": [
    {
     "name": "stdout",
     "output_type": "stream",
     "text": [
      "user='John', place='Silicon Valley'\n"
     ]
    }
   ],
   "source": [
    "def greet(user, *, place):\n",
    "    print(f\"{user=}, {place=}\")\n",
    "\n",
    "greet(\"John\", place=\"Silicon Valley\")"
   ]
  },
  {
   "cell_type": "code",
   "execution_count": 36,
   "metadata": {},
   "outputs": [
    {
     "name": "stdout",
     "output_type": "stream",
     "text": [
      "host='localhost', port=5217, keep_alive=False\n",
      "host='localhost', port=6778, keep_alive=False\n",
      "host='localhost', port=6778, keep_alive=True\n",
      "host='localhost', port=5217, keep_alive=True\n"
     ]
    }
   ],
   "source": [
    "def connect(host, *, port=5217, keep_alive=False):\n",
    "    print(f\"{host=}, {port=}, {keep_alive=}\")\n",
    "\n",
    "connect(\"localhost\")\n",
    "connect(\"localhost\", port=6778)\n",
    "connect(\"localhost\", port=6778, keep_alive=True)\n",
    "connect(\"localhost\", keep_alive=True)"
   ]
  },
  {
   "cell_type": "code",
   "execution_count": 46,
   "metadata": {},
   "outputs": [
    {
     "data": {
      "text/plain": [
       "<Thread(Thread-6, initial daemon)>"
      ]
     },
     "execution_count": 46,
     "metadata": {},
     "output_type": "execute_result"
    }
   ],
   "source": [
    "from threading import Thread\n",
    "Thread(None,\"test-thread\", daemon=True)"
   ]
  },
  {
   "cell_type": "code",
   "execution_count": 49,
   "metadata": {},
   "outputs": [
    {
     "name": "stdout",
     "output_type": "stream",
     "text": [
      "a=10, b=20, c=(30, 40, 50, 60)\n"
     ]
    },
    {
     "ename": "TypeError",
     "evalue": "testfn() got an unexpected keyword argument 'x'",
     "output_type": "error",
     "traceback": [
      "\u001b[0;31m---------------------------------------------------------------------------\u001b[0m",
      "\u001b[0;31mTypeError\u001b[0m                                 Traceback (most recent call last)",
      "Cell \u001b[0;32mIn[49], line 5\u001b[0m\n\u001b[1;32m      2\u001b[0m     \u001b[38;5;28mprint\u001b[39m(\u001b[38;5;124mf\u001b[39m\u001b[38;5;124m\"\u001b[39m\u001b[38;5;132;01m{\u001b[39;00ma\u001b[38;5;132;01m=}\u001b[39;00m\u001b[38;5;124m, \u001b[39m\u001b[38;5;132;01m{\u001b[39;00mb\u001b[38;5;132;01m=}\u001b[39;00m\u001b[38;5;124m, \u001b[39m\u001b[38;5;132;01m{\u001b[39;00mc\u001b[38;5;132;01m=}\u001b[39;00m\u001b[38;5;124m\"\u001b[39m)\n\u001b[1;32m      4\u001b[0m testfn(\u001b[38;5;241m10\u001b[39m, \u001b[38;5;241m20\u001b[39m, \u001b[38;5;241m30\u001b[39m, \u001b[38;5;241m40\u001b[39m, \u001b[38;5;241m50\u001b[39m, \u001b[38;5;241m60\u001b[39m)\n\u001b[0;32m----> 5\u001b[0m testfn(x\u001b[38;5;241m=\u001b[39m\u001b[38;5;241m100\u001b[39m, y\u001b[38;5;241m=\u001b[39m\u001b[38;5;241m200\u001b[39m, s\u001b[38;5;241m=\u001b[39m\u001b[38;5;241m5.6\u001b[39m)\n",
      "\u001b[0;31mTypeError\u001b[0m: testfn() got an unexpected keyword argument 'x'"
     ]
    }
   ],
   "source": [
    "def testfn(a, b, *c):\n",
    "    print(f\"{a=}, {b=}, {c=}\")\n",
    "\n",
    "testfn(10, 20, 30, 40, 50, 60)\n",
    "testfn(x=100, y=200, s=5.6)"
   ]
  },
  {
   "cell_type": "code",
   "execution_count": 54,
   "metadata": {},
   "outputs": [
    {
     "name": "stdout",
     "output_type": "stream",
     "text": [
      "data={'x': 100, 'y': 200, 's': 5.6, 'user': 'John', 'coords': (4.5, 6.7)}\n"
     ]
    },
    {
     "ename": "TypeError",
     "evalue": "testfn() takes 0 positional arguments but 3 were given",
     "output_type": "error",
     "traceback": [
      "\u001b[0;31m---------------------------------------------------------------------------\u001b[0m",
      "\u001b[0;31mTypeError\u001b[0m                                 Traceback (most recent call last)",
      "Cell \u001b[0;32mIn[54], line 5\u001b[0m\n\u001b[1;32m      2\u001b[0m     \u001b[38;5;28mprint\u001b[39m(\u001b[38;5;124mf\u001b[39m\u001b[38;5;124m\"\u001b[39m\u001b[38;5;132;01m{\u001b[39;00mdata\u001b[38;5;132;01m=}\u001b[39;00m\u001b[38;5;124m\"\u001b[39m)\n\u001b[1;32m      4\u001b[0m testfn(x\u001b[38;5;241m=\u001b[39m\u001b[38;5;241m100\u001b[39m, y\u001b[38;5;241m=\u001b[39m\u001b[38;5;241m200\u001b[39m, s\u001b[38;5;241m=\u001b[39m\u001b[38;5;241m5.6\u001b[39m, user\u001b[38;5;241m=\u001b[39m\u001b[38;5;124m\"\u001b[39m\u001b[38;5;124mJohn\u001b[39m\u001b[38;5;124m\"\u001b[39m, coords\u001b[38;5;241m=\u001b[39m(\u001b[38;5;241m4.5\u001b[39m, \u001b[38;5;241m6.7\u001b[39m))\n\u001b[0;32m----> 5\u001b[0m testfn(\u001b[38;5;241m10\u001b[39m, \u001b[38;5;241m20\u001b[39m, \u001b[38;5;241m30\u001b[39m)\n",
      "\u001b[0;31mTypeError\u001b[0m: testfn() takes 0 positional arguments but 3 were given"
     ]
    }
   ],
   "source": [
    "def testfn(**data): # data = dict(x=100, y=200, s=5.6)\n",
    "    print(f\"{data=}\")\n",
    "\n",
    "testfn(x=100, y=200, s=5.6, user=\"John\", coords=(4.5, 6.7))\n",
    "testfn(10, 20, 30)"
   ]
  },
  {
   "cell_type": "code",
   "execution_count": 57,
   "metadata": {},
   "outputs": [
    {
     "name": "stdout",
     "output_type": "stream",
     "text": [
      "args=(), kwargs={'x': 100, 'y': 200, 's': 5.6, 'user': 'John', 'coords': (4.5, 6.7)}\n",
      "args=(10, 20, 30), kwargs={}\n",
      "args=(10, 20), kwargs={'c': 50, 'x': 78, 'y': 12}\n",
      "args=(), kwargs={}\n"
     ]
    }
   ],
   "source": [
    "def testfn(*args, **kwargs): \n",
    "    print(f\"{args=}, {kwargs=}\")\n",
    "\n",
    "testfn(x=100, y=200, s=5.6, user=\"John\", coords=(4.5, 6.7))\n",
    "testfn(10, 20, 30)\n",
    "testfn(10, 20, c=50, x=78, y=12)\n",
    "testfn()"
   ]
  },
  {
   "cell_type": "code",
   "execution_count": 59,
   "metadata": {},
   "outputs": [
    {
     "name": "stdout",
     "output_type": "stream",
     "text": [
      "Connecting to host='localhost', port=8080 as user='john' with password='secret'\n"
     ]
    }
   ],
   "source": [
    "def connect(host, port, user, password):\n",
    "    print(f\"Connecting to {host=}, {port=} as {user=} with {password=}\")\n",
    "\n",
    "connect(\"localhost\", 8080, \"john\", \"secret\")"
   ]
  },
  {
   "cell_type": "code",
   "execution_count": 65,
   "metadata": {},
   "outputs": [
    {
     "name": "stdout",
     "output_type": "stream",
     "text": [
      "('localhost', 8080, 'john', 'secret') <class 'tuple'>\n",
      "Connecting to host='localhost', port=8080 as user='john' with password='secret'\n",
      "Connecting to host='localhost', port=8080 as user='john' with password='secret'\n"
     ]
    }
   ],
   "source": [
    "def connect(host, port, user, password):\n",
    "    print(f\"Connecting to {host=}, {port=} as {user=} with {password=}\")\n",
    "\n",
    "info = \"localhost\", 8080, \"john\", \"secret\"\n",
    "print(info, type(info))\n",
    "\n",
    "connect(info[0], info[1], info[2], info[3])\n",
    "connect(*info)"
   ]
  },
  {
   "cell_type": "code",
   "execution_count": null,
   "metadata": {},
   "outputs": [
    {
     "name": "stdout",
     "output_type": "stream",
     "text": [
      "('localhost', 8080, 'john', 'secret') <class 'tuple'>\n",
      "Connecting to host='localhost', port=8080 as user='john' with password='secret'\n",
      "Connecting to host='localhost', port=8080 as user='john' with password='secret'\n"
     ]
    }
   ],
   "source": [
    "def connect(host, port, user, password):\n",
    "    print(f\"Connecting to {host=}, {port=} as {user=} with {password=}\")\n",
    "\n",
    "info = \"localhost\", 8080, \"john\", \"secret\"\n",
    "connect(*info) # host, post, user, password = info"
   ]
  },
  {
   "cell_type": "code",
   "execution_count": 68,
   "metadata": {},
   "outputs": [
    {
     "name": "stdout",
     "output_type": "stream",
     "text": [
      "Connecting to host='localhost', port=8080 as user='john' with password='secret'\n"
     ]
    }
   ],
   "source": [
    "def connect(host, port, user, password):\n",
    "    print(f\"Connecting to {host=}, {port=} as {user=} with {password=}\")\n",
    "\n",
    "info ={\"user\": \"john\", \"host\": \"localhost\", \"password\": \"secret\", \"port\": 8080}\n",
    "connect(**info) # connect(user=john, host=localhost, password=secret, port=8080)"
   ]
  },
  {
   "cell_type": "code",
   "execution_count": 71,
   "metadata": {},
   "outputs": [
    {
     "name": "stdout",
     "output_type": "stream",
     "text": [
      "a=10, b=20\n"
     ]
    },
    {
     "ename": "TypeError",
     "evalue": "testfn() got some positional-only arguments passed as keyword arguments: 'b'",
     "output_type": "error",
     "traceback": [
      "\u001b[0;31m---------------------------------------------------------------------------\u001b[0m",
      "\u001b[0;31mTypeError\u001b[0m                                 Traceback (most recent call last)",
      "Cell \u001b[0;32mIn[71], line 5\u001b[0m\n\u001b[1;32m      2\u001b[0m     \u001b[38;5;28mprint\u001b[39m(\u001b[38;5;124mf\u001b[39m\u001b[38;5;124m\"\u001b[39m\u001b[38;5;132;01m{\u001b[39;00ma\u001b[38;5;132;01m=}\u001b[39;00m\u001b[38;5;124m, \u001b[39m\u001b[38;5;132;01m{\u001b[39;00mb\u001b[38;5;132;01m=}\u001b[39;00m\u001b[38;5;124m\"\u001b[39m)\n\u001b[1;32m      4\u001b[0m testfn(\u001b[38;5;241m10\u001b[39m, \u001b[38;5;241m20\u001b[39m)\n\u001b[0;32m----> 5\u001b[0m testfn(\u001b[38;5;241m10\u001b[39m, b\u001b[38;5;241m=\u001b[39m\u001b[38;5;241m20\u001b[39m)\n",
      "\u001b[0;31mTypeError\u001b[0m: testfn() got some positional-only arguments passed as keyword arguments: 'b'"
     ]
    }
   ],
   "source": [
    "def testfn(a, b, /):\n",
    "    print(f\"{a=}, {b=}\")\n",
    "\n",
    "testfn(10, 20)\n",
    "testfn(10, b=20)"
   ]
  },
  {
   "cell_type": "code",
   "execution_count": null,
   "metadata": {},
   "outputs": [],
   "source": [
    "def testfn(a, b, /, c, d, *, f, g=10)"
   ]
  }
 ],
 "metadata": {
  "kernelspec": {
   "display_name": "base",
   "language": "python",
   "name": "python3"
  },
  "language_info": {
   "codemirror_mode": {
    "name": "ipython",
    "version": 3
   },
   "file_extension": ".py",
   "mimetype": "text/x-python",
   "name": "python",
   "nbconvert_exporter": "python",
   "pygments_lexer": "ipython3",
   "version": "3.11.5"
  }
 },
 "nbformat": 4,
 "nbformat_minor": 2
}
