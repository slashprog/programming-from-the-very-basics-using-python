{
 "cells": [
  {
   "cell_type": "markdown",
   "metadata": {},
   "source": [
    "## Programming From The Very Basics Using Python - Session 21\n",
    "#### Using lists in Python - Part 2\n"
   ]
  },
  {
   "cell_type": "code",
   "execution_count": 1,
   "metadata": {},
   "outputs": [
    {
     "name": "stdout",
     "output_type": "stream",
     "text": [
      "[44, 55, 43, 45, 44, 22, 55, 44, 56, 44, 12]\n",
      "[22, 56, 78, 12, 32]\n"
     ]
    }
   ],
   "source": [
    "a = [44, 55, 43, 22, 56, 78, 12, 32, 45, 44, 22, 55, 44, 56, 44, 12]\n",
    "\n",
    "b = a[3:8]\n",
    "del a[3:8]\n",
    "print(a)\n",
    "print(b)"
   ]
  },
  {
   "cell_type": "code",
   "execution_count": 2,
   "metadata": {},
   "outputs": [
    {
     "name": "stdout",
     "output_type": "stream",
     "text": [
      "[44, 55, 43, 22, 78, 12, 32, 45, 44, 22, 55, 44, 56, 44, 12]\n"
     ]
    }
   ],
   "source": [
    "a = [44, 55, 43, 22, 56, 78, 12, 32, 45, 44, 22, 55, 44, 56, 44, 12]\n",
    "\n",
    "a.pop(a.index(56))\n",
    "print(a)"
   ]
  },
  {
   "cell_type": "code",
   "execution_count": 3,
   "metadata": {},
   "outputs": [
    {
     "name": "stdout",
     "output_type": "stream",
     "text": [
      "[44, 55, 43, 22, 78, 12, 32, 45, 44, 22, 55, 44, 56, 44, 12]\n"
     ]
    }
   ],
   "source": [
    "a = [44, 55, 43, 22, 56, 78, 12, 32, 45, 44, 22, 55, 44, 56, 44, 12]\n",
    "\n",
    "a.remove(56)\n",
    "print(a)"
   ]
  },
  {
   "cell_type": "code",
   "execution_count": 4,
   "metadata": {},
   "outputs": [
    {
     "ename": "ValueError",
     "evalue": "list.remove(x): x not in list",
     "output_type": "error",
     "traceback": [
      "\u001b[0;31m---------------------------------------------------------------------------\u001b[0m",
      "\u001b[0;31mValueError\u001b[0m                                Traceback (most recent call last)",
      "Cell \u001b[0;32mIn[4], line 1\u001b[0m\n\u001b[0;32m----> 1\u001b[0m a\u001b[38;5;241m.\u001b[39mremove(\u001b[38;5;241m77\u001b[39m)\n",
      "\u001b[0;31mValueError\u001b[0m: list.remove(x): x not in list"
     ]
    }
   ],
   "source": [
    "a.remove(77)"
   ]
  },
  {
   "cell_type": "code",
   "execution_count": 5,
   "metadata": {},
   "outputs": [
    {
     "data": {
      "text/plain": [
       "[44, 55, 43, 22, 78, 12, 32, 56, 45, 44, 56, 22, 55, 44, 56, 44, 12]"
      ]
     },
     "execution_count": 5,
     "metadata": {},
     "output_type": "execute_result"
    }
   ],
   "source": [
    "a = [44, 55, 43, 22, 56, 78, 12, 32, 56, 45, 44, 56, 22, 55, 44, 56, 44, 12]\n",
    "a.remove(56)\n",
    "a"
   ]
  },
  {
   "cell_type": "code",
   "execution_count": 7,
   "metadata": {},
   "outputs": [],
   "source": [
    "a = [44, 55, 43, 22, 56, 78, 12, 32, 56, 45, 44, 56, 22, 55, 44, 56, 44, 12]\n",
    "\n",
    "# Not very pythonic! Let me know if you can find a better way!\n",
    "for _ in range(a.count(56)):\n",
    "    a.remove(56)"
   ]
  },
  {
   "cell_type": "code",
   "execution_count": 10,
   "metadata": {},
   "outputs": [
    {
     "name": "stdout",
     "output_type": "stream",
     "text": [
      "[44, 55, 43, 22, 56, 78, 12, 32, 56, 45, 44, 56, 22, 55, 44, 56, 44, 12]\n",
      "[44, 55, 43, 22, 56, 78, 12, 32, 56, 45, 44, 56, 22, 55, 44, 56, 44, 12]\n",
      "[44, 55, 234, 22, 56, 78, 12, 32, 56, 45, 44, 56, 22, 55, 44, 56, 44, 12]\n",
      "[44, 55, 234, 22, 56, 78, 12, 32, 56, 45, 44, 56, 22, 55, 44, 56, 44, 12]\n",
      "140214325045248 140214325045248\n"
     ]
    }
   ],
   "source": [
    "a = [44, 55, 43, 22, 56, 78, 12, 32, 56, 45, 44, 56, 22, 55, 44, 56, 44, 12]\n",
    "b = a\n",
    "print(a, b, sep=\"\\n\")\n",
    "a[2] = 234\n",
    "print(a, b, sep=\"\\n\")\n",
    "print(id(a), id(b))"
   ]
  },
  {
   "cell_type": "code",
   "execution_count": 12,
   "metadata": {},
   "outputs": [
    {
     "name": "stdout",
     "output_type": "stream",
     "text": [
      "[44, 55, 43, 22, 56, 78, 12, 32, 56, 45, 44, 56, 22, 55, 44, 56, 44, 12]\n",
      "[44, 55, 43, 22, 56, 78, 12, 32, 56, 45, 44, 56, 22, 55, 44, 56, 44, 12]\n",
      "[44, 55, 234, 22, 56, 78, 12, 32, 56, 45, 44, 56, 22, 55, 44, 56, 44, 12]\n",
      "[44, 55, 43, 22, 56, 78, 12, 32, 56, 45, 44, 56, 22, 55, 44, 56, 44, 12]\n",
      "140214324953856 140214324924672\n"
     ]
    }
   ],
   "source": [
    "a = [44, 55, 43, 22, 56, 78, 12, 32, 56, 45, 44, 56, 22, 55, 44, 56, 44, 12]\n",
    "#b = a[:]\n",
    "b = list(a) # Better for old versions of python to copy a list (Python 2 or below)\n",
    "print(a, b, sep=\"\\n\")\n",
    "a[2] = 234\n",
    "print(a, b, sep=\"\\n\")\n",
    "print(id(a), id(b))"
   ]
  },
  {
   "cell_type": "code",
   "execution_count": 13,
   "metadata": {},
   "outputs": [
    {
     "name": "stdout",
     "output_type": "stream",
     "text": [
      "[44, 55, 43, 22, 56, 78, 12, 32, 56, 45, 44, 56, 22, 55, 44, 56, 44, 12]\n",
      "[44, 55, 43, 22, 56, 78, 12, 32, 56, 45, 44, 56, 22, 55, 44, 56, 44, 12]\n",
      "[44, 55, 234, 22, 56, 78, 12, 32, 56, 45, 44, 56, 22, 55, 44, 56, 44, 12]\n",
      "[44, 55, 43, 22, 56, 78, 12, 32, 56, 45, 44, 56, 22, 55, 44, 56, 44, 12]\n",
      "140214581223424 140214324951040\n"
     ]
    }
   ],
   "source": [
    "a = [44, 55, 43, 22, 56, 78, 12, 32, 56, 45, 44, 56, 22, 55, 44, 56, 44, 12]\n",
    "b = a.copy()\n",
    "print(a, b, sep=\"\\n\")\n",
    "a[2] = 234\n",
    "print(a, b, sep=\"\\n\")\n",
    "print(id(a), id(b))"
   ]
  },
  {
   "cell_type": "code",
   "execution_count": 17,
   "metadata": {},
   "outputs": [
    {
     "name": "stdout",
     "output_type": "stream",
     "text": [
      "3\n",
      "10\n",
      "[20, 30]\n",
      "20\n"
     ]
    }
   ],
   "source": [
    "a = [10, [20, 30], 40]\n",
    "print(len(a))\n",
    "\n",
    "print(a[0])\n",
    "print(a[1])\n",
    "print(a[1][0])"
   ]
  },
  {
   "cell_type": "code",
   "execution_count": 22,
   "metadata": {},
   "outputs": [
    {
     "name": "stdout",
     "output_type": "stream",
     "text": [
      "a=[10, [20, 30], 40]\n",
      "b=[10, [20, 30], 40]\n",
      "----------------------------------------\n",
      "a=[100, [20, 30], 40]\n",
      "b=[10, [20, 30], 40]\n",
      "----------------------------------------\n",
      "a=[100, [200, 30], 40]\n",
      "b=[10, [200, 30], 40]\n"
     ]
    }
   ],
   "source": [
    "a = [10, [20, 30], 40]\n",
    "b = a.copy()  # .copy() methods always performs a shallow-copy\n",
    "print(f\"{a=}\\n{b=}\")\n",
    "\n",
    "print(\"-\" * 40)\n",
    "\n",
    "a[0] = 100\n",
    "print(f\"{a=}\\n{b=}\")\n",
    "\n",
    "print(\"-\" * 40)\n",
    "\n",
    "a[1][0] = 200\n",
    "print(f\"{a=}\\n{b=}\")\n",
    "\n"
   ]
  },
  {
   "cell_type": "code",
   "execution_count": 23,
   "metadata": {},
   "outputs": [
    {
     "name": "stdout",
     "output_type": "stream",
     "text": [
      "a=[10, [20, 30], 40]\n",
      "b=[10, [20, 30], 40]\n",
      "----------------------------------------\n",
      "a=[100, [20, 30], 40]\n",
      "b=[10, [20, 30], 40]\n",
      "----------------------------------------\n",
      "a=[100, [200, 30], 40]\n",
      "b=[10, [20, 30], 40]\n"
     ]
    }
   ],
   "source": [
    "from copy import deepcopy\n",
    "\n",
    "a = [10, [20, 30], 40]\n",
    "b = deepcopy(a)  # deepcopy performs a deep-copy of any python object.\n",
    "print(f\"{a=}\\n{b=}\")\n",
    "\n",
    "print(\"-\" * 40)\n",
    "\n",
    "a[0] = 100\n",
    "print(f\"{a=}\\n{b=}\")\n",
    "\n",
    "print(\"-\" * 40)\n",
    "\n",
    "a[1][0] = 200\n",
    "print(f\"{a=}\\n{b=}\")\n",
    "\n"
   ]
  },
  {
   "cell_type": "code",
   "execution_count": 25,
   "metadata": {},
   "outputs": [
    {
     "name": "stdout",
     "output_type": "stream",
     "text": [
      "a=[10, 20, 30, 40]\n",
      "b=[10, 20, 30, 40]\n",
      "----------------------------------------\n",
      "a=[]\n",
      "b=[10, 20, 30, 40]\n"
     ]
    }
   ],
   "source": [
    "a = [10, 20, 30, 40]\n",
    "b = a\n",
    "print(f\"{a=}\\n{b=}\")\n",
    "print(\"-\" * 40)\n",
    "\n",
    "a = []\n",
    "print(f\"{a=}\\n{b=}\")\n"
   ]
  },
  {
   "cell_type": "code",
   "execution_count": 26,
   "metadata": {},
   "outputs": [
    {
     "name": "stdout",
     "output_type": "stream",
     "text": [
      "a=[10, 20, 30, 40]\n",
      "b=[10, 20, 30, 40]\n",
      "----------------------------------------\n",
      "a=[]\n",
      "b=[]\n"
     ]
    }
   ],
   "source": [
    "a = [10, 20, 30, 40]\n",
    "b = a\n",
    "print(f\"{a=}\\n{b=}\")\n",
    "print(\"-\" * 40)\n",
    "\n",
    "del a[:] # Old-school way to empty a list (Python 2 or below)\n",
    "print(f\"{a=}\\n{b=}\")"
   ]
  },
  {
   "cell_type": "code",
   "execution_count": 28,
   "metadata": {},
   "outputs": [
    {
     "name": "stdout",
     "output_type": "stream",
     "text": [
      "a=[10, 20, 30, 40]\n",
      "b=[10, 20, 30, 40]\n",
      "----------------------------------------\n",
      "a=[]\n",
      "b=[]\n"
     ]
    }
   ],
   "source": [
    "a = [10, 20, 30, 40]\n",
    "b = a\n",
    "print(f\"{a=}\\n{b=}\")\n",
    "print(\"-\" * 40)\n",
    "\n",
    "a.clear()\n",
    "print(f\"{a=}\\n{b=}\")"
   ]
  },
  {
   "cell_type": "code",
   "execution_count": 29,
   "metadata": {},
   "outputs": [
    {
     "name": "stdout",
     "output_type": "stream",
     "text": [
      "10\n",
      "20\n",
      "30\n",
      "40\n"
     ]
    }
   ],
   "source": [
    "a = [10, 20, 30, 40]\n",
    "for v in a:\n",
    "    print(v)"
   ]
  },
  {
   "cell_type": "code",
   "execution_count": 35,
   "metadata": {},
   "outputs": [
    {
     "name": "stdout",
     "output_type": "stream",
     "text": [
      "40\n",
      "30\n",
      "20\n",
      "10\n",
      "[10, 20, 30, 40]\n"
     ]
    }
   ],
   "source": [
    "a = [10, 20, 30, 40]\n",
    "for v in reversed(a):\n",
    "    print(v)\n",
    "\n",
    "print(a)"
   ]
  },
  {
   "cell_type": "code",
   "execution_count": 32,
   "metadata": {},
   "outputs": [
    {
     "name": "stdout",
     "output_type": "stream",
     "text": [
      "[10, 20, 30, 40]\n",
      "<list_reverseiterator object at 0x7f86403dc9a0>\n"
     ]
    }
   ],
   "source": [
    "a = [10, 20, 30, 40]\n",
    "b = reversed(a)\n",
    "print(a)\n",
    "print(b)"
   ]
  },
  {
   "cell_type": "code",
   "execution_count": 33,
   "metadata": {},
   "outputs": [
    {
     "name": "stdout",
     "output_type": "stream",
     "text": [
      "[40, 30, 20, 10]\n"
     ]
    }
   ],
   "source": [
    "a = [10, 20, 30, 40]\n",
    "a.reverse() # Reverses a list in-place, does not return anything\n",
    "print(a)"
   ]
  },
  {
   "cell_type": "code",
   "execution_count": 34,
   "metadata": {},
   "outputs": [
    {
     "ename": "TypeError",
     "evalue": "'NoneType' object is not iterable",
     "output_type": "error",
     "traceback": [
      "\u001b[0;31m---------------------------------------------------------------------------\u001b[0m",
      "\u001b[0;31mTypeError\u001b[0m                                 Traceback (most recent call last)",
      "Cell \u001b[0;32mIn[34], line 2\u001b[0m\n\u001b[1;32m      1\u001b[0m a \u001b[38;5;241m=\u001b[39m [\u001b[38;5;241m10\u001b[39m, \u001b[38;5;241m20\u001b[39m, \u001b[38;5;241m30\u001b[39m, \u001b[38;5;241m40\u001b[39m]\n\u001b[0;32m----> 2\u001b[0m \u001b[38;5;28;01mfor\u001b[39;00m v \u001b[38;5;129;01min\u001b[39;00m a\u001b[38;5;241m.\u001b[39mreverse():\n\u001b[1;32m      3\u001b[0m     \u001b[38;5;28mprint\u001b[39m(v)\n",
      "\u001b[0;31mTypeError\u001b[0m: 'NoneType' object is not iterable"
     ]
    }
   ],
   "source": [
    "a = [10, 20, 30, 40]\n",
    "for v in a.reverse():\n",
    "    print(v)"
   ]
  },
  {
   "cell_type": "code",
   "execution_count": 37,
   "metadata": {},
   "outputs": [
    {
     "name": "stdout",
     "output_type": "stream",
     "text": [
      "[10, 20, 30, 40] [40, 30, 20, 10]\n"
     ]
    }
   ],
   "source": [
    "a = [10, 20, 30, 40]\n",
    "b = a[::-1] # Returns a reversed-copy of a list\n",
    "print(a, b)"
   ]
  },
  {
   "cell_type": "code",
   "execution_count": 38,
   "metadata": {},
   "outputs": [
    {
     "data": {
      "text/plain": [
       "True"
      ]
     },
     "execution_count": 38,
     "metadata": {},
     "output_type": "execute_result"
    }
   ],
   "source": [
    "a = \"malayalam\"\n",
    "a == a[::-1]"
   ]
  },
  {
   "cell_type": "code",
   "execution_count": 41,
   "metadata": {},
   "outputs": [
    {
     "name": "stdout",
     "output_type": "stream",
     "text": [
      "12 12 22 22 32 43 44 44 44 44 45 55 55 56 56 56 56 78 \n",
      "[44, 55, 43, 22, 56, 78, 12, 32, 56, 45, 44, 56, 22, 55, 44, 56, 44, 12]\n"
     ]
    }
   ],
   "source": [
    "a = [44, 55, 43, 22, 56, 78, 12, 32, 56, 45, 44, 56, 22, 55, 44, 56, 44, 12]\n",
    "\n",
    "for v in sorted(a):\n",
    "    print(v, end=\" \")\n",
    "print()\n",
    "print(a)"
   ]
  },
  {
   "cell_type": "code",
   "execution_count": 42,
   "metadata": {},
   "outputs": [
    {
     "name": "stdout",
     "output_type": "stream",
     "text": [
      "[44, 55, 43, 22, 56, 78, 12, 32, 56, 45, 44, 56, 22, 55, 44, 56, 44, 12]\n",
      "[12, 12, 22, 22, 32, 43, 44, 44, 44, 44, 45, 55, 55, 56, 56, 56, 56, 78]\n"
     ]
    }
   ],
   "source": [
    "b = sorted(a)  # Creates a sorted copy of 'a'\n",
    "print(a)\n",
    "print(b)\n"
   ]
  },
  {
   "cell_type": "code",
   "execution_count": 43,
   "metadata": {},
   "outputs": [
    {
     "name": "stdout",
     "output_type": "stream",
     "text": [
      "[12, 12, 22, 22, 32, 43, 44, 44, 44, 44, 45, 55, 55, 56, 56, 56, 56, 78]\n"
     ]
    }
   ],
   "source": [
    "a = [44, 55, 43, 22, 56, 78, 12, 32, 56, 45, 44, 56, 22, 55, 44, 56, 44, 12]\n",
    "a.sort() # .sort() method sorts a list in-place and returns None\n",
    "print(a)"
   ]
  },
  {
   "cell_type": "markdown",
   "metadata": {},
   "source": [
    "List methods:\n",
    "   - ```.insert()```, ```.append()```, ```.extend()```\n",
    "   - ```.pop()```, ```.remove()```, ```.clear()```\n",
    "   - ```.index()```, ```.count()```\n",
    "   - ```.copy()```, ```.sort()```, ```.reverse()```\n",
    "   "
   ]
  }
 ],
 "metadata": {
  "kernelspec": {
   "display_name": "base",
   "language": "python",
   "name": "python3"
  },
  "language_info": {
   "codemirror_mode": {
    "name": "ipython",
    "version": 3
   },
   "file_extension": ".py",
   "mimetype": "text/x-python",
   "name": "python",
   "nbconvert_exporter": "python",
   "pygments_lexer": "ipython3",
   "version": "3.11.5"
  }
 },
 "nbformat": 4,
 "nbformat_minor": 2
}
