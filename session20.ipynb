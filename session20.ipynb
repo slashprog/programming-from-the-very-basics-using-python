{
 "cells": [
  {
   "cell_type": "markdown",
   "metadata": {},
   "source": [
    "## Programming From The Very Basics Using Python - Session 20\n",
    "#### Using lists in Python\n"
   ]
  },
  {
   "cell_type": "code",
   "execution_count": 4,
   "metadata": {},
   "outputs": [
    {
     "name": "stdout",
     "output_type": "stream",
     "text": [
      "[12, 34, 56, 77, 88, 99] <class 'list'>\n",
      "[0, 1, 2, 3, 4, 5, 6, 7, 8, 9]\n",
      "[0, 1, 4, 9, 16, 25, 36, 49, 64, 81]\n"
     ]
    },
    {
     "data": {
      "text/plain": [
       "[12, 78, 99, 54, 12]"
      ]
     },
     "execution_count": 4,
     "metadata": {},
     "output_type": "execute_result"
    }
   ],
   "source": [
    "# Literal notation\n",
    "a = [12, 34, 56, 77, 88, 99]\n",
    "print(a, type(a))\n",
    "\n",
    "# Constructor expression\n",
    "a = list(range(10))\n",
    "print(a)\n",
    "\n",
    "# List comprehension \n",
    "a = [ v*v for v in range(10)]\n",
    "print(a)\n",
    "\n",
    "a = [44, 55, 32, 56, 12, 43, 22, 78, 99, 54, 12]\n",
    "[ v for v in a if v % 3 == 0]"
   ]
  },
  {
   "cell_type": "code",
   "execution_count": 7,
   "metadata": {},
   "outputs": [
    {
     "name": "stdout",
     "output_type": "stream",
     "text": [
      "[11, 22, 33, 55, 66, 77]\n",
      "[11, 22, 33, 11, 22, 33, 11, 22, 33, 11, 22, 33, 11, 22, 33]\n",
      "11 33\n"
     ]
    }
   ],
   "source": [
    "a = [11, 22, 33]\n",
    "b = [55, 66, 77]\n",
    "c = a + b # Concatenation\n",
    "print(c)\n",
    "\n",
    "d = a * 5  # Repetition\n",
    "print(d)\n",
    "\n",
    "print(a[0], a[-1])\n"
   ]
  },
  {
   "cell_type": "code",
   "execution_count": 10,
   "metadata": {},
   "outputs": [
    {
     "name": "stdout",
     "output_type": "stream",
     "text": [
      "[12, 34, 48, 56] [88, 20, 18, 99]\n",
      "[12, 56, 77, 20]\n"
     ]
    }
   ],
   "source": [
    "a = [12, 34, 48, 56, 45, 54, 77, 31, 88, 20, 18, 99]\n",
    "\n",
    "print(a[:4], a[-4:])\n",
    "print(a[::3])"
   ]
  },
  {
   "cell_type": "code",
   "execution_count": 15,
   "metadata": {},
   "outputs": [
    {
     "name": "stdout",
     "output_type": "stream",
     "text": [
      "[12, 34, 48, 500, 45, 54, 77, 31, 88, 20, 18, 99]\n",
      "[12, 34, 48, 500, 45, 54, 77, 31, 88, 20, 18, 92]\n",
      "12\n",
      "92 92\n"
     ]
    },
    {
     "ename": "IndexError",
     "evalue": "list index out of range",
     "output_type": "error",
     "traceback": [
      "\u001b[0;31m---------------------------------------------------------------------------\u001b[0m",
      "\u001b[0;31mIndexError\u001b[0m                                Traceback (most recent call last)",
      "Cell \u001b[0;32mIn[15], line 9\u001b[0m\n\u001b[1;32m      7\u001b[0m \u001b[38;5;28mprint\u001b[39m(\u001b[38;5;28mlen\u001b[39m(a))\n\u001b[1;32m      8\u001b[0m \u001b[38;5;28mprint\u001b[39m(a[\u001b[38;5;241m11\u001b[39m], a[\u001b[38;5;241m-\u001b[39m\u001b[38;5;241m1\u001b[39m])\n\u001b[0;32m----> 9\u001b[0m \u001b[38;5;28mprint\u001b[39m(a[\u001b[38;5;241m15\u001b[39m])\n",
      "\u001b[0;31mIndexError\u001b[0m: list index out of range"
     ]
    }
   ],
   "source": [
    "a = [12, 34, 48, 56, 45, 54, 77, 31, 88, 20, 18, 99]\n",
    "a[3] = 500 # list item assignment (set-item)\n",
    "print(a)\n",
    "\n",
    "a[-1] = 92\n",
    "print(a)\n",
    "print(len(a))\n",
    "print(a[11], a[-1])\n",
    "print(a[15])"
   ]
  },
  {
   "cell_type": "code",
   "execution_count": 17,
   "metadata": {},
   "outputs": [
    {
     "name": "stdout",
     "output_type": "stream",
     "text": [
      "a=[12, 34, 48, 56, 45, 54, 77, 31, 88, 20, 18, 99], len(a)=12\n",
      "a=[12, 34, 48, 45, 54, 77, 31, 88, 20, 18, 99], len(a)=11\n"
     ]
    }
   ],
   "source": [
    "a = [12, 34, 48, 56, 45, 54, 77, 31, 88, 20, 18, 99]\n",
    "\n",
    "print(f\"{a=}, {len(a)=}\")\n",
    "del a[3]\n",
    "print(f\"{a=}, {len(a)=}\")\n"
   ]
  },
  {
   "cell_type": "markdown",
   "metadata": {},
   "source": [
    "The ```del``` statement deletes a reference"
   ]
  },
  {
   "cell_type": "code",
   "execution_count": 19,
   "metadata": {},
   "outputs": [
    {
     "name": "stdout",
     "output_type": "stream",
     "text": [
      "[12, 34, 48, 45, 54, 77, 31, 88, 20, 18, 99]\n"
     ]
    }
   ],
   "source": [
    "print(a)\n",
    "del a"
   ]
  },
  {
   "cell_type": "code",
   "execution_count": 20,
   "metadata": {},
   "outputs": [
    {
     "ename": "NameError",
     "evalue": "name 'a' is not defined",
     "output_type": "error",
     "traceback": [
      "\u001b[0;31m---------------------------------------------------------------------------\u001b[0m",
      "\u001b[0;31mNameError\u001b[0m                                 Traceback (most recent call last)",
      "Cell \u001b[0;32mIn[20], line 1\u001b[0m\n\u001b[0;32m----> 1\u001b[0m a\n",
      "\u001b[0;31mNameError\u001b[0m: name 'a' is not defined"
     ]
    }
   ],
   "source": [
    "a"
   ]
  },
  {
   "cell_type": "code",
   "execution_count": 21,
   "metadata": {},
   "outputs": [
    {
     "data": {
      "text/plain": [
       "'Tue Feb 27 20:32:12 2024'"
      ]
     },
     "execution_count": 21,
     "metadata": {},
     "output_type": "execute_result"
    }
   ],
   "source": [
    "import time\n",
    "time.ctime()"
   ]
  },
  {
   "cell_type": "code",
   "execution_count": 22,
   "metadata": {},
   "outputs": [],
   "source": [
    "del time.ctime\n"
   ]
  },
  {
   "cell_type": "code",
   "execution_count": 23,
   "metadata": {},
   "outputs": [
    {
     "ename": "AttributeError",
     "evalue": "module 'time' has no attribute 'ctime'",
     "output_type": "error",
     "traceback": [
      "\u001b[0;31m---------------------------------------------------------------------------\u001b[0m",
      "\u001b[0;31mAttributeError\u001b[0m                            Traceback (most recent call last)",
      "Cell \u001b[0;32mIn[23], line 1\u001b[0m\n\u001b[0;32m----> 1\u001b[0m time\u001b[38;5;241m.\u001b[39mctime()\n",
      "\u001b[0;31mAttributeError\u001b[0m: module 'time' has no attribute 'ctime'"
     ]
    }
   ],
   "source": [
    "time.ctime()"
   ]
  },
  {
   "cell_type": "code",
   "execution_count": 24,
   "metadata": {},
   "outputs": [],
   "source": [
    "del time"
   ]
  },
  {
   "cell_type": "code",
   "execution_count": 25,
   "metadata": {},
   "outputs": [
    {
     "ename": "NameError",
     "evalue": "name 'time' is not defined",
     "output_type": "error",
     "traceback": [
      "\u001b[0;31m---------------------------------------------------------------------------\u001b[0m",
      "\u001b[0;31mNameError\u001b[0m                                 Traceback (most recent call last)",
      "Cell \u001b[0;32mIn[25], line 1\u001b[0m\n\u001b[0;32m----> 1\u001b[0m time\u001b[38;5;241m.\u001b[39mlocaltime()\n",
      "\u001b[0;31mNameError\u001b[0m: name 'time' is not defined"
     ]
    }
   ],
   "source": [
    "time.localtime()"
   ]
  },
  {
   "cell_type": "code",
   "execution_count": 27,
   "metadata": {},
   "outputs": [
    {
     "name": "stdout",
     "output_type": "stream",
     "text": [
      "a=[12, 34, 48, 56, 45, 54, 77, 31, 88, 20, 18, 99], len(a)=12 id(a)=140233246078528\n",
      "a=[54, 77, 31, 88, 20, 18, 99], len(a)=7 id(a)=140233246078528\n"
     ]
    }
   ],
   "source": [
    "a = [12, 34, 48, 56, 45, 54, 77, 31, 88, 20, 18, 99]\n",
    "\n",
    "print(f\"{a=}, {len(a)=} {id(a)=}\")\n",
    "del a[:5]\n",
    "print(f\"{a=}, {len(a)=} {id(a)=}\")\n"
   ]
  },
  {
   "cell_type": "code",
   "execution_count": 28,
   "metadata": {},
   "outputs": [
    {
     "name": "stdout",
     "output_type": "stream",
     "text": [
      "a=[12, 34, 48, 56, 45, 54, 77, 31, 88, 20, 18, 99], len(a)=12 id(a)=140233246567168\n",
      "a=[34, 56, 54, 31, 20, 99], len(a)=6 id(a)=140233246567168\n"
     ]
    }
   ],
   "source": [
    "a = [12, 34, 48, 56, 45, 54, 77, 31, 88, 20, 18, 99]\n",
    "\n",
    "print(f\"{a=}, {len(a)=} {id(a)=}\")\n",
    "del a[::2]\n",
    "print(f\"{a=}, {len(a)=} {id(a)=}\")\n"
   ]
  },
  {
   "cell_type": "code",
   "execution_count": 33,
   "metadata": {},
   "outputs": [
    {
     "name": "stdout",
     "output_type": "stream",
     "text": [
      "[12, 34, 48, 2, 6, 5, 3, 31, 88, 20, 18, 99]\n",
      "[10, 12, 14, 16, 18, 2, 6, 5, 3, 31, 88, 20, 18, 99]\n",
      "['h', 'i', 2, 6, 5, 3, 31, 88, 20, 18, 99]\n"
     ]
    }
   ],
   "source": [
    "a = [12, 34, 48, 56, 45, 54, 77, 31, 88, 20, 18, 99]\n",
    "a[3:7] = 2, 6, 5, 3\n",
    "print(a)\n",
    "\n",
    "a[:3] = range(10, 20, 2)\n",
    "print(a)\n",
    "\n",
    "a[:5] = \"hi\"\n",
    "print(a)"
   ]
  },
  {
   "cell_type": "code",
   "execution_count": 35,
   "metadata": {},
   "outputs": [
    {
     "name": "stdout",
     "output_type": "stream",
     "text": [
      "[12, 34, 48, 0, 31, 88, 20, 18, 99]\n"
     ]
    }
   ],
   "source": [
    "a = [12, 34, 48, 56, 45, 54, 77, 31, 88, 20, 18, 99]\n",
    "a[3:7] = 0,\n",
    "print(a)"
   ]
  },
  {
   "cell_type": "code",
   "execution_count": 36,
   "metadata": {},
   "outputs": [
    {
     "name": "stdout",
     "output_type": "stream",
     "text": [
      "[12, 34, 48, 0, 31, 88, 20, 18, 99]\n"
     ]
    }
   ],
   "source": [
    "a = [12, 34, 48, 56, 45, 54, 77, 31, 88, 20, 18, 99]\n",
    "a[3:7] = [0]\n",
    "print(a)"
   ]
  },
  {
   "cell_type": "code",
   "execution_count": 37,
   "metadata": {},
   "outputs": [
    {
     "name": "stdout",
     "output_type": "stream",
     "text": [
      "[12, 34, 48, (100, 200, 300), 45, 54, 77, 31, 88, 20, 18, 99]\n"
     ]
    }
   ],
   "source": [
    "a = [12, 34, 48, 56, 45, 54, 77, 31, 88, 20, 18, 99]\n",
    "a[3] = 100, 200, 300\n",
    "print(a)"
   ]
  },
  {
   "cell_type": "code",
   "execution_count": 38,
   "metadata": {},
   "outputs": [
    {
     "name": "stdout",
     "output_type": "stream",
     "text": [
      "[12, 34, 48, 100, 200, 300, 56, 45, 54, 77, 31, 88, 20, 18, 99]\n"
     ]
    }
   ],
   "source": [
    "a = [12, 34, 48, 56, 45, 54, 77, 31, 88, 20, 18, 99]\n",
    "a[3:3] = 100, 200, 300\n",
    "print(a)"
   ]
  },
  {
   "cell_type": "code",
   "execution_count": 39,
   "metadata": {},
   "outputs": [
    {
     "name": "stdout",
     "output_type": "stream",
     "text": [
      "[12, 34, 48, 100, 56, 45, 54, 77, 31, 88, 20, 18, 99]\n"
     ]
    }
   ],
   "source": [
    "a = [12, 34, 48, 56, 45, 54, 77, 31, 88, 20, 18, 99]\n",
    "a[3:3] = 100,\n",
    "print(a)"
   ]
  },
  {
   "cell_type": "code",
   "execution_count": 40,
   "metadata": {},
   "outputs": [
    {
     "name": "stdout",
     "output_type": "stream",
     "text": [
      "[12, 34, 48, 100, 56, 45, 54, 77, 31, 88, 20, 18, 99]\n"
     ]
    }
   ],
   "source": [
    "a = [12, 34, 48, 56, 45, 54, 77, 31, 88, 20, 18, 99]\n",
    "a.insert(3, 100) # More obvious -- better\n",
    "print(a)"
   ]
  },
  {
   "cell_type": "code",
   "execution_count": 41,
   "metadata": {},
   "outputs": [
    {
     "ename": "TypeError",
     "evalue": "insert expected 2 arguments, got 4",
     "output_type": "error",
     "traceback": [
      "\u001b[0;31m---------------------------------------------------------------------------\u001b[0m",
      "\u001b[0;31mTypeError\u001b[0m                                 Traceback (most recent call last)",
      "Cell \u001b[0;32mIn[41], line 2\u001b[0m\n\u001b[1;32m      1\u001b[0m a \u001b[38;5;241m=\u001b[39m [\u001b[38;5;241m12\u001b[39m, \u001b[38;5;241m34\u001b[39m, \u001b[38;5;241m48\u001b[39m, \u001b[38;5;241m56\u001b[39m, \u001b[38;5;241m45\u001b[39m, \u001b[38;5;241m54\u001b[39m, \u001b[38;5;241m77\u001b[39m, \u001b[38;5;241m31\u001b[39m, \u001b[38;5;241m88\u001b[39m, \u001b[38;5;241m20\u001b[39m, \u001b[38;5;241m18\u001b[39m, \u001b[38;5;241m99\u001b[39m]\n\u001b[0;32m----> 2\u001b[0m a\u001b[38;5;241m.\u001b[39minsert(\u001b[38;5;241m3\u001b[39m, \u001b[38;5;241m100\u001b[39m, \u001b[38;5;241m200\u001b[39m, \u001b[38;5;241m300\u001b[39m)\n\u001b[1;32m      3\u001b[0m \u001b[38;5;28mprint\u001b[39m(a)\n",
      "\u001b[0;31mTypeError\u001b[0m: insert expected 2 arguments, got 4"
     ]
    }
   ],
   "source": [
    "a = [12, 34, 48, 56, 45, 54, 77, 31, 88, 20, 18, 99]\n",
    "a.insert(3, 100, 200, 300)\n",
    "print(a)"
   ]
  },
  {
   "cell_type": "code",
   "execution_count": 42,
   "metadata": {},
   "outputs": [
    {
     "name": "stdout",
     "output_type": "stream",
     "text": [
      "[12, 34, 48, [100, 200, 300], 56, 45, 54, 77, 31, 88, 20, 18, 99]\n"
     ]
    }
   ],
   "source": [
    "a = [12, 34, 48, 56, 45, 54, 77, 31, 88, 20, 18, 99]\n",
    "a.insert(3, [100, 200, 300])\n",
    "print(a)"
   ]
  },
  {
   "cell_type": "code",
   "execution_count": 43,
   "metadata": {},
   "outputs": [
    {
     "name": "stdout",
     "output_type": "stream",
     "text": [
      "[5, 10, 20, 30, 40]\n"
     ]
    }
   ],
   "source": [
    "a = [10, 20, 30, 40]\n",
    "a.insert(0, 5)\n",
    "print(a)"
   ]
  },
  {
   "cell_type": "code",
   "execution_count": 45,
   "metadata": {},
   "outputs": [
    {
     "ename": "IndexError",
     "evalue": "list index out of range",
     "output_type": "error",
     "traceback": [
      "\u001b[0;31m---------------------------------------------------------------------------\u001b[0m",
      "\u001b[0;31mIndexError\u001b[0m                                Traceback (most recent call last)",
      "Cell \u001b[0;32mIn[45], line 2\u001b[0m\n\u001b[1;32m      1\u001b[0m a \u001b[38;5;241m=\u001b[39m [\u001b[38;5;241m10\u001b[39m, \u001b[38;5;241m20\u001b[39m, \u001b[38;5;241m30\u001b[39m, \u001b[38;5;241m40\u001b[39m]\n\u001b[0;32m----> 2\u001b[0m a[\u001b[38;5;241m4\u001b[39m]\n",
      "\u001b[0;31mIndexError\u001b[0m: list index out of range"
     ]
    }
   ],
   "source": [
    "a = [10, 20, 30, 40]\n",
    "a[4]"
   ]
  },
  {
   "cell_type": "code",
   "execution_count": 46,
   "metadata": {},
   "outputs": [
    {
     "name": "stdout",
     "output_type": "stream",
     "text": [
      "[10, 20, 30, 40, 50]\n"
     ]
    }
   ],
   "source": [
    "a = [10, 20, 30, 40]\n",
    "a.insert(7, 50) # Just for demonstration, dont use code like this production\n",
    "print(a)"
   ]
  },
  {
   "cell_type": "code",
   "execution_count": 47,
   "metadata": {},
   "outputs": [
    {
     "name": "stdout",
     "output_type": "stream",
     "text": [
      "[10, 20, 30, 40, 50]\n"
     ]
    }
   ],
   "source": [
    "a = [10, 20, 30, 40]\n",
    "a.append(50)\n",
    "print(a)"
   ]
  },
  {
   "cell_type": "code",
   "execution_count": 48,
   "metadata": {},
   "outputs": [
    {
     "name": "stdout",
     "output_type": "stream",
     "text": [
      "[10, 20, 30, 40]\n",
      "[10, 20, 30, 40, [50, 60, 70]]\n"
     ]
    }
   ],
   "source": [
    "a = [10, 20, 30, 40]\n",
    "\n",
    "b = [50, 60, 70]\n",
    "\n",
    "print(a)\n",
    "a.append(b)\n",
    "print(a)"
   ]
  },
  {
   "cell_type": "code",
   "execution_count": 49,
   "metadata": {},
   "outputs": [
    {
     "name": "stdout",
     "output_type": "stream",
     "text": [
      "[10, 20, 30, 40]\n",
      "[10, 20, 30, 40, 50, 60, 70]\n"
     ]
    }
   ],
   "source": [
    "a = [10, 20, 30, 40]\n",
    "\n",
    "b = [50, 60, 70]\n",
    "\n",
    "print(a)\n",
    "a.extend(b)\n",
    "print(a)"
   ]
  },
  {
   "cell_type": "code",
   "execution_count": 50,
   "metadata": {},
   "outputs": [
    {
     "ename": "SyntaxError",
     "evalue": "invalid syntax (2441672325.py, line 3)",
     "output_type": "error",
     "traceback": [
      "\u001b[0;36m  Cell \u001b[0;32mIn[50], line 3\u001b[0;36m\u001b[0m\n\u001b[0;31m    v = del a[0]\u001b[0m\n\u001b[0m        ^\u001b[0m\n\u001b[0;31mSyntaxError\u001b[0m\u001b[0;31m:\u001b[0m invalid syntax\n"
     ]
    }
   ],
   "source": [
    "a = [10, 20, 30, 40]\n",
    "\n",
    "v = del a[0]"
   ]
  },
  {
   "cell_type": "code",
   "execution_count": 51,
   "metadata": {},
   "outputs": [
    {
     "name": "stdout",
     "output_type": "stream",
     "text": [
      "a=[20, 30, 40], v=10\n"
     ]
    }
   ],
   "source": [
    "a = [10, 20, 30, 40]\n",
    "\n",
    "v = a.pop(0)\n",
    "print(f\"{a=}, {v=}\")"
   ]
  },
  {
   "cell_type": "code",
   "execution_count": 52,
   "metadata": {},
   "outputs": [
    {
     "ename": "IndexError",
     "evalue": "pop index out of range",
     "output_type": "error",
     "traceback": [
      "\u001b[0;31m---------------------------------------------------------------------------\u001b[0m",
      "\u001b[0;31mIndexError\u001b[0m                                Traceback (most recent call last)",
      "Cell \u001b[0;32mIn[52], line 3\u001b[0m\n\u001b[1;32m      1\u001b[0m a \u001b[38;5;241m=\u001b[39m [\u001b[38;5;241m10\u001b[39m, \u001b[38;5;241m20\u001b[39m, \u001b[38;5;241m30\u001b[39m, \u001b[38;5;241m40\u001b[39m]\n\u001b[0;32m----> 3\u001b[0m v \u001b[38;5;241m=\u001b[39m a\u001b[38;5;241m.\u001b[39mpop(\u001b[38;5;241m7\u001b[39m)\n\u001b[1;32m      4\u001b[0m \u001b[38;5;28mprint\u001b[39m(\u001b[38;5;124mf\u001b[39m\u001b[38;5;124m\"\u001b[39m\u001b[38;5;132;01m{\u001b[39;00ma\u001b[38;5;132;01m=}\u001b[39;00m\u001b[38;5;124m, \u001b[39m\u001b[38;5;132;01m{\u001b[39;00mv\u001b[38;5;132;01m=}\u001b[39;00m\u001b[38;5;124m\"\u001b[39m)\n",
      "\u001b[0;31mIndexError\u001b[0m: pop index out of range"
     ]
    }
   ],
   "source": [
    "a = [10, 20, 30, 40]\n",
    "\n",
    "v = a.pop(7)\n",
    "print(f\"{a=}, {v=}\")"
   ]
  },
  {
   "cell_type": "code",
   "execution_count": 53,
   "metadata": {},
   "outputs": [
    {
     "name": "stdout",
     "output_type": "stream",
     "text": [
      "a=[10, 20, 30], v=40\n"
     ]
    }
   ],
   "source": [
    "a = [10, 20, 30, 40]\n",
    "\n",
    "v = a.pop()\n",
    "print(f\"{a=}, {v=}\")"
   ]
  },
  {
   "cell_type": "code",
   "execution_count": 54,
   "metadata": {},
   "outputs": [
    {
     "name": "stdout",
     "output_type": "stream",
     "text": [
      "a=[45]\n",
      "a=[45, 34]\n",
      "a=[45, 34, 78]\n",
      "a=[45, 34, 78, 12]\n",
      "a=[45, 34, 78, 12, 62]\n",
      "Popping items...\n",
      "Popped v=62, a=[45, 34, 78, 12]\n",
      "Popped v=12, a=[45, 34, 78]\n",
      "Popped v=78, a=[45, 34]\n",
      "Popped v=34, a=[45]\n",
      "Popped v=45, a=[]\n"
     ]
    }
   ],
   "source": [
    "# Stack operation example using a list.\n",
    "\n",
    "a = []\n",
    "\n",
    "while (v := int(input(\"Enter a number or 0 to stop: \"))):\n",
    "    a.append(v)\n",
    "    print(f\"{a=}\")\n",
    "\n",
    "print(\"Popping items...\")\n",
    "while a:\n",
    "    v = a.pop()\n",
    "    print(f\"Popped {v=}, {a=}\")\n",
    "\n",
    "       "
   ]
  }
 ],
 "metadata": {
  "kernelspec": {
   "display_name": "base",
   "language": "python",
   "name": "python3"
  },
  "language_info": {
   "codemirror_mode": {
    "name": "ipython",
    "version": 3
   },
   "file_extension": ".py",
   "mimetype": "text/x-python",
   "name": "python",
   "nbconvert_exporter": "python",
   "pygments_lexer": "ipython3",
   "version": "3.11.5"
  }
 },
 "nbformat": 4,
 "nbformat_minor": 2
}
