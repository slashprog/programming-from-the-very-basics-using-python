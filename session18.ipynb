{
 "cells": [
  {
   "cell_type": "markdown",
   "metadata": {},
   "source": [
    "## Programming From The Very Basics Using Python - Session 18\n",
    "#### Working with Strings - More string methods\n"
   ]
  },
  {
   "cell_type": "code",
   "execution_count": 9,
   "metadata": {},
   "outputs": [
    {
     "data": {
      "text/plain": [
       "False"
      ]
     },
     "execution_count": 9,
     "metadata": {},
     "output_type": "execute_result"
    }
   ],
   "source": [
    "a = \"thIs is a test string with a couple of words\"\n",
    "a.startswith(\"this\")"
   ]
  },
  {
   "cell_type": "code",
   "execution_count": 10,
   "metadata": {},
   "outputs": [
    {
     "data": {
      "text/plain": [
       "True"
      ]
     },
     "execution_count": 10,
     "metadata": {},
     "output_type": "execute_result"
    }
   ],
   "source": [
    "s = \"this\"\n",
    "a.lower().startswith(s)"
   ]
  },
  {
   "cell_type": "code",
   "execution_count": 13,
   "metadata": {},
   "outputs": [
    {
     "data": {
      "text/plain": [
       "True"
      ]
     },
     "execution_count": 13,
     "metadata": {},
     "output_type": "execute_result"
    }
   ],
   "source": [
    "a[:len(s)].lower() == s"
   ]
  },
  {
   "cell_type": "code",
   "execution_count": 14,
   "metadata": {},
   "outputs": [
    {
     "name": "stdout",
     "output_type": "stream",
     "text": [
      "139 ns ± 4.14 ns per loop (mean ± std. dev. of 7 runs, 10,000,000 loops each)\n"
     ]
    }
   ],
   "source": [
    "%timeit a.lower().startswith(s)"
   ]
  },
  {
   "cell_type": "code",
   "execution_count": 15,
   "metadata": {},
   "outputs": [
    {
     "name": "stdout",
     "output_type": "stream",
     "text": [
      "127 ns ± 3.56 ns per loop (mean ± std. dev. of 7 runs, 10,000,000 loops each)\n"
     ]
    }
   ],
   "source": [
    "%timeit a[:len(s)].lower() == s"
   ]
  },
  {
   "cell_type": "code",
   "execution_count": 19,
   "metadata": {},
   "outputs": [],
   "source": [
    "a *= 100"
   ]
  },
  {
   "cell_type": "code",
   "execution_count": 20,
   "metadata": {},
   "outputs": [
    {
     "name": "stdout",
     "output_type": "stream",
     "text": [
      "3.86 µs ± 148 ns per loop (mean ± std. dev. of 7 runs, 100,000 loops each)\n"
     ]
    }
   ],
   "source": [
    "%timeit a.lower().startswith(s)"
   ]
  },
  {
   "cell_type": "code",
   "execution_count": 21,
   "metadata": {},
   "outputs": [
    {
     "name": "stdout",
     "output_type": "stream",
     "text": [
      "119 ns ± 3.89 ns per loop (mean ± std. dev. of 7 runs, 10,000,000 loops each)\n"
     ]
    }
   ],
   "source": [
    "%timeit a[:len(s)].lower() == s"
   ]
  },
  {
   "cell_type": "code",
   "execution_count": 24,
   "metadata": {},
   "outputs": [
    {
     "data": {
      "text/plain": [
       "'this is a : test'"
      ]
     },
     "execution_count": 24,
     "metadata": {},
     "output_type": "execute_result"
    }
   ],
   "source": [
    "a = \"::::this is a : test::::\"\n",
    "a.strip(\":\")"
   ]
  },
  {
   "cell_type": "code",
   "execution_count": 26,
   "metadata": {},
   "outputs": [
    {
     "data": {
      "text/plain": [
       "['this', 'is', 'a', 'test', 'string']"
      ]
     },
     "execution_count": 26,
     "metadata": {},
     "output_type": "execute_result"
    }
   ],
   "source": [
    "# An example of a string with variable whitespace delimiter\n",
    "a = \"this\\t\\t\\r\\nis a\\n\\n\\n\\n\\r\\ttest    string\"\n",
    "a.split() # splits a string based on variable length whitespace delimiter"
   ]
  },
  {
   "cell_type": "code",
   "execution_count": 29,
   "metadata": {},
   "outputs": [
    {
     "name": "stdout",
     "output_type": "stream",
     "text": [
      "56\n",
      "10\n"
     ]
    },
    {
     "data": {
      "text/plain": [
       "['In',\n",
       " 'the',\n",
       " 'face',\n",
       " 'of',\n",
       " 'ambiguity,',\n",
       " 'refuse',\n",
       " 'the',\n",
       " 'temptation',\n",
       " 'to',\n",
       " 'guess']"
      ]
     },
     "execution_count": 29,
     "metadata": {},
     "output_type": "execute_result"
    }
   ],
   "source": [
    "s = \"In the face of ambiguity, refuse the temptation to guess\"\n",
    "print(len(s))\n",
    "print(len(s.split()))\n",
    "s.split()"
   ]
  },
  {
   "cell_type": "code",
   "execution_count": 30,
   "metadata": {},
   "outputs": [
    {
     "name": "stdout",
     "output_type": "stream",
     "text": [
      "The Zen of Python, by Tim Peters\n",
      "\n",
      "Beautiful is better than ugly.\n",
      "Explicit is better than implicit.\n",
      "Simple is better than complex.\n",
      "Complex is better than complicated.\n",
      "Flat is better than nested.\n",
      "Sparse is better than dense.\n",
      "Readability counts.\n",
      "Special cases aren't special enough to break the rules.\n",
      "Although practicality beats purity.\n",
      "Errors should never pass silently.\n",
      "Unless explicitly silenced.\n",
      "In the face of ambiguity, refuse the temptation to guess.\n",
      "There should be one-- and preferably only one --obvious way to do it.\n",
      "Although that way may not be obvious at first unless you're Dutch.\n",
      "Now is better than never.\n",
      "Although never is often better than *right* now.\n",
      "If the implementation is hard to explain, it's a bad idea.\n",
      "If the implementation is easy to explain, it may be a good idea.\n",
      "Namespaces are one honking great idea -- let's do more of those!\n"
     ]
    }
   ],
   "source": [
    "import this"
   ]
  },
  {
   "cell_type": "code",
   "execution_count": 32,
   "metadata": {},
   "outputs": [],
   "source": [
    "zen = '''\n",
    "The Zen of Python, by Tim Peters\n",
    "\n",
    "Beautiful is better than ugly.\n",
    "Explicit is better than implicit.\n",
    "Simple is better than complex.\n",
    "Complex is better than complicated.\n",
    "Flat is better than nested.\n",
    "Sparse is better than dense.\n",
    "Readability counts.\n",
    "Special cases aren't special enough to break the rules.\n",
    "Although practicality beats purity.\n",
    "Errors should never pass silently.\n",
    "Unless explicitly silenced.\n",
    "In the face of ambiguity, refuse the temptation to guess.\n",
    "There should be one-- and preferably only one --obvious way to do it.\n",
    "Although that way may not be obvious at first unless you're Dutch.\n",
    "Now is better than never.\n",
    "Although never is often better than *right* now.\n",
    "If the implementation is hard to explain, it's a bad idea.\n",
    "If the implementation is easy to explain, it may be a good idea.\n",
    "Namespaces are one honking great idea -- let's do more of those!\n",
    "'''"
   ]
  },
  {
   "cell_type": "code",
   "execution_count": 35,
   "metadata": {},
   "outputs": [
    {
     "name": "stdout",
     "output_type": "stream",
     "text": [
      "Number of characters = 858\n",
      "Number of words = 144\n",
      "Number of lines = 22\n"
     ]
    }
   ],
   "source": [
    "print(\"Number of characters =\", len(zen))\n",
    "print(\"Number of words =\", len(zen.split()))\n",
    "print(\"Number of lines =\", len(zen.splitlines()))"
   ]
  },
  {
   "cell_type": "code",
   "execution_count": 39,
   "metadata": {},
   "outputs": [
    {
     "name": "stdout",
     "output_type": "stream",
     "text": [
      "\n",
      " T h e   Z e n   o f   P y t h o n ,   b y   T i m   P e t e r s \n",
      " \n",
      " B e a u t i f u l   i s   b e t t e r   t h a n   u g l y . \n",
      " E x p l i c i t   i s   b e t t e r   t h a n   i m p l i c i t . \n",
      " S i m p l e   i s   b e t t e r   t h a n   c o m p l e x . \n",
      " C o m p l e x   i s   b e t t e r   t h a n   c o m p l i c a t e d . \n",
      " F l a t   i s   b e t t e r   t h a n   n e s t e d . \n",
      " S p a r s e   i s   b e t t e r   t h a n   d e n s e . \n",
      " R e a d a b i l i t y   c o u n t s . \n",
      " S p e c i a l   c a s e s   a r e n ' t   s p e c i a l   e n o u g h   t o   b r e a k   t h e   r u l e s . \n",
      " A l t h o u g h   p r a c t i c a l i t y   b e a t s   p u r i t y . \n",
      " E r r o r s   s h o u l d   n e v e r   p a s s   s i l e n t l y . \n",
      " U n l e s s   e x p l i c i t l y   s i l e n c e d . \n",
      " I n   t h e   f a c e   o f   a m b i g u i t y ,   r e f u s e   t h e   t e m p t a t i o n   t o   g u e s s . \n",
      " T h e r e   s h o u l d   b e   o n e - -   a n d   p r e f e r a b l y   o n l y   o n e   - - o b v i o u s   w a y   t o   d o   i t . \n",
      " A l t h o u g h   t h a t   w a y   m a y   n o t   b e   o b v i o u s   a t   f i r s t   u n l e s s   y o u ' r e   D u t c h . \n",
      " N o w   i s   b e t t e r   t h a n   n e v e r . \n",
      " A l t h o u g h   n e v e r   i s   o f t e n   b e t t e r   t h a n   * r i g h t *   n o w . \n",
      " I f   t h e   i m p l e m e n t a t i o n   i s   h a r d   t o   e x p l a i n ,   i t ' s   a   b a d   i d e a . \n",
      " I f   t h e   i m p l e m e n t a t i o n   i s   e a s y   t o   e x p l a i n ,   i t   m a y   b e   a   g o o d   i d e a . \n",
      " N a m e s p a c e s   a r e   o n e   h o n k i n g   g r e a t   i d e a   - -   l e t ' s   d o   m o r e   o f   t h o s e ! \n",
      " "
     ]
    }
   ],
   "source": [
    "for c in zen: \n",
    "    print(c, end=\" \")"
   ]
  },
  {
   "cell_type": "code",
   "execution_count": 41,
   "metadata": {},
   "outputs": [
    {
     "name": "stdout",
     "output_type": "stream",
     "text": [
      "The\n",
      "Zen\n",
      "of\n",
      "Python,\n",
      "by\n",
      "Tim\n",
      "Peters\n",
      "Beautiful\n",
      "is\n",
      "better\n",
      "than\n",
      "ugly.\n",
      "Explicit\n",
      "is\n",
      "better\n",
      "than\n",
      "implicit.\n",
      "Simple\n",
      "is\n",
      "better\n",
      "than\n",
      "complex.\n",
      "Complex\n",
      "is\n",
      "better\n",
      "than\n",
      "complicated.\n",
      "Flat\n",
      "is\n",
      "better\n",
      "than\n",
      "nested.\n",
      "Sparse\n",
      "is\n",
      "better\n",
      "than\n",
      "dense.\n",
      "Readability\n",
      "counts.\n",
      "Special\n",
      "cases\n",
      "aren't\n",
      "special\n",
      "enough\n",
      "to\n",
      "break\n",
      "the\n",
      "rules.\n",
      "Although\n",
      "practicality\n",
      "beats\n",
      "purity.\n",
      "Errors\n",
      "should\n",
      "never\n",
      "pass\n",
      "silently.\n",
      "Unless\n",
      "explicitly\n",
      "silenced.\n",
      "In\n",
      "the\n",
      "face\n",
      "of\n",
      "ambiguity,\n",
      "refuse\n",
      "the\n",
      "temptation\n",
      "to\n",
      "guess.\n",
      "There\n",
      "should\n",
      "be\n",
      "one--\n",
      "and\n",
      "preferably\n",
      "only\n",
      "one\n",
      "--obvious\n",
      "way\n",
      "to\n",
      "do\n",
      "it.\n",
      "Although\n",
      "that\n",
      "way\n",
      "may\n",
      "not\n",
      "be\n",
      "obvious\n",
      "at\n",
      "first\n",
      "unless\n",
      "you're\n",
      "Dutch.\n",
      "Now\n",
      "is\n",
      "better\n",
      "than\n",
      "never.\n",
      "Although\n",
      "never\n",
      "is\n",
      "often\n",
      "better\n",
      "than\n",
      "*right*\n",
      "now.\n",
      "If\n",
      "the\n",
      "implementation\n",
      "is\n",
      "hard\n",
      "to\n",
      "explain,\n",
      "it's\n",
      "a\n",
      "bad\n",
      "idea.\n",
      "If\n",
      "the\n",
      "implementation\n",
      "is\n",
      "easy\n",
      "to\n",
      "explain,\n",
      "it\n",
      "may\n",
      "be\n",
      "a\n",
      "good\n",
      "idea.\n",
      "Namespaces\n",
      "are\n",
      "one\n",
      "honking\n",
      "great\n",
      "idea\n",
      "--\n",
      "let's\n",
      "do\n",
      "more\n",
      "of\n",
      "those!\n"
     ]
    }
   ],
   "source": [
    "for word in zen.split(): \n",
    "    print(word)"
   ]
  },
  {
   "cell_type": "code",
   "execution_count": 47,
   "metadata": {},
   "outputs": [
    {
     "name": "stdout",
     "output_type": "stream",
     "text": [
      "01 - \n",
      "02 - The Zen of Python, by Tim Peters\n",
      "03 - \n",
      "04 - Beautiful is better than ugly.\n",
      "05 - Explicit is better than implicit.\n",
      "06 - Simple is better than complex.\n",
      "07 - Complex is better than complicated.\n",
      "08 - Flat is better than nested.\n",
      "09 - Sparse is better than dense.\n",
      "10 - Readability counts.\n",
      "11 - Special cases aren't special enough to break the rules.\n",
      "12 - Although practicality beats purity.\n",
      "13 - Errors should never pass silently.\n",
      "14 - Unless explicitly silenced.\n",
      "15 - In the face of ambiguity, refuse the temptation to guess.\n",
      "16 - There should be one-- and preferably only one --obvious way to do it.\n",
      "17 - Although that way may not be obvious at first unless you're Dutch.\n",
      "18 - Now is better than never.\n",
      "19 - Although never is often better than *right* now.\n",
      "20 - If the implementation is hard to explain, it's a bad idea.\n",
      "21 - If the implementation is easy to explain, it may be a good idea.\n",
      "22 - Namespaces are one honking great idea -- let's do more of those!\n"
     ]
    }
   ],
   "source": [
    "for line_num, line in enumerate(zen.splitlines(), 1): \n",
    "    print(f\"{line_num:02} - {line}\")"
   ]
  },
  {
   "cell_type": "code",
   "execution_count": 48,
   "metadata": {},
   "outputs": [
    {
     "name": "stdout",
     "output_type": "stream",
     "text": [
      "name='john', age='50', place='delaware'\n"
     ]
    }
   ],
   "source": [
    "d = \"john,50,delaware\"\n",
    "\n",
    "name, age, place = d.split(\",\")\n",
    "print(f\"{name=}, {age=}, {place=}\")"
   ]
  },
  {
   "cell_type": "code",
   "execution_count": 49,
   "metadata": {},
   "outputs": [
    {
     "name": "stdout",
     "output_type": "stream",
     "text": [
      "name='john', age='', place='delaware'\n"
     ]
    }
   ],
   "source": [
    "d = \"john,,delaware\"\n",
    "\n",
    "name, age, place = d.split(\",\")\n",
    "print(f\"{name=}, {age=}, {place=}\")"
   ]
  },
  {
   "cell_type": "code",
   "execution_count": 52,
   "metadata": {},
   "outputs": [
    {
     "name": "stdout",
     "output_type": "stream",
     "text": [
      "['this', 'is', 'a', 'test', 'string']\n",
      "['this', '', '', '', 'is', 'a\\ttest', 'string']\n"
     ]
    }
   ],
   "source": [
    "a = \"this    is a\\ttest string\"\n",
    "print(a.split())\n",
    "print(a.split(\" \"))"
   ]
  },
  {
   "cell_type": "code",
   "execution_count": 54,
   "metadata": {},
   "outputs": [
    {
     "name": "stdout",
     "output_type": "stream",
     "text": [
      "['In', 'the', 'face', 'of ambiguity, refuse the temptation to guess.']\n"
     ]
    }
   ],
   "source": [
    "a = \"In the face of ambiguity, refuse the temptation to guess.\"\n",
    "print(a.split(maxsplit=3))"
   ]
  },
  {
   "cell_type": "code",
   "execution_count": null,
   "metadata": {},
   "outputs": [],
   "source": [
    "a.split()"
   ]
  },
  {
   "cell_type": "code",
   "execution_count": 57,
   "metadata": {},
   "outputs": [
    {
     "name": "stdout",
     "output_type": "stream",
     "text": [
      "['jane', 'mary', 'alice', 'tom']\n",
      "janemaryalicetom\n",
      "jane,mary,alice,tom\n"
     ]
    }
   ],
   "source": [
    "u = [\"jane\", \"mary\", \"alice\", \"tom\"]\n",
    "print(u)\n",
    "\n",
    "s = \"\".join(u)\n",
    "print(s)\n",
    "\n",
    "s1 = \",\".join(u) # \"glue-string\".join(iterable-of-strings)\n",
    "print(s1)"
   ]
  },
  {
   "cell_type": "code",
   "execution_count": 58,
   "metadata": {},
   "outputs": [
    {
     "data": {
      "text/plain": [
       "True"
      ]
     },
     "execution_count": 58,
     "metadata": {},
     "output_type": "execute_result"
    }
   ],
   "source": [
    "a = \"In the face of ambiguity, refuse the temptation to guess.\"\n",
    "\"the\" in a"
   ]
  },
  {
   "cell_type": "code",
   "execution_count": 64,
   "metadata": {},
   "outputs": [
    {
     "data": {
      "text/plain": [
       "7"
      ]
     },
     "execution_count": 64,
     "metadata": {},
     "output_type": "execute_result"
    }
   ],
   "source": [
    "zen.casefold().count(\"the\")"
   ]
  },
  {
   "cell_type": "code",
   "execution_count": 66,
   "metadata": {},
   "outputs": [
    {
     "name": "stdout",
     "output_type": "stream",
     "text": [
      "\n",
      "The Zen of Python, by Tim Peters\n",
      "\n",
      "Beautiful is better than ugly.\n",
      "Explicit is better than implicit.\n",
      "Simple is better than complex.\n",
      "Complex is better than complicated.\n",
      "Flat is better than nested.\n",
      "Sparse is better than dense.\n",
      "Readability counts.\n",
      "Special cases aren't special enough to break the rules.\n",
      "Although practicality beats purity.\n",
      "Errors should never pass silently.\n",
      "Unless explicitly silenced.\n",
      "In the face of ambiguity, refuse the temptation to guess.\n",
      "There should be one-- and preferably only one --obvious way to do it.\n",
      "Although that way may not be obvious at first unless you're Dutch.\n",
      "Now is better than never.\n",
      "Although never is often better than *right* now.\n",
      "If the implementation is hard to explain, it's a bad idea.\n",
      "If the implementation is easy to explain, it may be a good idea.\n",
      "Namespaces are one honking great idea -- let's do more of those!\n",
      "\n"
     ]
    }
   ],
   "source": [
    "print(zen)"
   ]
  },
  {
   "cell_type": "code",
   "execution_count": 65,
   "metadata": {},
   "outputs": [
    {
     "data": {
      "text/plain": [
       "10"
      ]
     },
     "execution_count": 65,
     "metadata": {},
     "output_type": "execute_result"
    }
   ],
   "source": [
    "zen.count(\"is\")"
   ]
  },
  {
   "cell_type": "code",
   "execution_count": 73,
   "metadata": {},
   "outputs": [
    {
     "data": {
      "text/plain": [
       "0"
      ]
     },
     "execution_count": 73,
     "metadata": {},
     "output_type": "execute_result"
    }
   ],
   "source": [
    "s = \"this is a test string with is test is and test is repeated this test many times\"\n",
    "s.count(\"text\")"
   ]
  },
  {
   "cell_type": "code",
   "execution_count": 72,
   "metadata": {},
   "outputs": [
    {
     "ename": "ValueError",
     "evalue": "substring not found",
     "output_type": "error",
     "traceback": [
      "\u001b[0;31m---------------------------------------------------------------------------\u001b[0m",
      "\u001b[0;31mValueError\u001b[0m                                Traceback (most recent call last)",
      "Cell \u001b[0;32mIn[72], line 1\u001b[0m\n\u001b[0;32m----> 1\u001b[0m s\u001b[38;5;241m.\u001b[39mindex(\u001b[38;5;124m\"\u001b[39m\u001b[38;5;124mtext\u001b[39m\u001b[38;5;124m\"\u001b[39m)\n",
      "\u001b[0;31mValueError\u001b[0m: substring not found"
     ]
    }
   ],
   "source": [
    "s.index(\"text\")"
   ]
  },
  {
   "cell_type": "code",
   "execution_count": 80,
   "metadata": {},
   "outputs": [
    {
     "name": "stdout",
     "output_type": "stream",
     "text": [
      "this is a test string with is test is and test is repeated this test many times\n",
      "0\n",
      "-1\n",
      "10\n"
     ]
    }
   ],
   "source": [
    "print(s)\n",
    "print(s.find(\"this\"))\n",
    "print(s.find(\"text\"))\n",
    "print(s.find(\"test\"))"
   ]
  },
  {
   "cell_type": "code",
   "execution_count": 86,
   "metadata": {},
   "outputs": [
    {
     "name": "stdout",
     "output_type": "stream",
     "text": [
      "this is a test string with is test is and test is repeated this test many times\n",
      "10\n",
      "30\n",
      "42\n",
      "64\n",
      "-1\n"
     ]
    }
   ],
   "source": [
    "print(s)\n",
    "print(s.find(\"test\"))\n",
    "print(s.find(\"test\", 14))\n",
    "print(s.find(\"test\", 34))\n",
    "print(s.find(\"test\", 46))\n",
    "print(s.find(\"test\", 68))"
   ]
  },
  {
   "cell_type": "code",
   "execution_count": null,
   "metadata": {},
   "outputs": [],
   "source": [
    "# Exercise: Implement the logic the in function findall() that must\n",
    "# return the index of each occurrence of substring in main_string.\n",
    "\n",
    "\n",
    "s = \"this is a test string with test and test repeated this test many times\"\n",
    "def findall(main_string, substring):\n",
    "    pass # TODO: Implement your logic!\n",
    "\n",
    "findall(s, \"this\")\n"
   ]
  }
 ],
 "metadata": {
  "kernelspec": {
   "display_name": "base",
   "language": "python",
   "name": "python3"
  },
  "language_info": {
   "codemirror_mode": {
    "name": "ipython",
    "version": 3
   },
   "file_extension": ".py",
   "mimetype": "text/x-python",
   "name": "python",
   "nbconvert_exporter": "python",
   "pygments_lexer": "ipython3",
   "version": "3.11.5"
  }
 },
 "nbformat": 4,
 "nbformat_minor": 2
}
